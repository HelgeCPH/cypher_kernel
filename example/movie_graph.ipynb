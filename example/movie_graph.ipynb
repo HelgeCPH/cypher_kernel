{
 "cells": [
  {
   "cell_type": "markdown",
   "metadata": {},
   "source": [
    "This notebook is adapted from the _movie-graph_ playbook, which is part of the Neo4j Community Edition and which can be started there via `:play movie-graph`."
   ]
  },
  {
   "cell_type": "markdown",
   "metadata": {
    "slideshow": {
     "slide_type": "slide"
    }
   },
   "source": [
    "# Movie Graph\n",
    "\n",
    "#### Pop-cultural connections between actors and movies\n",
    "\n",
    "\n",
    "The Movie Graph is a mini graph application containing actors and directors that are related through the movies they've collaborated on.\n",
    "\n",
    "This guide will show you how to:\n",
    "\n",
    "  1. Create: insert movie data into the graph\n",
    "  2. Find: retrieve individual movies and actors\n",
    "  3. Query: discover related actors and directors\n",
    "  4. Solve: the Bacon Path"
   ]
  },
  {
   "cell_type": "markdown",
   "metadata": {
    "slideshow": {
     "slide_type": "slide"
    }
   },
   "source": [
    "## Create\n",
    "\n",
    "In the file `create_movie_graph.cql` contains a giant code block containing a single Cypher query statement composed of multiple CREATE clauses. This will create the movie graph.\n",
    "\n",
    "  1. Run (`CTRL+Return`) the Bash script below to create the data in your DB.\n",
    "  2. Wait for the query to finish\n",
    "  3. **WARNING**: This adds data to the current database, each time it is run!"
   ]
  },
  {
   "cell_type": "code",
   "execution_count": 9,
   "metadata": {
    "slideshow": {
     "slide_type": "fragment"
    }
   },
   "outputs": [
    {
     "data": {
      "text/plain": []
     },
     "execution_count": 9,
     "metadata": {},
     "output_type": "execute_result"
    }
   ],
   "source": [
    "CREATE (TheMatrix:Movie {title:'The Matrix', released:1999, tagline:'Welcome to the Real World'})\n",
    "CREATE (Keanu:Person {name:'Keanu Reeves', born:1964})\n",
    "CREATE (Carrie:Person {name:'Carrie-Anne Moss', born:1967})\n",
    "CREATE (Laurence:Person {name:'Laurence Fishburne', born:1961})\n",
    "CREATE (Hugo:Person {name:'Hugo Weaving', born:1960})\n",
    "CREATE (LillyW:Person {name:'Lilly Wachowski', born:1967})\n",
    "CREATE (LanaW:Person {name:'Lana Wachowski', born:1965})\n",
    "CREATE (JoelS:Person {name:'Joel Silver', born:1952})\n",
    "CREATE\n",
    "  (Keanu)-[:ACTED_IN {roles:['Neo']}]->(TheMatrix),\n",
    "  (Carrie)-[:ACTED_IN {roles:['Trinity']}]->(TheMatrix),\n",
    "  (Laurence)-[:ACTED_IN {roles:['Morpheus']}]->(TheMatrix),\n",
    "  (Hugo)-[:ACTED_IN {roles:['Agent Smith']}]->(TheMatrix),\n",
    "  (LillyW)-[:DIRECTED]->(TheMatrix),\n",
    "  (LanaW)-[:DIRECTED]->(TheMatrix),\n",
    "  (JoelS)-[:PRODUCED]->(TheMatrix)\n",
    "\n",
    "CREATE (Emil:Person {name:\"Emil Eifrem\", born:1978})\n",
    "CREATE (Emil)-[:ACTED_IN {roles:[\"Emil\"]}]->(TheMatrix)\n",
    "\n",
    "CREATE (TheMatrixReloaded:Movie {title:'The Matrix Reloaded', released:2003, tagline:'Free your mind'})\n",
    "CREATE\n",
    "  (Keanu)-[:ACTED_IN {roles:['Neo']}]->(TheMatrixReloaded),\n",
    "  (Carrie)-[:ACTED_IN {roles:['Trinity']}]->(TheMatrixReloaded),\n",
    "  (Laurence)-[:ACTED_IN {roles:['Morpheus']}]->(TheMatrixReloaded),\n",
    "  (Hugo)-[:ACTED_IN {roles:['Agent Smith']}]->(TheMatrixReloaded),\n",
    "  (LillyW)-[:DIRECTED]->(TheMatrixReloaded),\n",
    "  (LanaW)-[:DIRECTED]->(TheMatrixReloaded),\n",
    "  (JoelS)-[:PRODUCED]->(TheMatrixReloaded)\n",
    "\n",
    "CREATE (TheMatrixRevolutions:Movie {title:'The Matrix Revolutions', released:2003, tagline:'Everything that has a beginning has an end'})\n",
    "CREATE\n",
    "  (Keanu)-[:ACTED_IN {roles:['Neo']}]->(TheMatrixRevolutions),\n",
    "  (Carrie)-[:ACTED_IN {roles:['Trinity']}]->(TheMatrixRevolutions),\n",
    "  (Laurence)-[:ACTED_IN {roles:['Morpheus']}]->(TheMatrixRevolutions),\n",
    "  (Hugo)-[:ACTED_IN {roles:['Agent Smith']}]->(TheMatrixRevolutions),\n",
    "  (LillyW)-[:DIRECTED]->(TheMatrixRevolutions),\n",
    "  (LanaW)-[:DIRECTED]->(TheMatrixRevolutions),\n",
    "  (JoelS)-[:PRODUCED]->(TheMatrixRevolutions)\n",
    "\n",
    "CREATE (TheDevilsAdvocate:Movie {title:\"The Devil's Advocate\", released:1997, tagline:'Evil has its winning ways'})\n",
    "CREATE (Charlize:Person {name:'Charlize Theron', born:1975})\n",
    "CREATE (Al:Person {name:'Al Pacino', born:1940})\n",
    "CREATE (Taylor:Person {name:'Taylor Hackford', born:1944})\n",
    "CREATE\n",
    "  (Keanu)-[:ACTED_IN {roles:['Kevin Lomax']}]->(TheDevilsAdvocate),\n",
    "  (Charlize)-[:ACTED_IN {roles:['Mary Ann Lomax']}]->(TheDevilsAdvocate),\n",
    "  (Al)-[:ACTED_IN {roles:['John Milton']}]->(TheDevilsAdvocate),\n",
    "  (Taylor)-[:DIRECTED]->(TheDevilsAdvocate)\n",
    "\n",
    "CREATE (AFewGoodMen:Movie {title:\"A Few Good Men\", released:1992, tagline:\"In the heart of the nation's capital, in a courthouse of the U.S. government, one man will stop at nothing to keep his honor, and one will stop at nothing to find the truth.\"})\n",
    "CREATE (TomC:Person {name:'Tom Cruise', born:1962})\n",
    "CREATE (JackN:Person {name:'Jack Nicholson', born:1937})\n",
    "CREATE (DemiM:Person {name:'Demi Moore', born:1962})\n",
    "CREATE (KevinB:Person {name:'Kevin Bacon', born:1958})\n",
    "CREATE (KieferS:Person {name:'Kiefer Sutherland', born:1966})\n",
    "CREATE (NoahW:Person {name:'Noah Wyle', born:1971})\n",
    "CREATE (CubaG:Person {name:'Cuba Gooding Jr.', born:1968})\n",
    "CREATE (KevinP:Person {name:'Kevin Pollak', born:1957})\n",
    "CREATE (JTW:Person {name:'J.T. Walsh', born:1943})\n",
    "CREATE (JamesM:Person {name:'James Marshall', born:1967})\n",
    "CREATE (ChristopherG:Person {name:'Christopher Guest', born:1948})\n",
    "CREATE (RobR:Person {name:'Rob Reiner', born:1947})\n",
    "CREATE (AaronS:Person {name:'Aaron Sorkin', born:1961})\n",
    "CREATE\n",
    "  (TomC)-[:ACTED_IN {roles:['Lt. Daniel Kaffee']}]->(AFewGoodMen),\n",
    "  (JackN)-[:ACTED_IN {roles:['Col. Nathan R. Jessup']}]->(AFewGoodMen),\n",
    "  (DemiM)-[:ACTED_IN {roles:['Lt. Cdr. JoAnne Galloway']}]->(AFewGoodMen),\n",
    "  (KevinB)-[:ACTED_IN {roles:['Capt. Jack Ross']}]->(AFewGoodMen),\n",
    "  (KieferS)-[:ACTED_IN {roles:['Lt. Jonathan Kendrick']}]->(AFewGoodMen),\n",
    "  (NoahW)-[:ACTED_IN {roles:['Cpl. Jeffrey Barnes']}]->(AFewGoodMen),\n",
    "  (CubaG)-[:ACTED_IN {roles:['Cpl. Carl Hammaker']}]->(AFewGoodMen),\n",
    "  (KevinP)-[:ACTED_IN {roles:['Lt. Sam Weinberg']}]->(AFewGoodMen),\n",
    "  (JTW)-[:ACTED_IN {roles:['Lt. Col. Matthew Andrew Markinson']}]->(AFewGoodMen),\n",
    "  (JamesM)-[:ACTED_IN {roles:['Pfc. Louden Downey']}]->(AFewGoodMen),\n",
    "  (ChristopherG)-[:ACTED_IN {roles:['Dr. Stone']}]->(AFewGoodMen),\n",
    "  (AaronS)-[:ACTED_IN {roles:['Man in Bar']}]->(AFewGoodMen),\n",
    "  (RobR)-[:DIRECTED]->(AFewGoodMen),\n",
    "  (AaronS)-[:WROTE]->(AFewGoodMen)\n",
    "\n",
    "CREATE (TopGun:Movie {title:\"Top Gun\", released:1986, tagline:'I feel the need, the need for speed.'})\n",
    "CREATE (KellyM:Person {name:'Kelly McGillis', born:1957})\n",
    "CREATE (ValK:Person {name:'Val Kilmer', born:1959})\n",
    "CREATE (AnthonyE:Person {name:'Anthony Edwards', born:1962})\n",
    "CREATE (TomS:Person {name:'Tom Skerritt', born:1933})\n",
    "CREATE (MegR:Person {name:'Meg Ryan', born:1961})\n",
    "CREATE (TonyS:Person {name:'Tony Scott', born:1944})\n",
    "CREATE (JimC:Person {name:'Jim Cash', born:1941})\n",
    "CREATE\n",
    "  (TomC)-[:ACTED_IN {roles:['Maverick']}]->(TopGun),\n",
    "  (KellyM)-[:ACTED_IN {roles:['Charlie']}]->(TopGun),\n",
    "  (ValK)-[:ACTED_IN {roles:['Iceman']}]->(TopGun),\n",
    "  (AnthonyE)-[:ACTED_IN {roles:['Goose']}]->(TopGun),\n",
    "  (TomS)-[:ACTED_IN {roles:['Viper']}]->(TopGun),\n",
    "  (MegR)-[:ACTED_IN {roles:['Carole']}]->(TopGun),\n",
    "  (TonyS)-[:DIRECTED]->(TopGun),\n",
    "  (JimC)-[:WROTE]->(TopGun)\n",
    "\n",
    "CREATE (JerryMaguire:Movie {title:'Jerry Maguire', released:2000, tagline:'The rest of his life begins now.'})\n",
    "CREATE (ReneeZ:Person {name:'Renee Zellweger', born:1969})\n",
    "CREATE (KellyP:Person {name:'Kelly Preston', born:1962})\n",
    "CREATE (JerryO:Person {name:\"Jerry O'Connell\", born:1974})\n",
    "CREATE (JayM:Person {name:'Jay Mohr', born:1970})\n",
    "CREATE (BonnieH:Person {name:'Bonnie Hunt', born:1961})\n",
    "CREATE (ReginaK:Person {name:'Regina King', born:1971})\n",
    "CREATE (JonathanL:Person {name:'Jonathan Lipnicki', born:1996})\n",
    "CREATE (CameronC:Person {name:'Cameron Crowe', born:1957})\n",
    "CREATE\n",
    "  (TomC)-[:ACTED_IN {roles:['Jerry Maguire']}]->(JerryMaguire),\n",
    "  (CubaG)-[:ACTED_IN {roles:['Rod Tidwell']}]->(JerryMaguire),\n",
    "  (ReneeZ)-[:ACTED_IN {roles:['Dorothy Boyd']}]->(JerryMaguire),\n",
    "  (KellyP)-[:ACTED_IN {roles:['Avery Bishop']}]->(JerryMaguire),\n",
    "  (JerryO)-[:ACTED_IN {roles:['Frank Cushman']}]->(JerryMaguire),\n",
    "  (JayM)-[:ACTED_IN {roles:['Bob Sugar']}]->(JerryMaguire),\n",
    "  (BonnieH)-[:ACTED_IN {roles:['Laurel Boyd']}]->(JerryMaguire),\n",
    "  (ReginaK)-[:ACTED_IN {roles:['Marcee Tidwell']}]->(JerryMaguire),\n",
    "  (JonathanL)-[:ACTED_IN {roles:['Ray Boyd']}]->(JerryMaguire),\n",
    "  (CameronC)-[:DIRECTED]->(JerryMaguire),\n",
    "  (CameronC)-[:PRODUCED]->(JerryMaguire),\n",
    "  (CameronC)-[:WROTE]->(JerryMaguire)\n",
    "\n",
    "CREATE (StandByMe:Movie {title:\"Stand By Me\", released:1986, tagline:\"For some, it's the last real taste of innocence, and the first real taste of life. But for everyone, it's the time that memories are made of.\"})\n",
    "CREATE (RiverP:Person {name:'River Phoenix', born:1970})\n",
    "CREATE (CoreyF:Person {name:'Corey Feldman', born:1971})\n",
    "CREATE (WilW:Person {name:'Wil Wheaton', born:1972})\n",
    "CREATE (JohnC:Person {name:'John Cusack', born:1966})\n",
    "CREATE (MarshallB:Person {name:'Marshall Bell', born:1942})\n",
    "CREATE\n",
    "  (WilW)-[:ACTED_IN {roles:['Gordie Lachance']}]->(StandByMe),\n",
    "  (RiverP)-[:ACTED_IN {roles:['Chris Chambers']}]->(StandByMe),\n",
    "  (JerryO)-[:ACTED_IN {roles:['Vern Tessio']}]->(StandByMe),\n",
    "  (CoreyF)-[:ACTED_IN {roles:['Teddy Duchamp']}]->(StandByMe),\n",
    "  (JohnC)-[:ACTED_IN {roles:['Denny Lachance']}]->(StandByMe),\n",
    "  (KieferS)-[:ACTED_IN {roles:['Ace Merrill']}]->(StandByMe),\n",
    "  (MarshallB)-[:ACTED_IN {roles:['Mr. Lachance']}]->(StandByMe),\n",
    "  (RobR)-[:DIRECTED]->(StandByMe)\n",
    "\n",
    "CREATE (AsGoodAsItGets:Movie {title:'As Good as It Gets', released:1997, tagline:'A comedy from the heart that goes for the throat.'})\n",
    "CREATE (HelenH:Person {name:'Helen Hunt', born:1963})\n",
    "CREATE (GregK:Person {name:'Greg Kinnear', born:1963})\n",
    "CREATE (JamesB:Person {name:'James L. Brooks', born:1940})\n",
    "CREATE\n",
    "  (JackN)-[:ACTED_IN {roles:['Melvin Udall']}]->(AsGoodAsItGets),\n",
    "  (HelenH)-[:ACTED_IN {roles:['Carol Connelly']}]->(AsGoodAsItGets),\n",
    "  (GregK)-[:ACTED_IN {roles:['Simon Bishop']}]->(AsGoodAsItGets),\n",
    "  (CubaG)-[:ACTED_IN {roles:['Frank Sachs']}]->(AsGoodAsItGets),\n",
    "  (JamesB)-[:DIRECTED]->(AsGoodAsItGets)\n",
    "\n",
    "CREATE (WhatDreamsMayCome:Movie {title:'What Dreams May Come', released:1998, tagline:'After life there is more. The end is just the beginning.'})\n",
    "CREATE (AnnabellaS:Person {name:'Annabella Sciorra', born:1960})\n",
    "CREATE (MaxS:Person {name:'Max von Sydow', born:1929})\n",
    "CREATE (WernerH:Person {name:'Werner Herzog', born:1942})\n",
    "CREATE (Robin:Person {name:'Robin Williams', born:1951})\n",
    "CREATE (VincentW:Person {name:'Vincent Ward', born:1956})\n",
    "CREATE\n",
    "  (Robin)-[:ACTED_IN {roles:['Chris Nielsen']}]->(WhatDreamsMayCome),\n",
    "  (CubaG)-[:ACTED_IN {roles:['Albert Lewis']}]->(WhatDreamsMayCome),\n",
    "  (AnnabellaS)-[:ACTED_IN {roles:['Annie Collins-Nielsen']}]->(WhatDreamsMayCome),\n",
    "  (MaxS)-[:ACTED_IN {roles:['The Tracker']}]->(WhatDreamsMayCome),\n",
    "  (WernerH)-[:ACTED_IN {roles:['The Face']}]->(WhatDreamsMayCome),\n",
    "  (VincentW)-[:DIRECTED]->(WhatDreamsMayCome)\n",
    "\n",
    "CREATE (SnowFallingonCedars:Movie {title:'Snow Falling on Cedars', released:1999, tagline:'First loves last. Forever.'})\n",
    "CREATE (EthanH:Person {name:'Ethan Hawke', born:1970})\n",
    "CREATE (RickY:Person {name:'Rick Yune', born:1971})\n",
    "CREATE (JamesC:Person {name:'James Cromwell', born:1940})\n",
    "CREATE (ScottH:Person {name:'Scott Hicks', born:1953})\n",
    "CREATE\n",
    "  (EthanH)-[:ACTED_IN {roles:['Ishmael Chambers']}]->(SnowFallingonCedars),\n",
    "  (RickY)-[:ACTED_IN {roles:['Kazuo Miyamoto']}]->(SnowFallingonCedars),\n",
    "  (MaxS)-[:ACTED_IN {roles:['Nels Gudmundsson']}]->(SnowFallingonCedars),\n",
    "  (JamesC)-[:ACTED_IN {roles:['Judge Fielding']}]->(SnowFallingonCedars),\n",
    "  (ScottH)-[:DIRECTED]->(SnowFallingonCedars)\n",
    "\n",
    "CREATE (YouveGotMail:Movie {title:\"You've Got Mail\", released:1998, tagline:'At odds in life... in love on-line.'})\n",
    "CREATE (ParkerP:Person {name:'Parker Posey', born:1968})\n",
    "CREATE (DaveC:Person {name:'Dave Chappelle', born:1973})\n",
    "CREATE (SteveZ:Person {name:'Steve Zahn', born:1967})\n",
    "CREATE (TomH:Person {name:'Tom Hanks', born:1956})\n",
    "CREATE (NoraE:Person {name:'Nora Ephron', born:1941})\n",
    "CREATE\n",
    "  (TomH)-[:ACTED_IN {roles:['Joe Fox']}]->(YouveGotMail),\n",
    "  (MegR)-[:ACTED_IN {roles:['Kathleen Kelly']}]->(YouveGotMail),\n",
    "  (GregK)-[:ACTED_IN {roles:['Frank Navasky']}]->(YouveGotMail),\n",
    "  (ParkerP)-[:ACTED_IN {roles:['Patricia Eden']}]->(YouveGotMail),\n",
    "  (DaveC)-[:ACTED_IN {roles:['Kevin Jackson']}]->(YouveGotMail),\n",
    "  (SteveZ)-[:ACTED_IN {roles:['George Pappas']}]->(YouveGotMail),\n",
    "  (NoraE)-[:DIRECTED]->(YouveGotMail)\n",
    "\n",
    "CREATE (SleeplessInSeattle:Movie {title:'Sleepless in Seattle', released:1993, tagline:'What if someone you never met, someone you never saw, someone you never knew was the only someone for you?'})\n",
    "CREATE (RitaW:Person {name:'Rita Wilson', born:1956})\n",
    "CREATE (BillPull:Person {name:'Bill Pullman', born:1953})\n",
    "CREATE (VictorG:Person {name:'Victor Garber', born:1949})\n",
    "CREATE (RosieO:Person {name:\"Rosie O'Donnell\", born:1962})\n",
    "CREATE\n",
    "  (TomH)-[:ACTED_IN {roles:['Sam Baldwin']}]->(SleeplessInSeattle),\n",
    "  (MegR)-[:ACTED_IN {roles:['Annie Reed']}]->(SleeplessInSeattle),\n",
    "  (RitaW)-[:ACTED_IN {roles:['Suzy']}]->(SleeplessInSeattle),\n",
    "  (BillPull)-[:ACTED_IN {roles:['Walter']}]->(SleeplessInSeattle),\n",
    "  (VictorG)-[:ACTED_IN {roles:['Greg']}]->(SleeplessInSeattle),\n",
    "  (RosieO)-[:ACTED_IN {roles:['Becky']}]->(SleeplessInSeattle),\n",
    "  (NoraE)-[:DIRECTED]->(SleeplessInSeattle)\n",
    "\n",
    "CREATE (JoeVersustheVolcano:Movie {title:'Joe Versus the Volcano', released:1990, tagline:'A story of love, lava and burning desire.'})\n",
    "CREATE (JohnS:Person {name:'John Patrick Stanley', born:1950})\n",
    "CREATE (Nathan:Person {name:'Nathan Lane', born:1956})\n",
    "CREATE\n",
    "  (TomH)-[:ACTED_IN {roles:['Joe Banks']}]->(JoeVersustheVolcano),\n",
    "  (MegR)-[:ACTED_IN {roles:['DeDe', 'Angelica Graynamore', 'Patricia Graynamore']}]->(JoeVersustheVolcano),\n",
    "  (Nathan)-[:ACTED_IN {roles:['Baw']}]->(JoeVersustheVolcano),\n",
    "  (JohnS)-[:DIRECTED]->(JoeVersustheVolcano)\n",
    "\n",
    "CREATE (WhenHarryMetSally:Movie {title:'When Harry Met Sally', released:1998, tagline:'At odds in life... in love on-line.'})\n",
    "CREATE (BillyC:Person {name:'Billy Crystal', born:1948})\n",
    "CREATE (CarrieF:Person {name:'Carrie Fisher', born:1956})\n",
    "CREATE (BrunoK:Person {name:'Bruno Kirby', born:1949})\n",
    "CREATE\n",
    "  (BillyC)-[:ACTED_IN {roles:['Harry Burns']}]->(WhenHarryMetSally),\n",
    "  (MegR)-[:ACTED_IN {roles:['Sally Albright']}]->(WhenHarryMetSally),\n",
    "  (CarrieF)-[:ACTED_IN {roles:['Marie']}]->(WhenHarryMetSally),\n",
    "  (BrunoK)-[:ACTED_IN {roles:['Jess']}]->(WhenHarryMetSally),\n",
    "  (RobR)-[:DIRECTED]->(WhenHarryMetSally),\n",
    "  (RobR)-[:PRODUCED]->(WhenHarryMetSally),\n",
    "  (NoraE)-[:PRODUCED]->(WhenHarryMetSally),\n",
    "  (NoraE)-[:WROTE]->(WhenHarryMetSally)\n",
    "\n",
    "CREATE (ThatThingYouDo:Movie {title:'That Thing You Do', released:1996, tagline:'In every life there comes a time when that thing you dream becomes that thing you do'})\n",
    "CREATE (LivT:Person {name:'Liv Tyler', born:1977})\n",
    "CREATE\n",
    "  (TomH)-[:ACTED_IN {roles:['Mr. White']}]->(ThatThingYouDo),\n",
    "  (LivT)-[:ACTED_IN {roles:['Faye Dolan']}]->(ThatThingYouDo),\n",
    "  (Charlize)-[:ACTED_IN {roles:['Tina']}]->(ThatThingYouDo),\n",
    "  (TomH)-[:DIRECTED]->(ThatThingYouDo)\n",
    "\n",
    "CREATE (TheReplacements:Movie {title:'The Replacements', released:2000, tagline:'Pain heals, Chicks dig scars... Glory lasts forever'})\n",
    "CREATE (Brooke:Person {name:'Brooke Langton', born:1970})\n",
    "CREATE (Gene:Person {name:'Gene Hackman', born:1930})\n",
    "CREATE (Orlando:Person {name:'Orlando Jones', born:1968})\n",
    "CREATE (Howard:Person {name:'Howard Deutch', born:1950})\n",
    "CREATE\n",
    "  (Keanu)-[:ACTED_IN {roles:['Shane Falco']}]->(TheReplacements),\n",
    "  (Brooke)-[:ACTED_IN {roles:['Annabelle Farrell']}]->(TheReplacements),\n",
    "  (Gene)-[:ACTED_IN {roles:['Jimmy McGinty']}]->(TheReplacements),\n",
    "  (Orlando)-[:ACTED_IN {roles:['Clifford Franklin']}]->(TheReplacements),\n",
    "  (Howard)-[:DIRECTED]->(TheReplacements)\n",
    "\n",
    "CREATE (RescueDawn:Movie {title:'RescueDawn', released:2006, tagline:\"Based on the extraordinary true story of one man's fight for freedom\"})\n",
    "CREATE (ChristianB:Person {name:'Christian Bale', born:1974})\n",
    "CREATE (ZachG:Person {name:'Zach Grenier', born:1954})\n",
    "CREATE\n",
    "  (MarshallB)-[:ACTED_IN {roles:['Admiral']}]->(RescueDawn),\n",
    "  (ChristianB)-[:ACTED_IN {roles:['Dieter Dengler']}]->(RescueDawn),\n",
    "  (ZachG)-[:ACTED_IN {roles:['Squad Leader']}]->(RescueDawn),\n",
    "  (SteveZ)-[:ACTED_IN {roles:['Duane']}]->(RescueDawn),\n",
    "  (WernerH)-[:DIRECTED]->(RescueDawn)\n",
    "\n",
    "CREATE (TheBirdcage:Movie {title:'The Birdcage', released:1996, tagline:'Come as you are'})\n",
    "CREATE (MikeN:Person {name:'Mike Nichols', born:1931})\n",
    "CREATE\n",
    "  (Robin)-[:ACTED_IN {roles:['Armand Goldman']}]->(TheBirdcage),\n",
    "  (Nathan)-[:ACTED_IN {roles:['Albert Goldman']}]->(TheBirdcage),\n",
    "  (Gene)-[:ACTED_IN {roles:['Sen. Kevin Keeley']}]->(TheBirdcage),\n",
    "  (MikeN)-[:DIRECTED]->(TheBirdcage)\n",
    "\n",
    "CREATE (Unforgiven:Movie {title:'Unforgiven', released:1992, tagline:\"It's a hell of a thing, killing a man\"})\n",
    "CREATE (RichardH:Person {name:'Richard Harris', born:1930})\n",
    "CREATE (ClintE:Person {name:'Clint Eastwood', born:1930})\n",
    "CREATE\n",
    "  (RichardH)-[:ACTED_IN {roles:['English Bob']}]->(Unforgiven),\n",
    "  (ClintE)-[:ACTED_IN {roles:['Bill Munny']}]->(Unforgiven),\n",
    "  (Gene)-[:ACTED_IN {roles:['Little Bill Daggett']}]->(Unforgiven),\n",
    "  (ClintE)-[:DIRECTED]->(Unforgiven)\n",
    "\n",
    "CREATE (JohnnyMnemonic:Movie {title:'Johnny Mnemonic', released:1995, tagline:'The hottest data on earth. In the coolest head in town'})\n",
    "CREATE (Takeshi:Person {name:'Takeshi Kitano', born:1947})\n",
    "CREATE (Dina:Person {name:'Dina Meyer', born:1968})\n",
    "CREATE (IceT:Person {name:'Ice-T', born:1958})\n",
    "CREATE (RobertL:Person {name:'Robert Longo', born:1953})\n",
    "CREATE\n",
    "  (Keanu)-[:ACTED_IN {roles:['Johnny Mnemonic']}]->(JohnnyMnemonic),\n",
    "  (Takeshi)-[:ACTED_IN {roles:['Takahashi']}]->(JohnnyMnemonic),\n",
    "  (Dina)-[:ACTED_IN {roles:['Jane']}]->(JohnnyMnemonic),\n",
    "  (IceT)-[:ACTED_IN {roles:['J-Bone']}]->(JohnnyMnemonic),\n",
    "  (RobertL)-[:DIRECTED]->(JohnnyMnemonic)\n",
    "\n",
    "CREATE (CloudAtlas:Movie {title:'Cloud Atlas', released:2012, tagline:'Everything is connected'})\n",
    "CREATE (HalleB:Person {name:'Halle Berry', born:1966})\n",
    "CREATE (JimB:Person {name:'Jim Broadbent', born:1949})\n",
    "CREATE (TomT:Person {name:'Tom Tykwer', born:1965})\n",
    "CREATE (DavidMitchell:Person {name:'David Mitchell', born:1969})\n",
    "CREATE (StefanArndt:Person {name:'Stefan Arndt', born:1961})\n",
    "CREATE\n",
    "  (TomH)-[:ACTED_IN {roles:['Zachry', 'Dr. Henry Goose', 'Isaac Sachs', 'Dermot Hoggins']}]->(CloudAtlas),\n",
    "  (Hugo)-[:ACTED_IN {roles:['Bill Smoke', 'Haskell Moore', 'Tadeusz Kesselring', 'Nurse Noakes', 'Boardman Mephi', 'Old Georgie']}]->(CloudAtlas),\n",
    "  (HalleB)-[:ACTED_IN {roles:['Luisa Rey', 'Jocasta Ayrs', 'Ovid', 'Meronym']}]->(CloudAtlas),\n",
    "  (JimB)-[:ACTED_IN {roles:['Vyvyan Ayrs', 'Captain Molyneux', 'Timothy Cavendish']}]->(CloudAtlas),\n",
    "  (TomT)-[:DIRECTED]->(CloudAtlas),\n",
    "  (LillyW)-[:DIRECTED]->(CloudAtlas),\n",
    "  (LanaW)-[:DIRECTED]->(CloudAtlas),\n",
    "  (DavidMitchell)-[:WROTE]->(CloudAtlas),\n",
    "  (StefanArndt)-[:PRODUCED]->(CloudAtlas)\n",
    "\n",
    "CREATE (TheDaVinciCode:Movie {title:'The Da Vinci Code', released:2006, tagline:'Break The Codes'})\n",
    "CREATE (IanM:Person {name:'Ian McKellen', born:1939})\n",
    "CREATE (AudreyT:Person {name:'Audrey Tautou', born:1976})\n",
    "CREATE (PaulB:Person {name:'Paul Bettany', born:1971})\n",
    "CREATE (RonH:Person {name:'Ron Howard', born:1954})\n",
    "CREATE\n",
    "  (TomH)-[:ACTED_IN {roles:['Dr. Robert Langdon']}]->(TheDaVinciCode),\n",
    "  (IanM)-[:ACTED_IN {roles:['Sir Leight Teabing']}]->(TheDaVinciCode),\n",
    "  (AudreyT)-[:ACTED_IN {roles:['Sophie Neveu']}]->(TheDaVinciCode),\n",
    "  (PaulB)-[:ACTED_IN {roles:['Silas']}]->(TheDaVinciCode),\n",
    "  (RonH)-[:DIRECTED]->(TheDaVinciCode)\n",
    "\n",
    "CREATE (VforVendetta:Movie {title:'V for Vendetta', released:2006, tagline:'Freedom! Forever!'})\n",
    "CREATE (NatalieP:Person {name:'Natalie Portman', born:1981})\n",
    "CREATE (StephenR:Person {name:'Stephen Rea', born:1946})\n",
    "CREATE (JohnH:Person {name:'John Hurt', born:1940})\n",
    "CREATE (BenM:Person {name: 'Ben Miles', born:1967})\n",
    "CREATE\n",
    "  (Hugo)-[:ACTED_IN {roles:['V']}]->(VforVendetta),\n",
    "  (NatalieP)-[:ACTED_IN {roles:['Evey Hammond']}]->(VforVendetta),\n",
    "  (StephenR)-[:ACTED_IN {roles:['Eric Finch']}]->(VforVendetta),\n",
    "  (JohnH)-[:ACTED_IN {roles:['High Chancellor Adam Sutler']}]->(VforVendetta),\n",
    "  (BenM)-[:ACTED_IN {roles:['Dascomb']}]->(VforVendetta),\n",
    "  (JamesM)-[:DIRECTED]->(VforVendetta),\n",
    "  (LillyW)-[:PRODUCED]->(VforVendetta),\n",
    "  (LanaW)-[:PRODUCED]->(VforVendetta),\n",
    "  (JoelS)-[:PRODUCED]->(VforVendetta),\n",
    "  (LillyW)-[:WROTE]->(VforVendetta),\n",
    "  (LanaW)-[:WROTE]->(VforVendetta)\n",
    "\n",
    "CREATE (SpeedRacer:Movie {title:'Speed Racer', released:2008, tagline:'Speed has no limits'})\n",
    "CREATE (EmileH:Person {name:'Emile Hirsch', born:1985})\n",
    "CREATE (JohnG:Person {name:'John Goodman', born:1960})\n",
    "CREATE (SusanS:Person {name:'Susan Sarandon', born:1946})\n",
    "CREATE (MatthewF:Person {name:'Matthew Fox', born:1966})\n",
    "CREATE (ChristinaR:Person {name:'Christina Ricci', born:1980})\n",
    "CREATE (Rain:Person {name:'Rain', born:1982})\n",
    "CREATE\n",
    "  (EmileH)-[:ACTED_IN {roles:['Speed Racer']}]->(SpeedRacer),\n",
    "  (JohnG)-[:ACTED_IN {roles:['Pops']}]->(SpeedRacer),\n",
    "  (SusanS)-[:ACTED_IN {roles:['Mom']}]->(SpeedRacer),\n",
    "  (MatthewF)-[:ACTED_IN {roles:['Racer X']}]->(SpeedRacer),\n",
    "  (ChristinaR)-[:ACTED_IN {roles:['Trixie']}]->(SpeedRacer),\n",
    "  (Rain)-[:ACTED_IN {roles:['Taejo Togokahn']}]->(SpeedRacer),\n",
    "  (BenM)-[:ACTED_IN {roles:['Cass Jones']}]->(SpeedRacer),\n",
    "  (LillyW)-[:DIRECTED]->(SpeedRacer),\n",
    "  (LanaW)-[:DIRECTED]->(SpeedRacer),\n",
    "  (LillyW)-[:WROTE]->(SpeedRacer),\n",
    "  (LanaW)-[:WROTE]->(SpeedRacer),\n",
    "  (JoelS)-[:PRODUCED]->(SpeedRacer)\n",
    "\n",
    "CREATE (NinjaAssassin:Movie {title:'Ninja Assassin', released:2009, tagline:'Prepare to enter a secret world of assassins'})\n",
    "CREATE (NaomieH:Person {name:'Naomie Harris'})\n",
    "CREATE\n",
    "  (Rain)-[:ACTED_IN {roles:['Raizo']}]->(NinjaAssassin),\n",
    "  (NaomieH)-[:ACTED_IN {roles:['Mika Coretti']}]->(NinjaAssassin),\n",
    "  (RickY)-[:ACTED_IN {roles:['Takeshi']}]->(NinjaAssassin),\n",
    "  (BenM)-[:ACTED_IN {roles:['Ryan Maslow']}]->(NinjaAssassin),\n",
    "  (JamesM)-[:DIRECTED]->(NinjaAssassin),\n",
    "  (LillyW)-[:PRODUCED]->(NinjaAssassin),\n",
    "  (LanaW)-[:PRODUCED]->(NinjaAssassin),\n",
    "  (JoelS)-[:PRODUCED]->(NinjaAssassin)\n",
    "\n",
    "CREATE (TheGreenMile:Movie {title:'The Green Mile', released:1999, tagline:\"Walk a mile you'll never forget.\"})\n",
    "CREATE (MichaelD:Person {name:'Michael Clarke Duncan', born:1957})\n",
    "CREATE (DavidM:Person {name:'David Morse', born:1953})\n",
    "CREATE (SamR:Person {name:'Sam Rockwell', born:1968})\n",
    "CREATE (GaryS:Person {name:'Gary Sinise', born:1955})\n",
    "CREATE (PatriciaC:Person {name:'Patricia Clarkson', born:1959})\n",
    "CREATE (FrankD:Person {name:'Frank Darabont', born:1959})\n",
    "CREATE\n",
    "  (TomH)-[:ACTED_IN {roles:['Paul Edgecomb']}]->(TheGreenMile),\n",
    "  (MichaelD)-[:ACTED_IN {roles:['John Coffey']}]->(TheGreenMile),\n",
    "  (DavidM)-[:ACTED_IN {roles:['Brutus \"Brutal\" Howell']}]->(TheGreenMile),\n",
    "  (BonnieH)-[:ACTED_IN {roles:['Jan Edgecomb']}]->(TheGreenMile),\n",
    "  (JamesC)-[:ACTED_IN {roles:['Warden Hal Moores']}]->(TheGreenMile),\n",
    "  (SamR)-[:ACTED_IN {roles:['\"Wild Bill\" Wharton']}]->(TheGreenMile),\n",
    "  (GaryS)-[:ACTED_IN {roles:['Burt Hammersmith']}]->(TheGreenMile),\n",
    "  (PatriciaC)-[:ACTED_IN {roles:['Melinda Moores']}]->(TheGreenMile),\n",
    "  (FrankD)-[:DIRECTED]->(TheGreenMile)\n",
    "\n",
    "CREATE (FrostNixon:Movie {title:'Frost/Nixon', released:2008, tagline:'400 million people were waiting for the truth.'})\n",
    "CREATE (FrankL:Person {name:'Frank Langella', born:1938})\n",
    "CREATE (MichaelS:Person {name:'Michael Sheen', born:1969})\n",
    "CREATE (OliverP:Person {name:'Oliver Platt', born:1960})\n",
    "CREATE\n",
    "  (FrankL)-[:ACTED_IN {roles:['Richard Nixon']}]->(FrostNixon),\n",
    "  (MichaelS)-[:ACTED_IN {roles:['David Frost']}]->(FrostNixon),\n",
    "  (KevinB)-[:ACTED_IN {roles:['Jack Brennan']}]->(FrostNixon),\n",
    "  (OliverP)-[:ACTED_IN {roles:['Bob Zelnick']}]->(FrostNixon),\n",
    "  (SamR)-[:ACTED_IN {roles:['James Reston, Jr.']}]->(FrostNixon),\n",
    "  (RonH)-[:DIRECTED]->(FrostNixon)\n",
    "\n",
    "CREATE (Hoffa:Movie {title:'Hoffa', released:1992, tagline:\"He didn't want law. He wanted justice.\"})\n",
    "CREATE (DannyD:Person {name:'Danny DeVito', born:1944})\n",
    "CREATE (JohnR:Person {name:'John C. Reilly', born:1965})\n",
    "CREATE\n",
    "  (JackN)-[:ACTED_IN {roles:['Hoffa']}]->(Hoffa),\n",
    "  (DannyD)-[:ACTED_IN {roles:['Robert \"Bobby\" Ciaro']}]->(Hoffa),\n",
    "  (JTW)-[:ACTED_IN {roles:['Frank Fitzsimmons']}]->(Hoffa),\n",
    "  (JohnR)-[:ACTED_IN {roles:['Peter \"Pete\" Connelly']}]->(Hoffa),\n",
    "  (DannyD)-[:DIRECTED]->(Hoffa)\n",
    "\n",
    "CREATE (Apollo13:Movie {title:'Apollo 13', released:1995, tagline:'Houston, we have a problem.'})\n",
    "CREATE (EdH:Person {name:'Ed Harris', born:1950})\n",
    "CREATE (BillPax:Person {name:'Bill Paxton', born:1955})\n",
    "CREATE\n",
    "  (TomH)-[:ACTED_IN {roles:['Jim Lovell']}]->(Apollo13),\n",
    "  (KevinB)-[:ACTED_IN {roles:['Jack Swigert']}]->(Apollo13),\n",
    "  (EdH)-[:ACTED_IN {roles:['Gene Kranz']}]->(Apollo13),\n",
    "  (BillPax)-[:ACTED_IN {roles:['Fred Haise']}]->(Apollo13),\n",
    "  (GaryS)-[:ACTED_IN {roles:['Ken Mattingly']}]->(Apollo13),\n",
    "  (RonH)-[:DIRECTED]->(Apollo13)\n",
    "\n",
    "CREATE (Twister:Movie {title:'Twister', released:1996, tagline:\"Don't Breathe. Don't Look Back.\"})\n",
    "CREATE (PhilipH:Person {name:'Philip Seymour Hoffman', born:1967})\n",
    "CREATE (JanB:Person {name:'Jan de Bont', born:1943})\n",
    "CREATE\n",
    "  (BillPax)-[:ACTED_IN {roles:['Bill Harding']}]->(Twister),\n",
    "  (HelenH)-[:ACTED_IN {roles:['Dr. Jo Harding']}]->(Twister),\n",
    "  (ZachG)-[:ACTED_IN {roles:['Eddie']}]->(Twister),\n",
    "  (PhilipH)-[:ACTED_IN {roles:['Dustin \"Dusty\" Davis']}]->(Twister),\n",
    "  (JanB)-[:DIRECTED]->(Twister)\n",
    "\n",
    "CREATE (CastAway:Movie {title:'Cast Away', released:2000, tagline:'At the edge of the world, his journey begins.'})\n",
    "CREATE (RobertZ:Person {name:'Robert Zemeckis', born:1951})\n",
    "CREATE\n",
    "  (TomH)-[:ACTED_IN {roles:['Chuck Noland']}]->(CastAway),\n",
    "  (HelenH)-[:ACTED_IN {roles:['Kelly Frears']}]->(CastAway),\n",
    "  (RobertZ)-[:DIRECTED]->(CastAway)\n",
    "\n",
    "CREATE (OneFlewOvertheCuckoosNest:Movie {title:\"One Flew Over the Cuckoo's Nest\", released:1975, tagline:\"If he's crazy, what does that make you?\"})\n",
    "CREATE (MilosF:Person {name:'Milos Forman', born:1932})\n",
    "CREATE\n",
    "  (JackN)-[:ACTED_IN {roles:['Randle McMurphy']}]->(OneFlewOvertheCuckoosNest),\n",
    "  (DannyD)-[:ACTED_IN {roles:['Martini']}]->(OneFlewOvertheCuckoosNest),\n",
    "  (MilosF)-[:DIRECTED]->(OneFlewOvertheCuckoosNest)\n",
    "\n",
    "CREATE (SomethingsGottaGive:Movie {title:\"Something's Gotta Give\", released:2003})\n",
    "CREATE (DianeK:Person {name:'Diane Keaton', born:1946})\n",
    "CREATE (NancyM:Person {name:'Nancy Meyers', born:1949})\n",
    "CREATE\n",
    "  (JackN)-[:ACTED_IN {roles:['Harry Sanborn']}]->(SomethingsGottaGive),\n",
    "  (DianeK)-[:ACTED_IN {roles:['Erica Barry']}]->(SomethingsGottaGive),\n",
    "  (Keanu)-[:ACTED_IN {roles:['Julian Mercer']}]->(SomethingsGottaGive),\n",
    "  (NancyM)-[:DIRECTED]->(SomethingsGottaGive),\n",
    "  (NancyM)-[:PRODUCED]->(SomethingsGottaGive),\n",
    "  (NancyM)-[:WROTE]->(SomethingsGottaGive)\n",
    "\n",
    "CREATE (BicentennialMan:Movie {title:'Bicentennial Man', released:1999, tagline:\"One robot's 200 year journey to become an ordinary man.\"})\n",
    "CREATE (ChrisC:Person {name:'Chris Columbus', born:1958})\n",
    "CREATE\n",
    "  (Robin)-[:ACTED_IN {roles:['Andrew Marin']}]->(BicentennialMan),\n",
    "  (OliverP)-[:ACTED_IN {roles:['Rupert Burns']}]->(BicentennialMan),\n",
    "  (ChrisC)-[:DIRECTED]->(BicentennialMan)\n",
    "\n",
    "CREATE (CharlieWilsonsWar:Movie {title:\"Charlie Wilson's War\", released:2007, tagline:\"A stiff drink. A little mascara. A lot of nerve. Who said they couldn't bring down the Soviet empire.\"})\n",
    "CREATE (JuliaR:Person {name:'Julia Roberts', born:1967})\n",
    "CREATE\n",
    "  (TomH)-[:ACTED_IN {roles:['Rep. Charlie Wilson']}]->(CharlieWilsonsWar),\n",
    "  (JuliaR)-[:ACTED_IN {roles:['Joanne Herring']}]->(CharlieWilsonsWar),\n",
    "  (PhilipH)-[:ACTED_IN {roles:['Gust Avrakotos']}]->(CharlieWilsonsWar),\n",
    "  (MikeN)-[:DIRECTED]->(CharlieWilsonsWar)\n",
    "\n",
    "CREATE (ThePolarExpress:Movie {title:'The Polar Express', released:2004, tagline:'This Holiday Season… Believe'})\n",
    "CREATE\n",
    "  (TomH)-[:ACTED_IN {roles:['Hero Boy', 'Father', 'Conductor', 'Hobo', 'Scrooge', 'Santa Claus']}]->(ThePolarExpress),\n",
    "  (RobertZ)-[:DIRECTED]->(ThePolarExpress)\n",
    "\n",
    "CREATE (ALeagueofTheirOwn:Movie {title:'A League of Their Own', released:1992, tagline:'Once in a lifetime you get a chance to do something different.'})\n",
    "CREATE (Madonna:Person {name:'Madonna', born:1954})\n",
    "CREATE (GeenaD:Person {name:'Geena Davis', born:1956})\n",
    "CREATE (LoriP:Person {name:'Lori Petty', born:1963})\n",
    "CREATE (PennyM:Person {name:'Penny Marshall', born:1943})\n",
    "CREATE\n",
    "  (TomH)-[:ACTED_IN {roles:['Jimmy Dugan']}]->(ALeagueofTheirOwn),\n",
    "  (GeenaD)-[:ACTED_IN {roles:['Dottie Hinson']}]->(ALeagueofTheirOwn),\n",
    "  (LoriP)-[:ACTED_IN {roles:['Kit Keller']}]->(ALeagueofTheirOwn),\n",
    "  (RosieO)-[:ACTED_IN {roles:['Doris Murphy']}]->(ALeagueofTheirOwn),\n",
    "  (Madonna)-[:ACTED_IN {roles:['\"All the Way\" Mae Mordabito']}]->(ALeagueofTheirOwn),\n",
    "  (BillPax)-[:ACTED_IN {roles:['Bob Hinson']}]->(ALeagueofTheirOwn),\n",
    "  (PennyM)-[:DIRECTED]->(ALeagueofTheirOwn)\n",
    "\n",
    "CREATE (PaulBlythe:Person {name:'Paul Blythe'})\n",
    "CREATE (AngelaScope:Person {name:'Angela Scope'})\n",
    "CREATE (JessicaThompson:Person {name:'Jessica Thompson'})\n",
    "CREATE (JamesThompson:Person {name:'James Thompson'})\n",
    "\n",
    "CREATE\n",
    "  (JamesThompson)-[:FOLLOWS]->(JessicaThompson),\n",
    "  (AngelaScope)-[:FOLLOWS]->(JessicaThompson),\n",
    "  (PaulBlythe)-[:FOLLOWS]->(AngelaScope)\n",
    "\n",
    "CREATE\n",
    "  (JessicaThompson)-[:REVIEWED {summary:'An amazing journey', rating:95}]->(CloudAtlas),\n",
    "  (JessicaThompson)-[:REVIEWED {summary:'Silly, but fun', rating:65}]->(TheReplacements),\n",
    "  (JamesThompson)-[:REVIEWED {summary:'The coolest football movie ever', rating:100}]->(TheReplacements),\n",
    "  (AngelaScope)-[:REVIEWED {summary:'Pretty funny at times', rating:62}]->(TheReplacements),\n",
    "  (JessicaThompson)-[:REVIEWED {summary:'Dark, but compelling', rating:85}]->(Unforgiven),\n",
    "  (JessicaThompson)-[:REVIEWED {summary:\"Slapstick redeemed only by the Robin Williams and Gene Hackman's stellar performances\", rating:45}]->(TheBirdcage),\n",
    "  (JessicaThompson)-[:REVIEWED {summary:'A solid romp', rating:68}]->(TheDaVinciCode),\n",
    "  (JamesThompson)-[:REVIEWED {summary:'Fun, but a little far fetched', rating:65}]->(TheDaVinciCode),\n",
    "  (JessicaThompson)-[:REVIEWED {summary:'You had me at Jerry', rating:92}]->(JerryMaguire)\n",
    ";"
   ]
  },
  {
   "cell_type": "markdown",
   "metadata": {
    "slideshow": {
     "slide_type": "slide"
    }
   },
   "source": [
    "## Find\n",
    "\n",
    "Example queries for finding individual nodes.\n",
    "\n",
    "  1. Execute each of the following queries (CTRL+Return)\n",
    "  2. Notice the syntax pattern\n",
    "  3. Try looking for other movies or actors"
   ]
  },
  {
   "cell_type": "code",
   "execution_count": 10,
   "metadata": {
    "slideshow": {
     "slide_type": "subslide"
    }
   },
   "outputs": [
    {
     "data": {
      "application/javascript": [
       "require([\"https://cdnjs.cloudflare.com/ajax/libs/vis/4.21.0/vis.min.js\"], function(vis) {\n",
       "  var nodes = new vis.DataSet([\n",
       "    { id: 71, label: \"Person\", title: \"{born:1956,<br>name:Tom Hanks}\", color: 'rgba(1,33,211,0.5)'},\n",
       "    \n",
       "  ]);\n",
       "\n",
       "  // create an array with edges\n",
       "  var edges = new vis.DataSet([\n",
       "    \n",
       "  ]);\n",
       "\n",
       "  // create a network\n",
       "  var container = document.getElementById('d33a08f8-05a2-4c27-bbf8-d9e069eba2ef');\n",
       "  var data = {\n",
       "    nodes: nodes,\n",
       "    edges: edges\n",
       "  };\n",
       "\n",
       "  var options = {\n",
       "    edges: {\n",
       "      arrows: {\n",
       "        to: {\n",
       "          scaleFactor: 0.5\n",
       "        }\n",
       "      }\n",
       "    },\n",
       "    width: '100%',\n",
       "    height: '500px',\n",
       "    interaction: {hover: true}\n",
       "  };\n",
       "\n",
       "  var network = new vis.Network(container, data, options);});"
      ]
     },
     "metadata": {},
     "output_type": "display_data"
    },
    {
     "data": {
      "text/html": [
       "<link href=\"https://cdnjs.cloudflare.com/ajax/libs/vis/4.21.0/vis.min.css\" rel=\"stylesheet\" type=\"text/css\">\n",
       "        <div id=\"d33a08f8-05a2-4c27-bbf8-d9e069eba2ef\"></div>\n",
       "        "
      ]
     },
     "metadata": {},
     "output_type": "display_data"
    }
   ],
   "source": [
    "MATCH (tom {name: \"Tom Hanks\"})\n",
    "RETURN tom"
   ]
  },
  {
   "cell_type": "code",
   "execution_count": 11,
   "metadata": {
    "slideshow": {
     "slide_type": "subslide"
    }
   },
   "outputs": [
    {
     "data": {
      "application/javascript": [
       "require([\"https://cdnjs.cloudflare.com/ajax/libs/vis/4.21.0/vis.min.js\"], function(vis) {\n",
       "  var nodes = new vis.DataSet([\n",
       "    { id: 105, label: \"Movie\", title: \"{tagline:Everything is connected,<br>title:Cloud Atlas,<br>released:2012}\", color: 'rgba(35,28,33,0.5)'},\n",
       "    \n",
       "  ]);\n",
       "\n",
       "  // create an array with edges\n",
       "  var edges = new vis.DataSet([\n",
       "    \n",
       "  ]);\n",
       "\n",
       "  // create a network\n",
       "  var container = document.getElementById('bce8d712-7d9b-4c6f-a03a-96208c668535');\n",
       "  var data = {\n",
       "    nodes: nodes,\n",
       "    edges: edges\n",
       "  };\n",
       "\n",
       "  var options = {\n",
       "    edges: {\n",
       "      arrows: {\n",
       "        to: {\n",
       "          scaleFactor: 0.5\n",
       "        }\n",
       "      }\n",
       "    },\n",
       "    width: '100%',\n",
       "    height: '500px',\n",
       "    interaction: {hover: true}\n",
       "  };\n",
       "\n",
       "  var network = new vis.Network(container, data, options);});"
      ]
     },
     "metadata": {},
     "output_type": "display_data"
    },
    {
     "data": {
      "text/html": [
       "<link href=\"https://cdnjs.cloudflare.com/ajax/libs/vis/4.21.0/vis.min.css\" rel=\"stylesheet\" type=\"text/css\">\n",
       "        <div id=\"bce8d712-7d9b-4c6f-a03a-96208c668535\"></div>\n",
       "        "
      ]
     },
     "metadata": {},
     "output_type": "display_data"
    }
   ],
   "source": [
    "MATCH (cloudAtlas {title: \"Cloud Atlas\"})\n",
    "RETURN cloudAtlas"
   ]
  },
  {
   "cell_type": "code",
   "execution_count": 12,
   "metadata": {
    "slideshow": {
     "slide_type": "subslide"
    }
   },
   "outputs": [
    {
     "data": {
      "text/plain": [
       "Keanu Reeves\n",
       "Carrie-Anne Moss\n",
       "Laurence Fishburne\n",
       "Hugo Weaving\n",
       "Lilly Wachowski\n",
       "Lana Wachowski\n",
       "Joel Silver\n",
       "Emil Eifrem\n",
       "Charlize Theron\n",
       "Al Pacino\n"
      ]
     },
     "execution_count": 12,
     "metadata": {},
     "output_type": "execute_result"
    }
   ],
   "source": [
    "MATCH (people:Person)\n",
    "RETURN people.name LIMIT 10"
   ]
  },
  {
   "cell_type": "code",
   "execution_count": 13,
   "metadata": {
    "slideshow": {
     "slide_type": "subslide"
    }
   },
   "outputs": [
    {
     "data": {
      "text/plain": [
       "The Matrix\n",
       "The Devil's Advocate\n",
       "A Few Good Men\n",
       "As Good as It Gets\n",
       "What Dreams May Come\n",
       "Snow Falling on Cedars\n",
       "You've Got Mail\n",
       "Sleepless in Seattle\n",
       "Joe Versus the Volcano\n",
       "When Harry Met Sally\n"
      ]
     },
     "execution_count": 13,
     "metadata": {},
     "output_type": "execute_result"
    }
   ],
   "source": [
    "MATCH (nineties:Movie) \n",
    "WHERE nineties.released >= 1990 AND nineties.released < 2000 \n",
    "RETURN nineties.title LIMIT(10)"
   ]
  },
  {
   "cell_type": "markdown",
   "metadata": {
    "slideshow": {
     "slide_type": "slide"
    }
   },
   "source": [
    "## Query\n",
    "\n",
    "Finding patterns within the graph.\n",
    "\n",
    "  1. Actors are people who acted in movies\n",
    "  2. Directors are people who directed a movie\n",
    "  3. What other relationships exist?\n"
   ]
  },
  {
   "cell_type": "code",
   "execution_count": 14,
   "metadata": {
    "slideshow": {
     "slide_type": "subslide"
    }
   },
   "outputs": [
    {
     "data": {
      "application/javascript": [
       "require([\"https://cdnjs.cloudflare.com/ajax/libs/vis/4.21.0/vis.min.js\"], function(vis) {\n",
       "  var nodes = new vis.DataSet([\n",
       "    { id: 161, label: \"Movie\", title: \"{tagline:This Holiday Season… Believe,<br>title:The Polar Express,<br>released:2004}\", color: 'rgba(35,28,33,0.5)'},\n",
       "    { id: 162, label: \"Movie\", title: \"{tagline:Once in a lifetime you get a chance to do something different.,<br>title:A League of Their Own,<br>released:1992}\", color: 'rgba(35,28,33,0.5)'},\n",
       "    { id: 67, label: \"Movie\", title: \"{tagline:At odds in life... in love on-line.,<br>title:You've Got Mail,<br>released:1998}\", color: 'rgba(35,28,33,0.5)'},\n",
       "    { id: 130, label: \"Movie\", title: \"{tagline:Walk a mile you'll never forget.,<br>title:The Green Mile,<br>released:1999}\", color: 'rgba(35,28,33,0.5)'},\n",
       "    { id: 71, label: \"Person\", title: \"{born:1956,<br>name:Tom Hanks}\", color: 'rgba(1,33,211,0.5)'},\n",
       "    { id: 105, label: \"Movie\", title: \"{tagline:Everything is connected,<br>title:Cloud Atlas,<br>released:2012}\", color: 'rgba(35,28,33,0.5)'},\n",
       "    { id: 73, label: \"Movie\", title: \"{tagline:What if someone you never met, someone you never saw, someone you never knew was the only someone for you?,<br>title:Sleepless in Seattle,<br>released:1993}\", color: 'rgba(35,28,33,0.5)'},\n",
       "    { id: 78, label: \"Movie\", title: \"{tagline:A story of love, lava and burning desire.,<br>title:Joe Versus the Volcano,<br>released:1990}\", color: 'rgba(35,28,33,0.5)'},\n",
       "    { id: 111, label: \"Movie\", title: \"{tagline:Break The Codes,<br>title:The Da Vinci Code,<br>released:2006}\", color: 'rgba(35,28,33,0.5)'},\n",
       "    { id: 144, label: \"Movie\", title: \"{tagline:Houston, we have a problem.,<br>title:Apollo 13,<br>released:1995}\", color: 'rgba(35,28,33,0.5)'},\n",
       "    { id: 85, label: \"Movie\", title: \"{tagline:In every life there comes a time when that thing you dream becomes that thing you do,<br>title:That Thing You Do,<br>released:1996}\", color: 'rgba(35,28,33,0.5)'},\n",
       "    { id: 150, label: \"Movie\", title: \"{tagline:At the edge of the world, his journey begins.,<br>title:Cast Away,<br>released:2000}\", color: 'rgba(35,28,33,0.5)'},\n",
       "    { id: 159, label: \"Movie\", title: \"{tagline:A stiff drink. A little mascara. A lot of nerve. Who said they couldn't bring down the Soviet empire.,<br>title:Charlie Wilson's War,<br>released:2007}\", color: 'rgba(35,28,33,0.5)'},\n",
       "    \n",
       "  ]);\n",
       "\n",
       "  // create an array with edges\n",
       "  var edges = new vis.DataSet([\n",
       "    { from: 71,to: 78, arrows:'to', title: \"ACTED_IN\" },\n",
       "    { from: 71,to: 159, arrows:'to', title: \"ACTED_IN\" },\n",
       "    { from: 71,to: 161, arrows:'to', title: \"ACTED_IN\" },\n",
       "    { from: 71,to: 105, arrows:'to', title: \"ACTED_IN\" },\n",
       "    { from: 71,to: 144, arrows:'to', title: \"ACTED_IN\" },\n",
       "    { from: 71,to: 162, arrows:'to', title: \"ACTED_IN\" },\n",
       "    { from: 71,to: 85, arrows:'to', title: \"ACTED_IN\" },\n",
       "    { from: 71,to: 111, arrows:'to', title: \"ACTED_IN\" },\n",
       "    { from: 71,to: 67, arrows:'to', title: \"ACTED_IN\" },\n",
       "    { from: 71,to: 150, arrows:'to', title: \"ACTED_IN\" },\n",
       "    { from: 71,to: 130, arrows:'to', title: \"ACTED_IN\" },\n",
       "    { from: 71,to: 73, arrows:'to', title: \"ACTED_IN\" },\n",
       "    \n",
       "  ]);\n",
       "\n",
       "  // create a network\n",
       "  var container = document.getElementById('09db02ae-edb7-49cf-adca-d14b3449f280');\n",
       "  var data = {\n",
       "    nodes: nodes,\n",
       "    edges: edges\n",
       "  };\n",
       "\n",
       "  var options = {\n",
       "    edges: {\n",
       "      arrows: {\n",
       "        to: {\n",
       "          scaleFactor: 0.5\n",
       "        }\n",
       "      }\n",
       "    },\n",
       "    width: '100%',\n",
       "    height: '500px',\n",
       "    interaction: {hover: true}\n",
       "  };\n",
       "\n",
       "  var network = new vis.Network(container, data, options);});"
      ]
     },
     "metadata": {},
     "output_type": "display_data"
    },
    {
     "data": {
      "text/html": [
       "<link href=\"https://cdnjs.cloudflare.com/ajax/libs/vis/4.21.0/vis.min.css\" rel=\"stylesheet\" type=\"text/css\">\n",
       "        <div id=\"09db02ae-edb7-49cf-adca-d14b3449f280\"></div>\n",
       "        "
      ]
     },
     "metadata": {},
     "output_type": "display_data"
    }
   ],
   "source": [
    "MATCH (tom:Person {name: \"Tom Hanks\"})-[in:ACTED_IN]->(tomHanksMovies) \n",
    "RETURN tom,in,tomHanksMovies"
   ]
  },
  {
   "cell_type": "code",
   "execution_count": 15,
   "metadata": {
    "slideshow": {
     "slide_type": "subslide"
    }
   },
   "outputs": [
    {
     "data": {
      "text/plain": [
       "Tom Tykwer\n",
       "Lilly Wachowski\n",
       "Lana Wachowski\n"
      ]
     },
     "execution_count": 15,
     "metadata": {},
     "output_type": "execute_result"
    }
   ],
   "source": [
    "MATCH (cloudAtlas {title: \"Cloud Atlas\"})<-[:DIRECTED]-(directors)\n",
    "RETURN directors.name"
   ]
  },
  {
   "cell_type": "code",
   "execution_count": 16,
   "metadata": {
    "slideshow": {
     "slide_type": "subslide"
    }
   },
   "outputs": [
    {
     "data": {
      "text/plain": [
       "Ed Harris\n",
       "Gary Sinise\n",
       "Kevin Bacon\n",
       "Bill Paxton\n",
       "Parker Posey\n",
       "Greg Kinnear\n",
       "Meg Ryan\n",
       "Steve Zahn\n",
       "Dave Chappelle\n",
       "Madonna\n",
       "Rosie O'Donnell\n",
       "Geena Davis\n",
       "Bill Paxton\n",
       "Lori Petty\n",
       "Nathan Lane\n",
       "Meg Ryan\n",
       "Liv Tyler\n",
       "Charlize Theron\n",
       "Ian McKellen\n",
       "Audrey Tautou\n",
       "Paul Bettany\n",
       "Jim Broadbent\n",
       "Halle Berry\n",
       "Hugo Weaving\n",
       "Helen Hunt\n",
       "Sam Rockwell\n",
       "Bonnie Hunt\n",
       "Patricia Clarkson\n",
       "James Cromwell\n",
       "Michael Clarke Duncan\n",
       "David Morse\n",
       "Gary Sinise\n",
       "Meg Ryan\n",
       "Victor Garber\n",
       "Bill Pullman\n",
       "Rita Wilson\n",
       "Rosie O'Donnell\n",
       "Julia Roberts\n",
       "Philip Seymour Hoffman\n"
      ]
     },
     "execution_count": 16,
     "metadata": {},
     "output_type": "execute_result"
    }
   ],
   "source": [
    "MATCH (tom:Person {name:\"Tom Hanks\"})-[:ACTED_IN]->(m)<-[:ACTED_IN]-(coActors)\n",
    "RETURN coActors.name"
   ]
  },
  {
   "cell_type": "code",
   "execution_count": 17,
   "metadata": {
    "slideshow": {
     "slide_type": "subslide"
    }
   },
   "outputs": [
    {
     "data": {
      "text/plain": [
       "Tom Hanks\n",
       "ACTED_IN\n",
       "Jim Broadbent\n",
       "ACTED_IN\n",
       "David Mitchell\n",
       "WROTE\n",
       "Tom Tykwer\n",
       "DIRECTED\n",
       "Lana Wachowski\n",
       "DIRECTED\n",
       "Stefan Arndt\n",
       "PRODUCED\n",
       "Jessica Thompson\n",
       "REVIEWED\n",
       "Halle Berry\n",
       "ACTED_IN\n",
       "Hugo Weaving\n",
       "ACTED_IN\n",
       "Lilly Wachowski\n",
       "DIRECTED\n"
      ]
     },
     "execution_count": 17,
     "metadata": {},
     "output_type": "execute_result"
    }
   ],
   "source": [
    "MATCH (people:Person)-[relatedTo]-(:Movie {title: \"Cloud Atlas\"}) \n",
    "RETURN people.name, Type(relatedTo), relatedTo"
   ]
  },
  {
   "cell_type": "markdown",
   "metadata": {
    "slideshow": {
     "slide_type": "slide"
    }
   },
   "source": [
    "## Solve\n",
    "\n",
    "You've heard of the classic \"Six Degrees of Kevin Bacon\"? That is simply a shortest path query called the \"Bacon Path\".\n",
    "\n",
    "### Variable length patterns"
   ]
  },
  {
   "cell_type": "code",
   "execution_count": 18,
   "metadata": {
    "slideshow": {
     "slide_type": "subslide"
    }
   },
   "outputs": [
    {
     "data": {
      "application/javascript": [
       "require([\"https://cdnjs.cloudflare.com/ajax/libs/vis/4.21.0/vis.min.js\"], function(vis) {\n",
       "  var nodes = new vis.DataSet([\n",
       "    { id: 1, label: \"Person\", title: \"{born:1964,<br>name:Keanu Reeves}\", color: 'rgba(1,33,211,0.5)'},\n",
       "    { id: 4, label: \"Person\", title: \"{born:1960,<br>name:Hugo Weaving}\", color: 'rgba(1,33,211,0.5)'},\n",
       "    { id: 5, label: \"Person\", title: \"{born:1967,<br>name:Lilly Wachowski}\", color: 'rgba(1,33,211,0.5)'},\n",
       "    { id: 6, label: \"Person\", title: \"{born:1965,<br>name:Lana Wachowski}\", color: 'rgba(1,33,211,0.5)'},\n",
       "    { id: 7, label: \"Person\", title: \"{born:1952,<br>name:Joel Silver}\", color: 'rgba(1,33,211,0.5)'},\n",
       "    { id: 12, label: \"Person\", title: \"{born:1975,<br>name:Charlize Theron}\", color: 'rgba(1,33,211,0.5)'},\n",
       "    { id: 15, label: \"Movie\", title: \"{tagline:In the heart of the nation's capital, in a courthouse of the U.S. government, one man will stop at nothing to keep his honor, and one will stop at nothing to find the truth.,<br>title:A Few Good Men,<br>released:1992}\", color: 'rgba(35,28,33,0.5)'},\n",
       "    { id: 16, label: \"Person\", title: \"{born:1962,<br>name:Tom Cruise}\", color: 'rgba(1,33,211,0.5)'},\n",
       "    { id: 17, label: \"Person\", title: \"{born:1937,<br>name:Jack Nicholson}\", color: 'rgba(1,33,211,0.5)'},\n",
       "    { id: 18, label: \"Person\", title: \"{born:1962,<br>name:Demi Moore}\", color: 'rgba(1,33,211,0.5)'},\n",
       "    { id: 19, label: \"Person\", title: \"{born:1958,<br>name:Kevin Bacon}\", color: 'rgba(1,33,211,0.5)'},\n",
       "    { id: 20, label: \"Person\", title: \"{born:1966,<br>name:Kiefer Sutherland}\", color: 'rgba(1,33,211,0.5)'},\n",
       "    { id: 21, label: \"Person\", title: \"{born:1971,<br>name:Noah Wyle}\", color: 'rgba(1,33,211,0.5)'},\n",
       "    { id: 22, label: \"Person\", title: \"{born:1968,<br>name:Cuba Gooding Jr.}\", color: 'rgba(1,33,211,0.5)'},\n",
       "    { id: 23, label: \"Person\", title: \"{born:1957,<br>name:Kevin Pollak}\", color: 'rgba(1,33,211,0.5)'},\n",
       "    { id: 24, label: \"Person\", title: \"{born:1943,<br>name:J.T. Walsh}\", color: 'rgba(1,33,211,0.5)'},\n",
       "    { id: 25, label: \"Person\", title: \"{born:1967,<br>name:James Marshall}\", color: 'rgba(1,33,211,0.5)'},\n",
       "    { id: 26, label: \"Person\", title: \"{born:1948,<br>name:Christopher Guest}\", color: 'rgba(1,33,211,0.5)'},\n",
       "    { id: 27, label: \"Person\", title: \"{born:1947,<br>name:Rob Reiner}\", color: 'rgba(1,33,211,0.5)'},\n",
       "    { id: 28, label: \"Person\", title: \"{born:1961,<br>name:Aaron Sorkin}\", color: 'rgba(1,33,211,0.5)'},\n",
       "    { id: 29, label: \"Movie\", title: \"{tagline:I feel the need, the need for speed.,<br>title:Top Gun,<br>released:1986}\", color: 'rgba(35,28,33,0.5)'},\n",
       "    { id: 30, label: \"Person\", title: \"{born:1957,<br>name:Kelly McGillis}\", color: 'rgba(1,33,211,0.5)'},\n",
       "    { id: 31, label: \"Person\", title: \"{born:1959,<br>name:Val Kilmer}\", color: 'rgba(1,33,211,0.5)'},\n",
       "    { id: 32, label: \"Person\", title: \"{born:1962,<br>name:Anthony Edwards}\", color: 'rgba(1,33,211,0.5)'},\n",
       "    { id: 33, label: \"Person\", title: \"{born:1933,<br>name:Tom Skerritt}\", color: 'rgba(1,33,211,0.5)'},\n",
       "    { id: 34, label: \"Person\", title: \"{born:1961,<br>name:Meg Ryan}\", color: 'rgba(1,33,211,0.5)'},\n",
       "    { id: 35, label: \"Person\", title: \"{born:1944,<br>name:Tony Scott}\", color: 'rgba(1,33,211,0.5)'},\n",
       "    { id: 36, label: \"Person\", title: \"{born:1941,<br>name:Jim Cash}\", color: 'rgba(1,33,211,0.5)'},\n",
       "    { id: 37, label: \"Movie\", title: \"{tagline:The rest of his life begins now.,<br>title:Jerry Maguire,<br>released:2000}\", color: 'rgba(35,28,33,0.5)'},\n",
       "    { id: 38, label: \"Person\", title: \"{born:1969,<br>name:Renee Zellweger}\", color: 'rgba(1,33,211,0.5)'},\n",
       "    { id: 39, label: \"Person\", title: \"{born:1962,<br>name:Kelly Preston}\", color: 'rgba(1,33,211,0.5)'},\n",
       "    { id: 40, label: \"Person\", title: \"{born:1974,<br>name:Jerry O'Connell}\", color: 'rgba(1,33,211,0.5)'},\n",
       "    { id: 41, label: \"Person\", title: \"{born:1970,<br>name:Jay Mohr}\", color: 'rgba(1,33,211,0.5)'},\n",
       "    { id: 42, label: \"Person\", title: \"{born:1961,<br>name:Bonnie Hunt}\", color: 'rgba(1,33,211,0.5)'},\n",
       "    { id: 43, label: \"Person\", title: \"{born:1971,<br>name:Regina King}\", color: 'rgba(1,33,211,0.5)'},\n",
       "    { id: 44, label: \"Person\", title: \"{born:1996,<br>name:Jonathan Lipnicki}\", color: 'rgba(1,33,211,0.5)'},\n",
       "    { id: 45, label: \"Person\", title: \"{born:1957,<br>name:Cameron Crowe}\", color: 'rgba(1,33,211,0.5)'},\n",
       "    { id: 46, label: \"Movie\", title: \"{tagline:For some, it's the last real taste of innocence, and the first real taste of life. But for everyone, it's the time that memories are made of.,<br>title:Stand By Me,<br>released:1986}\", color: 'rgba(35,28,33,0.5)'},\n",
       "    { id: 47, label: \"Person\", title: \"{born:1970,<br>name:River Phoenix}\", color: 'rgba(1,33,211,0.5)'},\n",
       "    { id: 48, label: \"Person\", title: \"{born:1971,<br>name:Corey Feldman}\", color: 'rgba(1,33,211,0.5)'},\n",
       "    { id: 49, label: \"Person\", title: \"{born:1972,<br>name:Wil Wheaton}\", color: 'rgba(1,33,211,0.5)'},\n",
       "    { id: 50, label: \"Person\", title: \"{born:1966,<br>name:John Cusack}\", color: 'rgba(1,33,211,0.5)'},\n",
       "    { id: 51, label: \"Person\", title: \"{born:1942,<br>name:Marshall Bell}\", color: 'rgba(1,33,211,0.5)'},\n",
       "    { id: 52, label: \"Movie\", title: \"{tagline:A comedy from the heart that goes for the throat.,<br>title:As Good as It Gets,<br>released:1997}\", color: 'rgba(35,28,33,0.5)'},\n",
       "    { id: 53, label: \"Person\", title: \"{born:1963,<br>name:Helen Hunt}\", color: 'rgba(1,33,211,0.5)'},\n",
       "    { id: 54, label: \"Person\", title: \"{born:1963,<br>name:Greg Kinnear}\", color: 'rgba(1,33,211,0.5)'},\n",
       "    { id: 55, label: \"Person\", title: \"{born:1940,<br>name:James L. Brooks}\", color: 'rgba(1,33,211,0.5)'},\n",
       "    { id: 56, label: \"Movie\", title: \"{tagline:After life there is more. The end is just the beginning.,<br>title:What Dreams May Come,<br>released:1998}\", color: 'rgba(35,28,33,0.5)'},\n",
       "    { id: 57, label: \"Person\", title: \"{born:1960,<br>name:Annabella Sciorra}\", color: 'rgba(1,33,211,0.5)'},\n",
       "    { id: 58, label: \"Person\", title: \"{born:1929,<br>name:Max von Sydow}\", color: 'rgba(1,33,211,0.5)'},\n",
       "    { id: 59, label: \"Person\", title: \"{born:1942,<br>name:Werner Herzog}\", color: 'rgba(1,33,211,0.5)'},\n",
       "    { id: 60, label: \"Person\", title: \"{born:1951,<br>name:Robin Williams}\", color: 'rgba(1,33,211,0.5)'},\n",
       "    { id: 61, label: \"Person\", title: \"{born:1956,<br>name:Vincent Ward}\", color: 'rgba(1,33,211,0.5)'},\n",
       "    { id: 64, label: \"Person\", title: \"{born:1971,<br>name:Rick Yune}\", color: 'rgba(1,33,211,0.5)'},\n",
       "    { id: 65, label: \"Person\", title: \"{born:1940,<br>name:James Cromwell}\", color: 'rgba(1,33,211,0.5)'},\n",
       "    { id: 67, label: \"Movie\", title: \"{tagline:At odds in life... in love on-line.,<br>title:You've Got Mail,<br>released:1998}\", color: 'rgba(35,28,33,0.5)'},\n",
       "    { id: 68, label: \"Person\", title: \"{born:1968,<br>name:Parker Posey}\", color: 'rgba(1,33,211,0.5)'},\n",
       "    { id: 69, label: \"Person\", title: \"{born:1973,<br>name:Dave Chappelle}\", color: 'rgba(1,33,211,0.5)'},\n",
       "    { id: 70, label: \"Person\", title: \"{born:1967,<br>name:Steve Zahn}\", color: 'rgba(1,33,211,0.5)'},\n",
       "    { id: 71, label: \"Person\", title: \"{born:1956,<br>name:Tom Hanks}\", color: 'rgba(1,33,211,0.5)'},\n",
       "    { id: 72, label: \"Person\", title: \"{born:1941,<br>name:Nora Ephron}\", color: 'rgba(1,33,211,0.5)'},\n",
       "    { id: 73, label: \"Movie\", title: \"{tagline:What if someone you never met, someone you never saw, someone you never knew was the only someone for you?,<br>title:Sleepless in Seattle,<br>released:1993}\", color: 'rgba(35,28,33,0.5)'},\n",
       "    { id: 74, label: \"Person\", title: \"{born:1956,<br>name:Rita Wilson}\", color: 'rgba(1,33,211,0.5)'},\n",
       "    { id: 75, label: \"Person\", title: \"{born:1953,<br>name:Bill Pullman}\", color: 'rgba(1,33,211,0.5)'},\n",
       "    { id: 76, label: \"Person\", title: \"{born:1949,<br>name:Victor Garber}\", color: 'rgba(1,33,211,0.5)'},\n",
       "    { id: 77, label: \"Person\", title: \"{born:1962,<br>name:Rosie O'Donnell}\", color: 'rgba(1,33,211,0.5)'},\n",
       "    { id: 78, label: \"Movie\", title: \"{tagline:A story of love, lava and burning desire.,<br>title:Joe Versus the Volcano,<br>released:1990}\", color: 'rgba(35,28,33,0.5)'},\n",
       "    { id: 79, label: \"Person\", title: \"{born:1950,<br>name:John Patrick Stanley}\", color: 'rgba(1,33,211,0.5)'},\n",
       "    { id: 80, label: \"Person\", title: \"{born:1956,<br>name:Nathan Lane}\", color: 'rgba(1,33,211,0.5)'},\n",
       "    { id: 81, label: \"Movie\", title: \"{tagline:At odds in life... in love on-line.,<br>title:When Harry Met Sally,<br>released:1998}\", color: 'rgba(35,28,33,0.5)'},\n",
       "    { id: 82, label: \"Person\", title: \"{born:1948,<br>name:Billy Crystal}\", color: 'rgba(1,33,211,0.5)'},\n",
       "    { id: 83, label: \"Person\", title: \"{born:1956,<br>name:Carrie Fisher}\", color: 'rgba(1,33,211,0.5)'},\n",
       "    { id: 84, label: \"Person\", title: \"{born:1949,<br>name:Bruno Kirby}\", color: 'rgba(1,33,211,0.5)'},\n",
       "    { id: 85, label: \"Movie\", title: \"{tagline:In every life there comes a time when that thing you dream becomes that thing you do,<br>title:That Thing You Do,<br>released:1996}\", color: 'rgba(35,28,33,0.5)'},\n",
       "    { id: 86, label: \"Person\", title: \"{born:1977,<br>name:Liv Tyler}\", color: 'rgba(1,33,211,0.5)'},\n",
       "    { id: 94, label: \"Person\", title: \"{born:1954,<br>name:Zach Grenier}\", color: 'rgba(1,33,211,0.5)'},\n",
       "    { id: 96, label: \"Person\", title: \"{born:1931,<br>name:Mike Nichols}\", color: 'rgba(1,33,211,0.5)'},\n",
       "    { id: 105, label: \"Movie\", title: \"{tagline:Everything is connected,<br>title:Cloud Atlas,<br>released:2012}\", color: 'rgba(35,28,33,0.5)'},\n",
       "    { id: 106, label: \"Person\", title: \"{born:1966,<br>name:Halle Berry}\", color: 'rgba(1,33,211,0.5)'},\n",
       "    { id: 107, label: \"Person\", title: \"{born:1949,<br>name:Jim Broadbent}\", color: 'rgba(1,33,211,0.5)'},\n",
       "    { id: 108, label: \"Person\", title: \"{born:1965,<br>name:Tom Tykwer}\", color: 'rgba(1,33,211,0.5)'},\n",
       "    { id: 109, label: \"Person\", title: \"{born:1969,<br>name:David Mitchell}\", color: 'rgba(1,33,211,0.5)'},\n",
       "    { id: 110, label: \"Person\", title: \"{born:1961,<br>name:Stefan Arndt}\", color: 'rgba(1,33,211,0.5)'},\n",
       "    { id: 111, label: \"Movie\", title: \"{tagline:Break The Codes,<br>title:The Da Vinci Code,<br>released:2006}\", color: 'rgba(35,28,33,0.5)'},\n",
       "    { id: 112, label: \"Person\", title: \"{born:1939,<br>name:Ian McKellen}\", color: 'rgba(1,33,211,0.5)'},\n",
       "    { id: 113, label: \"Person\", title: \"{born:1976,<br>name:Audrey Tautou}\", color: 'rgba(1,33,211,0.5)'},\n",
       "    { id: 114, label: \"Person\", title: \"{born:1971,<br>name:Paul Bettany}\", color: 'rgba(1,33,211,0.5)'},\n",
       "    { id: 115, label: \"Person\", title: \"{born:1954,<br>name:Ron Howard}\", color: 'rgba(1,33,211,0.5)'},\n",
       "    { id: 116, label: \"Movie\", title: \"{tagline:Freedom! Forever!,<br>title:V for Vendetta,<br>released:2006}\", color: 'rgba(35,28,33,0.5)'},\n",
       "    { id: 117, label: \"Person\", title: \"{born:1981,<br>name:Natalie Portman}\", color: 'rgba(1,33,211,0.5)'},\n",
       "    { id: 118, label: \"Person\", title: \"{born:1946,<br>name:Stephen Rea}\", color: 'rgba(1,33,211,0.5)'},\n",
       "    { id: 119, label: \"Person\", title: \"{born:1940,<br>name:John Hurt}\", color: 'rgba(1,33,211,0.5)'},\n",
       "    { id: 120, label: \"Person\", title: \"{born:1967,<br>name:Ben Miles}\", color: 'rgba(1,33,211,0.5)'},\n",
       "    { id: 127, label: \"Person\", title: \"{born:1982,<br>name:Rain}\", color: 'rgba(1,33,211,0.5)'},\n",
       "    { id: 128, label: \"Movie\", title: \"{tagline:Prepare to enter a secret world of assassins,<br>title:Ninja Assassin,<br>released:2009}\", color: 'rgba(35,28,33,0.5)'},\n",
       "    { id: 129, label: \"Person\", title: \"{name:Naomie Harris}\", color: 'rgba(1,33,211,0.5)'},\n",
       "    { id: 130, label: \"Movie\", title: \"{tagline:Walk a mile you'll never forget.,<br>title:The Green Mile,<br>released:1999}\", color: 'rgba(35,28,33,0.5)'},\n",
       "    { id: 131, label: \"Person\", title: \"{born:1957,<br>name:Michael Clarke Duncan}\", color: 'rgba(1,33,211,0.5)'},\n",
       "    { id: 132, label: \"Person\", title: \"{born:1953,<br>name:David Morse}\", color: 'rgba(1,33,211,0.5)'},\n",
       "    { id: 133, label: \"Person\", title: \"{born:1968,<br>name:Sam Rockwell}\", color: 'rgba(1,33,211,0.5)'},\n",
       "    { id: 134, label: \"Person\", title: \"{born:1955,<br>name:Gary Sinise}\", color: 'rgba(1,33,211,0.5)'},\n",
       "    { id: 135, label: \"Person\", title: \"{born:1959,<br>name:Patricia Clarkson}\", color: 'rgba(1,33,211,0.5)'},\n",
       "    { id: 136, label: \"Person\", title: \"{born:1959,<br>name:Frank Darabont}\", color: 'rgba(1,33,211,0.5)'},\n",
       "    { id: 137, label: \"Movie\", title: \"{tagline:400 million people were waiting for the truth.,<br>title:Frost/Nixon,<br>released:2008}\", color: 'rgba(35,28,33,0.5)'},\n",
       "    { id: 138, label: \"Person\", title: \"{born:1938,<br>name:Frank Langella}\", color: 'rgba(1,33,211,0.5)'},\n",
       "    { id: 139, label: \"Person\", title: \"{born:1969,<br>name:Michael Sheen}\", color: 'rgba(1,33,211,0.5)'},\n",
       "    { id: 140, label: \"Person\", title: \"{born:1960,<br>name:Oliver Platt}\", color: 'rgba(1,33,211,0.5)'},\n",
       "    { id: 141, label: \"Movie\", title: \"{tagline:He didn't want law. He wanted justice.,<br>title:Hoffa,<br>released:1992}\", color: 'rgba(35,28,33,0.5)'},\n",
       "    { id: 142, label: \"Person\", title: \"{born:1944,<br>name:Danny DeVito}\", color: 'rgba(1,33,211,0.5)'},\n",
       "    { id: 143, label: \"Person\", title: \"{born:1965,<br>name:John C. Reilly}\", color: 'rgba(1,33,211,0.5)'},\n",
       "    { id: 144, label: \"Movie\", title: \"{tagline:Houston, we have a problem.,<br>title:Apollo 13,<br>released:1995}\", color: 'rgba(35,28,33,0.5)'},\n",
       "    { id: 145, label: \"Person\", title: \"{born:1950,<br>name:Ed Harris}\", color: 'rgba(1,33,211,0.5)'},\n",
       "    { id: 146, label: \"Person\", title: \"{born:1955,<br>name:Bill Paxton}\", color: 'rgba(1,33,211,0.5)'},\n",
       "    { id: 147, label: \"Movie\", title: \"{tagline:Don't Breathe. Don't Look Back.,<br>title:Twister,<br>released:1996}\", color: 'rgba(35,28,33,0.5)'},\n",
       "    { id: 148, label: \"Person\", title: \"{born:1967,<br>name:Philip Seymour Hoffman}\", color: 'rgba(1,33,211,0.5)'},\n",
       "    { id: 149, label: \"Person\", title: \"{born:1943,<br>name:Jan de Bont}\", color: 'rgba(1,33,211,0.5)'},\n",
       "    { id: 150, label: \"Movie\", title: \"{tagline:At the edge of the world, his journey begins.,<br>title:Cast Away,<br>released:2000}\", color: 'rgba(35,28,33,0.5)'},\n",
       "    { id: 151, label: \"Person\", title: \"{born:1951,<br>name:Robert Zemeckis}\", color: 'rgba(1,33,211,0.5)'},\n",
       "    { id: 152, label: \"Movie\", title: \"{tagline:If he's crazy, what does that make you?,<br>title:One Flew Over the Cuckoo's Nest,<br>released:1975}\", color: 'rgba(35,28,33,0.5)'},\n",
       "    { id: 153, label: \"Person\", title: \"{born:1932,<br>name:Milos Forman}\", color: 'rgba(1,33,211,0.5)'},\n",
       "    { id: 154, label: \"Movie\", title: \"{title:Something's Gotta Give,<br>released:2003}\", color: 'rgba(35,28,33,0.5)'},\n",
       "    { id: 155, label: \"Person\", title: \"{born:1946,<br>name:Diane Keaton}\", color: 'rgba(1,33,211,0.5)'},\n",
       "    { id: 156, label: \"Person\", title: \"{born:1949,<br>name:Nancy Meyers}\", color: 'rgba(1,33,211,0.5)'},\n",
       "    { id: 157, label: \"Movie\", title: \"{tagline:One robot's 200 year journey to become an ordinary man.,<br>title:Bicentennial Man,<br>released:1999}\", color: 'rgba(35,28,33,0.5)'},\n",
       "    { id: 158, label: \"Person\", title: \"{born:1958,<br>name:Chris Columbus}\", color: 'rgba(1,33,211,0.5)'},\n",
       "    { id: 159, label: \"Movie\", title: \"{tagline:A stiff drink. A little mascara. A lot of nerve. Who said they couldn't bring down the Soviet empire.,<br>title:Charlie Wilson's War,<br>released:2007}\", color: 'rgba(35,28,33,0.5)'},\n",
       "    { id: 160, label: \"Person\", title: \"{born:1967,<br>name:Julia Roberts}\", color: 'rgba(1,33,211,0.5)'},\n",
       "    { id: 161, label: \"Movie\", title: \"{tagline:This Holiday Season… Believe,<br>title:The Polar Express,<br>released:2004}\", color: 'rgba(35,28,33,0.5)'},\n",
       "    { id: 162, label: \"Movie\", title: \"{tagline:Once in a lifetime you get a chance to do something different.,<br>title:A League of Their Own,<br>released:1992}\", color: 'rgba(35,28,33,0.5)'},\n",
       "    { id: 163, label: \"Person\", title: \"{born:1954,<br>name:Madonna}\", color: 'rgba(1,33,211,0.5)'},\n",
       "    { id: 164, label: \"Person\", title: \"{born:1956,<br>name:Geena Davis}\", color: 'rgba(1,33,211,0.5)'},\n",
       "    { id: 165, label: \"Person\", title: \"{born:1963,<br>name:Lori Petty}\", color: 'rgba(1,33,211,0.5)'},\n",
       "    { id: 166, label: \"Person\", title: \"{born:1943,<br>name:Penny Marshall}\", color: 'rgba(1,33,211,0.5)'},\n",
       "    { id: 169, label: \"Person\", title: \"{name:Jessica Thompson}\", color: 'rgba(1,33,211,0.5)'},\n",
       "    { id: 170, label: \"Person\", title: \"{name:James Thompson}\", color: 'rgba(1,33,211,0.5)'},\n",
       "    \n",
       "  ]);\n",
       "\n",
       "  // create an array with edges\n",
       "  var edges = new vis.DataSet([\n",
       "    \n",
       "  ]);\n",
       "\n",
       "  // create a network\n",
       "  var container = document.getElementById('733defc5-de35-44db-b0c0-ad756d529c64');\n",
       "  var data = {\n",
       "    nodes: nodes,\n",
       "    edges: edges\n",
       "  };\n",
       "\n",
       "  var options = {\n",
       "    edges: {\n",
       "      arrows: {\n",
       "        to: {\n",
       "          scaleFactor: 0.5\n",
       "        }\n",
       "      }\n",
       "    },\n",
       "    width: '100%',\n",
       "    height: '500px',\n",
       "    interaction: {hover: true}\n",
       "  };\n",
       "\n",
       "  var network = new vis.Network(container, data, options);});"
      ]
     },
     "metadata": {},
     "output_type": "display_data"
    },
    {
     "data": {
      "text/html": [
       "<link href=\"https://cdnjs.cloudflare.com/ajax/libs/vis/4.21.0/vis.min.css\" rel=\"stylesheet\" type=\"text/css\">\n",
       "        <div id=\"733defc5-de35-44db-b0c0-ad756d529c64\"></div>\n",
       "        "
      ]
     },
     "metadata": {},
     "output_type": "display_data"
    }
   ],
   "source": [
    "MATCH (bacon:Person {name:\"Kevin Bacon\"})-[*1..4]-(hollywood)\n",
    "RETURN DISTINCT hollywood"
   ]
  },
  {
   "cell_type": "markdown",
   "metadata": {
    "slideshow": {
     "slide_type": "subslide"
    }
   },
   "source": [
    "### Built-in `shortestPath()` algorithm"
   ]
  },
  {
   "cell_type": "code",
   "execution_count": 19,
   "metadata": {
    "slideshow": {
     "slide_type": "fragment"
    }
   },
   "outputs": [
    {
     "data": {
      "text/plain": [
       "<Path start=<Node id=19 labels=frozenset({'Person'}) properties={'born': 1958, 'name': 'Kevin Bacon'}> end=<Node id=34 labels=frozenset({'Person'}) properties={'born': 1961, 'name': 'Meg Ryan'}> size=4>\n"
      ]
     },
     "execution_count": 19,
     "metadata": {},
     "output_type": "execute_result"
    }
   ],
   "source": [
    "MATCH p=shortestPath(\n",
    "  (bacon:Person {name:\"Kevin Bacon\"})-[*]-(meg:Person {name:\"Meg Ryan\"})\n",
    ")\n",
    "RETURN p"
   ]
  },
  {
   "cell_type": "markdown",
   "metadata": {
    "slideshow": {
     "slide_type": "slide"
    }
   },
   "source": [
    "## Recommend\n",
    "\n",
    "Let's recommend new co-actors for Tom Hanks. A basic recommendation approach is to find connections past an immediate neighborhood which are themselves well connected.\n",
    "\n",
    "For Tom Hanks, that means:\n",
    "\n",
    "  1. Find actors that Tom Hanks hasn't yet worked with, but his co-actors have.\n",
    "  2. Find someone who can introduce Tom to his potential co-actor.\n",
    "  \n",
    "  \n",
    "Extend Tom Hanks co-actors, to find co-co-actors who haven't work with Tom Hanks..."
   ]
  },
  {
   "cell_type": "code",
   "execution_count": 20,
   "metadata": {
    "slideshow": {
     "slide_type": "subslide"
    }
   },
   "outputs": [
    {
     "data": {
      "text/plain": [
       "Tom Cruise\n",
       "5\n",
       "Zach Grenier\n",
       "5\n",
       "Cuba Gooding Jr.\n",
       "4\n",
       "Keanu Reeves\n",
       "4\n",
       "Jack Nicholson\n",
       "3\n",
       "Val Kilmer\n",
       "3\n",
       "Tom Skerritt\n",
       "3\n",
       "Kelly McGillis\n",
       "3\n",
       "Anthony Edwards\n",
       "3\n",
       "Carrie Fisher\n",
       "3\n",
       "Billy Crystal\n",
       "3\n",
       "Bruno Kirby\n",
       "3\n",
       "Laurence Fishburne\n",
       "3\n",
       "Carrie-Anne Moss\n",
       "3\n",
       "Michael Sheen\n",
       "2\n",
       "Frank Langella\n",
       "2\n",
       "Oliver Platt\n",
       "2\n",
       "James Marshall\n",
       "1\n",
       "Kevin Pollak\n",
       "1\n",
       "J.T. Walsh\n",
       "1\n",
       "Aaron Sorkin\n",
       "1\n",
       "Christopher Guest\n",
       "1\n",
       "Noah Wyle\n",
       "1\n",
       "Kiefer Sutherland\n",
       "1\n",
       "Demi Moore\n",
       "1\n",
       "Christian Bale\n",
       "1\n",
       "Marshall Bell\n",
       "1\n",
       "Robin Williams\n",
       "1\n",
       "Gene Hackman\n",
       "1\n",
       "Al Pacino\n",
       "1\n",
       "John Hurt\n",
       "1\n",
       "Stephen Rea\n",
       "1\n",
       "Natalie Portman\n",
       "1\n",
       "Ben Miles\n",
       "1\n",
       "Emil Eifrem\n",
       "1\n",
       "Jerry O'Connell\n",
       "1\n",
       "Jay Mohr\n",
       "1\n",
       "Jonathan Lipnicki\n",
       "1\n",
       "Renee Zellweger\n",
       "1\n",
       "Kelly Preston\n",
       "1\n",
       "Regina King\n",
       "1\n",
       "Ethan Hawke\n",
       "1\n",
       "Rick Yune\n",
       "1\n",
       "Max von Sydow\n",
       "1\n"
      ]
     },
     "execution_count": 20,
     "metadata": {},
     "output_type": "execute_result"
    }
   ],
   "source": [
    "MATCH (tom:Person {name:\"Tom Hanks\"})-[:ACTED_IN]->(m)<-[:ACTED_IN]-(coActors),\n",
    "      (coActors)-[:ACTED_IN]->(m2)<-[:ACTED_IN]-(cocoActors)\n",
    "WHERE NOT (tom)-[:ACTED_IN]->()<-[:ACTED_IN]-(cocoActors) AND tom <> cocoActors\n",
    "RETURN cocoActors.name AS Recommended, count(*) AS Strength ORDER BY Strength DESC"
   ]
  },
  {
   "cell_type": "markdown",
   "metadata": {
    "slideshow": {
     "slide_type": "subslide"
    }
   },
   "source": [
    "Find someone to introduce Tom Hanks to Tom Cruise"
   ]
  },
  {
   "cell_type": "code",
   "execution_count": 21,
   "metadata": {
    "slideshow": {
     "slide_type": "fragment"
    }
   },
   "outputs": [
    {
     "data": {
      "application/javascript": [
       "require([\"https://cdnjs.cloudflare.com/ajax/libs/vis/4.21.0/vis.min.js\"], function(vis) {\n",
       "  var nodes = new vis.DataSet([\n",
       "    { id: 34, label: \"Person\", title: \"{born:1961,<br>name:Meg Ryan}\", color: 'rgba(1,33,211,0.5)'},\n",
       "    { id: 67, label: \"Movie\", title: \"{tagline:At odds in life... in love on-line.,<br>title:You've Got Mail,<br>released:1998}\", color: 'rgba(35,28,33,0.5)'},\n",
       "    { id: 130, label: \"Movie\", title: \"{tagline:Walk a mile you'll never forget.,<br>title:The Green Mile,<br>released:1999}\", color: 'rgba(35,28,33,0.5)'},\n",
       "    { id: 37, label: \"Movie\", title: \"{tagline:The rest of his life begins now.,<br>title:Jerry Maguire,<br>released:2000}\", color: 'rgba(35,28,33,0.5)'},\n",
       "    { id: 71, label: \"Person\", title: \"{born:1956,<br>name:Tom Hanks}\", color: 'rgba(1,33,211,0.5)'},\n",
       "    { id: 73, label: \"Movie\", title: \"{tagline:What if someone you never met, someone you never saw, someone you never knew was the only someone for you?,<br>title:Sleepless in Seattle,<br>released:1993}\", color: 'rgba(35,28,33,0.5)'},\n",
       "    { id: 42, label: \"Person\", title: \"{born:1961,<br>name:Bonnie Hunt}\", color: 'rgba(1,33,211,0.5)'},\n",
       "    { id: 78, label: \"Movie\", title: \"{tagline:A story of love, lava and burning desire.,<br>title:Joe Versus the Volcano,<br>released:1990}\", color: 'rgba(35,28,33,0.5)'},\n",
       "    { id: 15, label: \"Movie\", title: \"{tagline:In the heart of the nation's capital, in a courthouse of the U.S. government, one man will stop at nothing to keep his honor, and one will stop at nothing to find the truth.,<br>title:A Few Good Men,<br>released:1992}\", color: 'rgba(35,28,33,0.5)'},\n",
       "    { id: 144, label: \"Movie\", title: \"{tagline:Houston, we have a problem.,<br>title:Apollo 13,<br>released:1995}\", color: 'rgba(35,28,33,0.5)'},\n",
       "    { id: 16, label: \"Person\", title: \"{born:1962,<br>name:Tom Cruise}\", color: 'rgba(1,33,211,0.5)'},\n",
       "    { id: 19, label: \"Person\", title: \"{born:1958,<br>name:Kevin Bacon}\", color: 'rgba(1,33,211,0.5)'},\n",
       "    { id: 29, label: \"Movie\", title: \"{tagline:I feel the need, the need for speed.,<br>title:Top Gun,<br>released:1986}\", color: 'rgba(35,28,33,0.5)'},\n",
       "    \n",
       "  ]);\n",
       "\n",
       "  // create an array with edges\n",
       "  var edges = new vis.DataSet([\n",
       "    { from: 71,to: 78, arrows:'to', title: \"ACTED_IN\" },\n",
       "    { from: 34,to: 78, arrows:'to', title: \"ACTED_IN\" },\n",
       "    { from: 16,to: 29, arrows:'to', title: \"ACTED_IN\" },\n",
       "    { from: 71,to: 144, arrows:'to', title: \"ACTED_IN\" },\n",
       "    { from: 19,to: 144, arrows:'to', title: \"ACTED_IN\" },\n",
       "    { from: 34,to: 29, arrows:'to', title: \"ACTED_IN\" },\n",
       "    { from: 16,to: 37, arrows:'to', title: \"ACTED_IN\" },\n",
       "    { from: 71,to: 67, arrows:'to', title: \"ACTED_IN\" },\n",
       "    { from: 34,to: 67, arrows:'to', title: \"ACTED_IN\" },\n",
       "    { from: 71,to: 130, arrows:'to', title: \"ACTED_IN\" },\n",
       "    { from: 42,to: 37, arrows:'to', title: \"ACTED_IN\" },\n",
       "    { from: 42,to: 130, arrows:'to', title: \"ACTED_IN\" },\n",
       "    { from: 16,to: 15, arrows:'to', title: \"ACTED_IN\" },\n",
       "    { from: 71,to: 73, arrows:'to', title: \"ACTED_IN\" },\n",
       "    { from: 34,to: 73, arrows:'to', title: \"ACTED_IN\" },\n",
       "    { from: 19,to: 15, arrows:'to', title: \"ACTED_IN\" },\n",
       "    \n",
       "  ]);\n",
       "\n",
       "  // create a network\n",
       "  var container = document.getElementById('18864d2c-1c48-412b-abe9-039918ffcd19');\n",
       "  var data = {\n",
       "    nodes: nodes,\n",
       "    edges: edges\n",
       "  };\n",
       "\n",
       "  var options = {\n",
       "    edges: {\n",
       "      arrows: {\n",
       "        to: {\n",
       "          scaleFactor: 0.5\n",
       "        }\n",
       "      }\n",
       "    },\n",
       "    width: '100%',\n",
       "    height: '500px',\n",
       "    interaction: {hover: true}\n",
       "  };\n",
       "\n",
       "  var network = new vis.Network(container, data, options);});"
      ]
     },
     "metadata": {},
     "output_type": "display_data"
    },
    {
     "data": {
      "text/html": [
       "<link href=\"https://cdnjs.cloudflare.com/ajax/libs/vis/4.21.0/vis.min.css\" rel=\"stylesheet\" type=\"text/css\">\n",
       "        <div id=\"18864d2c-1c48-412b-abe9-039918ffcd19\"></div>\n",
       "        "
      ]
     },
     "metadata": {},
     "output_type": "display_data"
    }
   ],
   "source": [
    "MATCH (tom:Person {name:\"Tom Hanks\"})-[a:ACTED_IN]->(m)<-[b:ACTED_IN]-(coActors),\n",
    "      (coActors)-[c:ACTED_IN]->(m2)<-[d:ACTED_IN]-(cruise:Person {name:\"Tom Cruise\"})\n",
    "RETURN tom, a, m, b, coActors, c, m2, d, cruise"
   ]
  },
  {
   "cell_type": "markdown",
   "metadata": {
    "slideshow": {
     "slide_type": "slide"
    }
   },
   "source": [
    "## Clean up\n",
    "\n",
    "When you're done experimenting, you can remove the movie data set.\n",
    "\n",
    "Note:\n",
    "\n",
    "  1. Nodes can't be deleted if relationships exist\n",
    "  2. Delete both nodes and relationships together\n",
    " \n",
    "**WARNING:** The following query will remove all nodes and relations in your database!"
   ]
  },
  {
   "cell_type": "code",
   "execution_count": 22,
   "metadata": {
    "slideshow": {
     "slide_type": "fragment"
    }
   },
   "outputs": [
    {
     "data": {
      "text/plain": []
     },
     "execution_count": 22,
     "metadata": {},
     "output_type": "execute_result"
    }
   ],
   "source": [
    "MATCH (n) DETACH DELETE n"
   ]
  },
  {
   "cell_type": "markdown",
   "metadata": {
    "slideshow": {
     "slide_type": "fragment"
    }
   },
   "source": [
    "Check that the Movie Graph is gone..."
   ]
  },
  {
   "cell_type": "code",
   "execution_count": 23,
   "metadata": {
    "slideshow": {
     "slide_type": "fragment"
    }
   },
   "outputs": [
    {
     "data": {
      "text/plain": []
     },
     "execution_count": 23,
     "metadata": {},
     "output_type": "execute_result"
    }
   ],
   "source": [
    "MATCH (n) RETURN n"
   ]
  }
 ],
 "metadata": {
  "celltoolbar": "Slideshow",
  "kernelspec": {
   "display_name": "Cypher",
   "language": "cypher",
   "name": "cypher"
  },
  "language_info": {
   "file_extension": ".cql",
   "mimetype": "text/cypher",
   "name": "cypher"
  }
 },
 "nbformat": 4,
 "nbformat_minor": 2
}
