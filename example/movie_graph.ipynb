{
 "cells": [
  {
   "cell_type": "markdown",
   "metadata": {},
   "source": [
    "This notebook is adapted from the _movie-graph_ playbook, which is part of the Neo4j Community Edition and which can be started there via `:play movie-graph`."
   ]
  },
  {
   "cell_type": "markdown",
   "metadata": {
    "slideshow": {
     "slide_type": "slide"
    }
   },
   "source": [
    "# Movie Graph\n",
    "\n",
    "#### Pop-cultural connections between actors and movies\n",
    "\n",
    "\n",
    "The Movie Graph is a mini graph application containing actors and directors that are related through the movies they've collaborated on.\n",
    "\n",
    "This guide will show you how to:\n",
    "\n",
    "  1. Create: insert movie data into the graph\n",
    "  2. Find: retrieve individual movies and actors\n",
    "  3. Query: discover related actors and directors\n",
    "  4. Solve: the Bacon Path"
   ]
  },
  {
   "cell_type": "markdown",
   "metadata": {
    "slideshow": {
     "slide_type": "slide"
    }
   },
   "source": [
    "## Create\n",
    "\n",
    "In the file `create_movie_graph.cql` contains a giant code block containing a single Cypher query statement composed of multiple CREATE clauses. This will create the movie graph.\n",
    "\n",
    "  1. Run (`CTRL+Return`) the Bash script below to create the data in your DB.\n",
    "  2. Wait for the query to finish\n",
    "  3. **WARNING**: This adds data to the current database, each time it is run!"
   ]
  },
  {
   "cell_type": "code",
   "execution_count": 21,
   "metadata": {
    "slideshow": {
     "slide_type": "fragment"
    }
   },
   "outputs": [
    {
     "data": {
      "text/plain": [
       "\r\n"
      ]
     },
     "execution_count": 21,
     "metadata": {},
     "output_type": "execute_result"
    }
   ],
   "source": [
    "%%bash\n",
    "cat create_movie_graph.cql | cypher-shell -u neo4j -p class --format plain"
   ]
  },
  {
   "cell_type": "markdown",
   "metadata": {
    "slideshow": {
     "slide_type": "slide"
    }
   },
   "source": [
    "## Find\n",
    "\n",
    "Example queries for finding individual nodes.\n",
    "\n",
    "  1. Execute each of the following queries (CTRL+Return)\n",
    "  2. Notice the syntax pattern\n",
    "  3. Try looking for other movies or actors"
   ]
  },
  {
   "cell_type": "code",
   "execution_count": 1,
   "metadata": {
    "slideshow": {
     "slide_type": "subslide"
    }
   },
   "outputs": [
    {
     "data": {
      "application/javascript": [
       "require([\"https://cdnjs.cloudflare.com/ajax/libs/vis/4.21.0/vis.min.js\"], function(vis) {\n",
       "  var nodes = new vis.DataSet([\n",
       "    { id: 1272, label: \"Person\", title: \"{name:Tom Hanks, born:1956, _id:1272,}\", color: 'rgb(229,67,189)'},\n",
       "    \n",
       "  ]);\n",
       "\n",
       "  // create an array with edges\n",
       "  var edges = new vis.DataSet([\n",
       "    \n",
       "  ]);\n",
       "\n",
       "  // create a network\n",
       "  var container = document.getElementById('94a8c60c-11a8-4df7-8d8b-04ff705378e0');\n",
       "  var data = {\n",
       "    nodes: nodes,\n",
       "    edges: edges\n",
       "  };\n",
       "\n",
       "  var options = {\n",
       "    edges: {\n",
       "      arrows: {\n",
       "        to: {\n",
       "          scaleFactor: 0.5\n",
       "        }\n",
       "      }\n",
       "    },\n",
       "    width: '100%',\n",
       "    height: '500px'\n",
       "  };\n",
       "\n",
       "  var network = new vis.Network(container, data, options);});"
      ]
     },
     "metadata": {},
     "output_type": "display_data"
    },
    {
     "data": {
      "text/html": [
       "<link href=\"https://cdnjs.cloudflare.com/ajax/libs/vis/4.21.0/vis.min.css\" rel=\"stylesheet\" type=\"text/css\">\n",
       "                <div id=\"94a8c60c-11a8-4df7-8d8b-04ff705378e0\"></div>\n",
       "                "
      ]
     },
     "metadata": {},
     "output_type": "display_data"
    },
    {
     "data": {
      "text/plain": [
       "+-------------------------------------------------------+\n",
       "| tom                                                   |\n",
       "+-------------------------------------------------------+\n",
       "| (:Person {name: \"Tom Hanks\", _id_: 1272, born: 1956}) |\n",
       "+-------------------------------------------------------+\n",
       "\n",
       "1 row available after 1 ms, consumed after another 1 ms"
      ]
     },
     "execution_count": 1,
     "metadata": {},
     "output_type": "execute_result"
    }
   ],
   "source": [
    "MATCH (tom {name: \"Tom Hanks\"})\n",
    "RETURN tom"
   ]
  },
  {
   "cell_type": "code",
   "execution_count": 2,
   "metadata": {
    "slideshow": {
     "slide_type": "subslide"
    }
   },
   "outputs": [
    {
     "data": {
      "application/javascript": [
       "require([\"https://cdnjs.cloudflare.com/ajax/libs/vis/4.21.0/vis.min.js\"], function(vis) {\n",
       "  var nodes = new vis.DataSet([\n",
       "    { id: 1306, label: \"Movie\", title: \"{tagline:Everything is connected, title:Cloud Atlas, released:2012, _id:1306,}\", color: 'rgb(28,255,224)'},\n",
       "    \n",
       "  ]);\n",
       "\n",
       "  // create an array with edges\n",
       "  var edges = new vis.DataSet([\n",
       "    \n",
       "  ]);\n",
       "\n",
       "  // create a network\n",
       "  var container = document.getElementById('df7ed552-e7ef-43cc-ac0b-4c1c3bada64b');\n",
       "  var data = {\n",
       "    nodes: nodes,\n",
       "    edges: edges\n",
       "  };\n",
       "\n",
       "  var options = {\n",
       "    edges: {\n",
       "      arrows: {\n",
       "        to: {\n",
       "          scaleFactor: 0.5\n",
       "        }\n",
       "      }\n",
       "    },\n",
       "    width: '100%',\n",
       "    height: '500px'\n",
       "  };\n",
       "\n",
       "  var network = new vis.Network(container, data, options);});"
      ]
     },
     "metadata": {},
     "output_type": "display_data"
    },
    {
     "data": {
      "text/html": [
       "<link href=\"https://cdnjs.cloudflare.com/ajax/libs/vis/4.21.0/vis.min.css\" rel=\"stylesheet\" type=\"text/css\">\n",
       "                <div id=\"df7ed552-e7ef-43cc-ac0b-4c1c3bada64b\"></div>\n",
       "                "
      ]
     },
     "metadata": {},
     "output_type": "display_data"
    },
    {
     "data": {
      "text/plain": [
       "+-------------------------------------------------------------------------------------------------+\n",
       "| cloudAtlas                                                                                      |\n",
       "+-------------------------------------------------------------------------------------------------+\n",
       "| (:Movie {tagline: \"Everything is connected\", _id_: 1306, title: \"Cloud Atlas\", released: 2012}) |\n",
       "+-------------------------------------------------------------------------------------------------+\n",
       "\n",
       "1 row available after 1 ms, consumed after another 0 ms"
      ]
     },
     "execution_count": 2,
     "metadata": {},
     "output_type": "execute_result"
    }
   ],
   "source": [
    "MATCH (cloudAtlas {title: \"Cloud Atlas\"})\n",
    "RETURN cloudAtlas"
   ]
  },
  {
   "cell_type": "code",
   "execution_count": 3,
   "metadata": {
    "slideshow": {
     "slide_type": "subslide"
    }
   },
   "outputs": [
    {
     "data": {
      "text/plain": [
       "+----------------------+\n",
       "| people.name          |\n",
       "+----------------------+\n",
       "| \"Keanu Reeves\"       |\n",
       "| \"Carrie-Anne Moss\"   |\n",
       "| \"Laurence Fishburne\" |\n",
       "| \"Hugo Weaving\"       |\n",
       "| \"Lilly Wachowski\"    |\n",
       "| \"Lana Wachowski\"     |\n",
       "| \"Joel Silver\"        |\n",
       "| \"Emil Eifrem\"        |\n",
       "| \"Charlize Theron\"    |\n",
       "| \"Al Pacino\"          |\n",
       "+----------------------+\n",
       "\n",
       "10 rows available after 10 ms, consumed after another 1 ms"
      ]
     },
     "execution_count": 3,
     "metadata": {},
     "output_type": "execute_result"
    }
   ],
   "source": [
    "MATCH (people:Person)\n",
    "RETURN people.name LIMIT 10"
   ]
  },
  {
   "cell_type": "code",
   "execution_count": 4,
   "metadata": {
    "slideshow": {
     "slide_type": "subslide"
    }
   },
   "outputs": [
    {
     "data": {
      "text/plain": [
       "+--------------------------+\n",
       "| nineties.title           |\n",
       "+--------------------------+\n",
       "| \"The Matrix\"             |\n",
       "| \"The Devil's Advocate\"   |\n",
       "| \"A Few Good Men\"         |\n",
       "| \"As Good as It Gets\"     |\n",
       "| \"What Dreams May Come\"   |\n",
       "| \"Snow Falling on Cedars\" |\n",
       "| \"You've Got Mail\"        |\n",
       "| \"Sleepless in Seattle\"   |\n",
       "| \"Joe Versus the Volcano\" |\n",
       "| \"When Harry Met Sally\"   |\n",
       "+--------------------------+\n",
       "\n",
       "10 rows available after 98 ms, consumed after another 0 ms"
      ]
     },
     "execution_count": 4,
     "metadata": {},
     "output_type": "execute_result"
    }
   ],
   "source": [
    "MATCH (nineties:Movie) \n",
    "WHERE nineties.released >= 1990 AND nineties.released < 2000 \n",
    "RETURN nineties.title LIMIT(10)"
   ]
  },
  {
   "cell_type": "markdown",
   "metadata": {
    "slideshow": {
     "slide_type": "slide"
    }
   },
   "source": [
    "## Query\n",
    "\n",
    "Finding patterns within the graph.\n",
    "\n",
    "  1. Actors are people who acted in movies\n",
    "  2. Directors are people who directed a movie\n",
    "  3. What other relationships exist?\n"
   ]
  },
  {
   "cell_type": "code",
   "execution_count": 5,
   "metadata": {
    "slideshow": {
     "slide_type": "subslide"
    }
   },
   "outputs": [
    {
     "data": {
      "application/javascript": [
       "require([\"https://cdnjs.cloudflare.com/ajax/libs/vis/4.21.0/vis.min.js\"], function(vis) {\n",
       "  var nodes = new vis.DataSet([\n",
       "    { id: 1274, label: \"Movie\", title: \"{tagline:What if someone you never met, someone you never saw, someone you never knew was the only someone for you?, title:Sleepless in Seattle, released:1993, _id:1274,}\", color: 'rgb(28,255,224)'},\n",
       "    { id: 1268, label: \"Movie\", title: \"{tagline:At odds in life... in love on-line., title:You've Got Mail, released:1998, _id:1268,}\", color: 'rgb(28,255,224)'},\n",
       "    { id: 1351, label: \"Movie\", title: \"{tagline:At the edge of the world, his journey begins., title:Cast Away, released:2000, _id:1351,}\", color: 'rgb(28,255,224)'},\n",
       "    { id: 1279, label: \"Movie\", title: \"{tagline:A story of love, lava and burning desire., title:Joe Versus the Volcano, released:1990, _id:1279,}\", color: 'rgb(28,255,224)'},\n",
       "    { id: 1272, label: \"Person\", title: \"{name:Tom Hanks, born:1956, _id:1272,}\", color: 'rgb(229,67,189)'},\n",
       "    { id: 1331, label: \"Movie\", title: \"{tagline:Walk a mile you'll never forget., title:The Green Mile, released:1999, _id:1331,}\", color: 'rgb(28,255,224)'},\n",
       "    { id: 1363, label: \"Movie\", title: \"{tagline:Once in a lifetime you get a chance to do something different., title:A League of Their Own, released:1992, _id:1363,}\", color: 'rgb(28,255,224)'},\n",
       "    { id: 1362, label: \"Movie\", title: \"{tagline:This Holiday Season… Believe, title:The Polar Express, released:2004, _id:1362,}\", color: 'rgb(28,255,224)'},\n",
       "    { id: 1286, label: \"Movie\", title: \"{tagline:In every life there comes a time when that thing you dream becomes that thing you do, title:That Thing You Do, released:1996, _id:1286,}\", color: 'rgb(28,255,224)'},\n",
       "    { id: 1345, label: \"Movie\", title: \"{tagline:Houston, we have a problem., title:Apollo 13, released:1995, _id:1345,}\", color: 'rgb(28,255,224)'},\n",
       "    { id: 1360, label: \"Movie\", title: \"{tagline:A stiff drink. A little mascara. A lot of nerve. Who said they couldn't bring down the Soviet empire., title:Charlie Wilson's War, released:2007, _id:1360,}\", color: 'rgb(28,255,224)'},\n",
       "    { id: 1306, label: \"Movie\", title: \"{tagline:Everything is connected, title:Cloud Atlas, released:2012, _id:1306,}\", color: 'rgb(28,255,224)'},\n",
       "    { id: 1312, label: \"Movie\", title: \"{tagline:Break The Codes, title:The Da Vinci Code, released:2006, _id:1312,}\", color: 'rgb(28,255,224)'},\n",
       "    \n",
       "  ]);\n",
       "\n",
       "  // create an array with edges\n",
       "  var edges = new vis.DataSet([\n",
       "    { from: 1272,to: 1274, arrows:'to', title: \"{roles:['Sam Baldwin'], _id:1685,}\" },\n",
       "    { from: 1272,to: 1312, arrows:'to', title: \"{roles:['Dr. Robert Langdon'], _id:1740,}\" },\n",
       "    { from: 1272,to: 1362, arrows:'to', title: \"{roles:['Hero Boy', 'Father', 'Conductor', 'Hobo', 'Scrooge', 'Santa Claus'], _id:1826,}\" },\n",
       "    { from: 1272,to: 1331, arrows:'to', title: \"{roles:['Paul Edgecomb'], _id:1776,}\" },\n",
       "    { from: 1272,to: 1360, arrows:'to', title: \"{roles:['Rep. Charlie Wilson'], _id:1822,}\" },\n",
       "    { from: 1272,to: 1306, arrows:'to', title: \"{roles:['Zachry', 'Dr. Henry Goose', 'Isaac Sachs', 'Dermot Hoggins'], _id:1731,}\" },\n",
       "    { from: 1272,to: 1351, arrows:'to', title: \"{roles:['Chuck Noland'], _id:1807,}\" },\n",
       "    { from: 1272,to: 1268, arrows:'to', title: \"{roles:['Joe Fox'], _id:1678,}\" },\n",
       "    { from: 1272,to: 1345, arrows:'to', title: \"{roles:['Jim Lovell'], _id:1796,}\" },\n",
       "    { from: 1272,to: 1363, arrows:'to', title: \"{roles:['Jimmy Dugan'], _id:1828,}\" },\n",
       "    { from: 1272,to: 1286, arrows:'to', title: \"{roles:['Mr. White'], _id:1704,}\" },\n",
       "    { from: 1272,to: 1279, arrows:'to', title: \"{roles:['Joe Banks'], _id:1692,}\" },\n",
       "    \n",
       "  ]);\n",
       "\n",
       "  // create a network\n",
       "  var container = document.getElementById('97a44618-baef-4dde-816c-122b80468d99');\n",
       "  var data = {\n",
       "    nodes: nodes,\n",
       "    edges: edges\n",
       "  };\n",
       "\n",
       "  var options = {\n",
       "    edges: {\n",
       "      arrows: {\n",
       "        to: {\n",
       "          scaleFactor: 0.5\n",
       "        }\n",
       "      }\n",
       "    },\n",
       "    width: '100%',\n",
       "    height: '500px'\n",
       "  };\n",
       "\n",
       "  var network = new vis.Network(container, data, options);});"
      ]
     },
     "metadata": {},
     "output_type": "display_data"
    },
    {
     "data": {
      "text/html": [
       "<link href=\"https://cdnjs.cloudflare.com/ajax/libs/vis/4.21.0/vis.min.css\" rel=\"stylesheet\" type=\"text/css\">\n",
       "                <div id=\"97a44618-baef-4dde-816c-122b80468d99\"></div>\n",
       "                "
      ]
     },
     "metadata": {},
     "output_type": "display_data"
    },
    {
     "data": {
      "text/plain": [
       "+-------------------------------------------------------------------------------------------------------------------------------------------------------------------------------------------------------------------------------------------------------------------------------------------------------------------------------------------------------------------------+\n",
       "| tom                                                   | in                                                                                                                | tomHanksMovies                                                                                                                                                                              |\n",
       "+-------------------------------------------------------------------------------------------------------------------------------------------------------------------------------------------------------------------------------------------------------------------------------------------------------------------------------------------------------------------------+\n",
       "| (:Person {name: \"Tom Hanks\", _id_: 1272, born: 1956}) | [:ACTED_IN {_id_: 1796, roles: [\"Jim Lovell\"]}[1272>1345]]                                                        | (:Movie {tagline: \"Houston, we have a problem.\", _id_: 1345, title: \"Apollo 13\", released: 1995})                                                                                           |\n",
       "| (:Person {name: \"Tom Hanks\", _id_: 1272, born: 1956}) | [:ACTED_IN {_id_: 1807, roles: [\"Chuck Noland\"]}[1272>1351]]                                                      | (:Movie {tagline: \"At the edge of the world, his journey begins.\", _id_: 1351, title: \"Cast Away\", released: 2000})                                                                         |\n",
       "| (:Person {name: \"Tom Hanks\", _id_: 1272, born: 1956}) | [:ACTED_IN {_id_: 1822, roles: [\"Rep. Charlie Wilson\"]}[1272>1360]]                                               | (:Movie {tagline: \"A stiff drink. A little mascara. A lot of nerve. Who said they couldn't bring down the Soviet empire.\", _id_: 1360, title: \"Charlie Wilson's War\", released: 2007})      |\n",
       "| (:Person {name: \"Tom Hanks\", _id_: 1272, born: 1956}) | [:ACTED_IN {_id_: 1826, roles: [\"Hero Boy\", \"Father\", \"Conductor\", \"Hobo\", \"Scrooge\", \"Santa Claus\"]}[1272>1362]] | (:Movie {tagline: \"This Holiday Season… Believe\", _id_: 1362, title: \"The Polar Express\", released: 2004})                                                                                  |\n",
       "| (:Person {name: \"Tom Hanks\", _id_: 1272, born: 1956}) | [:ACTED_IN {_id_: 1828, roles: [\"Jimmy Dugan\"]}[1272>1363]]                                                       | (:Movie {tagline: \"Once in a lifetime you get a chance to do something different.\", _id_: 1363, title: \"A League of Their Own\", released: 1992})                                            |\n",
       "| (:Person {name: \"Tom Hanks\", _id_: 1272, born: 1956}) | [:ACTED_IN {_id_: 1692, roles: [\"Joe Banks\"]}[1272>1279]]                                                         | (:Movie {tagline: \"A story of love, lava and burning desire.\", _id_: 1279, title: \"Joe Versus the Volcano\", released: 1990})                                                                |\n",
       "| (:Person {name: \"Tom Hanks\", _id_: 1272, born: 1956}) | [:ACTED_IN {_id_: 1685, roles: [\"Sam Baldwin\"]}[1272>1274]]                                                       | (:Movie {tagline: \"What if someone you never met, someone you never saw, someone you never knew was the only someone for you?\", _id_: 1274, title: \"Sleepless in Seattle\", released: 1993}) |\n",
       "| (:Person {name: \"Tom Hanks\", _id_: 1272, born: 1956}) | [:ACTED_IN {_id_: 1678, roles: [\"Joe Fox\"]}[1272>1268]]                                                           | (:Movie {tagline: \"At odds in life... in love on-line.\", _id_: 1268, title: \"You've Got Mail\", released: 1998})                                                                             |\n",
       "| (:Person {name: \"Tom Hanks\", _id_: 1272, born: 1956}) | [:ACTED_IN {_id_: 1704, roles: [\"Mr. White\"]}[1272>1286]]                                                         | (:Movie {tagline: \"In every life there comes a time when that thing you dream becomes that thing you do\", _id_: 1286, title: \"That Thing You Do\", released: 1996})                          |\n",
       "| (:Person {name: \"Tom Hanks\", _id_: 1272, born: 1956}) | [:ACTED_IN {_id_: 1740, roles: [\"Dr. Robert Langdon\"]}[1272>1312]]                                                | (:Movie {tagline: \"Break The Codes\", _id_: 1312, title: \"The Da Vinci Code\", released: 2006})                                                                                               |\n",
       "| (:Person {name: \"Tom Hanks\", _id_: 1272, born: 1956}) | [:ACTED_IN {_id_: 1731, roles: [\"Zachry\", \"Dr. Henry Goose\", \"Isaac Sachs\", \"Dermot Hoggins\"]}[1272>1306]]        | (:Movie {tagline: \"Everything is connected\", _id_: 1306, title: \"Cloud Atlas\", released: 2012})                                                                                             |\n",
       "| (:Person {name: \"Tom Hanks\", _id_: 1272, born: 1956}) | [:ACTED_IN {_id_: 1776, roles: [\"Paul Edgecomb\"]}[1272>1331]]                                                     | (:Movie {tagline: \"Walk a mile you'll never forget.\", _id_: 1331, title: \"The Green Mile\", released: 1999})                                                                                 |\n",
       "+-------------------------------------------------------------------------------------------------------------------------------------------------------------------------------------------------------------------------------------------------------------------------------------------------------------------------------------------------------------------------+\n",
       "\n",
       "12 rows available after 0 ms, consumed after another 2 ms"
      ]
     },
     "execution_count": 5,
     "metadata": {},
     "output_type": "execute_result"
    }
   ],
   "source": [
    "MATCH (tom:Person {name: \"Tom Hanks\"})-[in:ACTED_IN]->(tomHanksMovies) \n",
    "RETURN tom,in,tomHanksMovies"
   ]
  },
  {
   "cell_type": "code",
   "execution_count": 6,
   "metadata": {
    "slideshow": {
     "slide_type": "subslide"
    }
   },
   "outputs": [
    {
     "data": {
      "text/plain": [
       "+-------------------+\n",
       "| directors.name    |\n",
       "+-------------------+\n",
       "| \"Lilly Wachowski\" |\n",
       "| \"Lana Wachowski\"  |\n",
       "| \"Tom Tykwer\"      |\n",
       "+-------------------+\n",
       "\n",
       "3 rows available after 2 ms, consumed after another 0 ms"
      ]
     },
     "execution_count": 6,
     "metadata": {},
     "output_type": "execute_result"
    }
   ],
   "source": [
    "MATCH (cloudAtlas {title: \"Cloud Atlas\"})<-[:DIRECTED]-(directors)\n",
    "RETURN directors.name"
   ]
  },
  {
   "cell_type": "code",
   "execution_count": 7,
   "metadata": {
    "slideshow": {
     "slide_type": "subslide"
    }
   },
   "outputs": [
    {
     "data": {
      "text/plain": [
       "+--------------------------+\n",
       "| coActors.name            |\n",
       "+--------------------------+\n",
       "| \"Kevin Bacon\"            |\n",
       "| \"Bill Paxton\"            |\n",
       "| \"Ed Harris\"              |\n",
       "| \"Gary Sinise\"            |\n",
       "| \"Helen Hunt\"             |\n",
       "| \"Julia Roberts\"          |\n",
       "| \"Philip Seymour Hoffman\" |\n",
       "| \"Rosie O'Donnell\"        |\n",
       "| \"Lori Petty\"             |\n",
       "| \"Geena Davis\"            |\n",
       "| \"Bill Paxton\"            |\n",
       "| \"Madonna\"                |\n",
       "| \"Nathan Lane\"            |\n",
       "| \"Meg Ryan\"               |\n",
       "| \"Rosie O'Donnell\"        |\n",
       "| \"Victor Garber\"          |\n",
       "| \"Bill Pullman\"           |\n",
       "| \"Rita Wilson\"            |\n",
       "| \"Meg Ryan\"               |\n",
       "| \"Steve Zahn\"             |\n",
       "| \"Dave Chappelle\"         |\n",
       "| \"Parker Posey\"           |\n",
       "| \"Greg Kinnear\"           |\n",
       "| \"Meg Ryan\"               |\n",
       "| \"Liv Tyler\"              |\n",
       "| \"Charlize Theron\"        |\n",
       "| \"Audrey Tautou\"          |\n",
       "| \"Paul Bettany\"           |\n",
       "| \"Ian McKellen\"           |\n",
       "| \"Jim Broadbent\"          |\n",
       "| \"Hugo Weaving\"           |\n",
       "| \"Halle Berry\"            |\n",
       "| \"Sam Rockwell\"           |\n",
       "| \"James Cromwell\"         |\n",
       "| \"Patricia Clarkson\"      |\n",
       "| \"Gary Sinise\"            |\n",
       "| \"Michael Clarke Duncan\"  |\n",
       "| \"Bonnie Hunt\"            |\n",
       "| \"David Morse\"            |\n",
       "+--------------------------+\n",
       "\n",
       "39 rows available after 4 ms, consumed after another 5 ms"
      ]
     },
     "execution_count": 7,
     "metadata": {},
     "output_type": "execute_result"
    }
   ],
   "source": [
    "MATCH (tom:Person {name:\"Tom Hanks\"})-[:ACTED_IN]->(m)<-[:ACTED_IN]-(coActors)\n",
    "RETURN coActors.name"
   ]
  },
  {
   "cell_type": "code",
   "execution_count": 8,
   "metadata": {
    "slideshow": {
     "slide_type": "subslide"
    }
   },
   "outputs": [
    {
     "data": {
      "text/plain": [
       "+-------------------------------------------------------------------------------------------------------------------------------------------------------------------------------------------+\n",
       "| people.name        | Type(relatedTo) | relatedTo                                                                                                                                          |\n",
       "+-------------------------------------------------------------------------------------------------------------------------------------------------------------------------------------------+\n",
       "| \"Jessica Thompson\" | \"REVIEWED\"      | [:REVIEWED {summary: \"An amazing journey\", rating: 95, _id_: 1838}[1370>1306]]                                                                     |\n",
       "| \"David Mitchell\"   | \"WROTE\"         | [:WROTE {_id_: 1738}[1310>1306]]                                                                                                                   |\n",
       "| \"Stefan Arndt\"     | \"PRODUCED\"      | [:PRODUCED {_id_: 1739}[1311>1306]]                                                                                                                |\n",
       "| \"Lilly Wachowski\"  | \"DIRECTED\"      | [:DIRECTED {_id_: 1736}[1206>1306]]                                                                                                                |\n",
       "| \"Lana Wachowski\"   | \"DIRECTED\"      | [:DIRECTED {_id_: 1737}[1207>1306]]                                                                                                                |\n",
       "| \"Jim Broadbent\"    | \"ACTED_IN\"      | [:ACTED_IN {_id_: 1734, roles: [\"Vyvyan Ayrs\", \"Captain Molyneux\", \"Timothy Cavendish\"]}[1308>1306]]                                               |\n",
       "| \"Tom Tykwer\"       | \"DIRECTED\"      | [:DIRECTED {_id_: 1735}[1309>1306]]                                                                                                                |\n",
       "| \"Hugo Weaving\"     | \"ACTED_IN\"      | [:ACTED_IN {_id_: 1732, roles: [\"Bill Smoke\", \"Haskell Moore\", \"Tadeusz Kesselring\", \"Nurse Noakes\", \"Boardman Mephi\", \"Old Georgie\"]}[1205>1306]] |\n",
       "| \"Halle Berry\"      | \"ACTED_IN\"      | [:ACTED_IN {_id_: 1733, roles: [\"Luisa Rey\", \"Jocasta Ayrs\", \"Ovid\", \"Meronym\"]}[1307>1306]]                                                       |\n",
       "| \"Tom Hanks\"        | \"ACTED_IN\"      | [:ACTED_IN {_id_: 1731, roles: [\"Zachry\", \"Dr. Henry Goose\", \"Isaac Sachs\", \"Dermot Hoggins\"]}[1272>1306]]                                         |\n",
       "+-------------------------------------------------------------------------------------------------------------------------------------------------------------------------------------------+\n",
       "\n",
       "10 rows available after 0 ms, consumed after another 1 ms"
      ]
     },
     "execution_count": 8,
     "metadata": {},
     "output_type": "execute_result"
    }
   ],
   "source": [
    "MATCH (people:Person)-[relatedTo]-(:Movie {title: \"Cloud Atlas\"}) \n",
    "RETURN people.name, Type(relatedTo), relatedTo"
   ]
  },
  {
   "cell_type": "markdown",
   "metadata": {
    "slideshow": {
     "slide_type": "slide"
    }
   },
   "source": [
    "## Solve\n",
    "\n",
    "You've heard of the classic \"Six Degrees of Kevin Bacon\"? That is simply a shortest path query called the \"Bacon Path\".\n",
    "\n",
    "### Variable length patterns"
   ]
  },
  {
   "cell_type": "code",
   "execution_count": 9,
   "metadata": {
    "slideshow": {
     "slide_type": "subslide"
    }
   },
   "outputs": [
    {
     "data": {
      "application/javascript": [
       "require([\"https://cdnjs.cloudflare.com/ajax/libs/vis/4.21.0/vis.min.js\"], function(vis) {\n",
       "  var nodes = new vis.DataSet([\n",
       "    { id: 1310, label: \"Person\", title: \"{name:David Mitchell, born:1969, _id:1310,}\", color: 'rgb(229,67,189)'},\n",
       "    { id: 283, label: \"Person\", title: \"{name:Keanu Reeves, born:1964, _id:283,}\", color: 'rgb(229,67,189)'},\n",
       "    { id: 1320, label: \"Person\", title: \"{name:John Hurt, born:1940, _id:1320,}\", color: 'rgb(229,67,189)'},\n",
       "    { id: 1277, label: \"Person\", title: \"{name:Victor Garber, born:1949, _id:1277,}\", color: 'rgb(229,67,189)'},\n",
       "    { id: 1250, label: \"Person\", title: \"{name:Wil Wheaton, born:1972, _id:1250,}\", color: 'rgb(229,67,189)'},\n",
       "    { id: 1363, label: \"Movie\", title: \"{tagline:Once in a lifetime you get a chance to do something different., title:A League of Their Own, released:1992, _id:1363,}\", color: 'rgb(28,255,224)'},\n",
       "    { id: 1232, label: \"Person\", title: \"{name:Val Kilmer, born:1959, _id:1232,}\", color: 'rgb(229,67,189)'},\n",
       "    { id: 1270, label: \"Person\", title: \"{name:Dave Chappelle, born:1973, _id:1270,}\", color: 'rgb(229,67,189)'},\n",
       "    { id: 1332, label: \"Person\", title: \"{name:Michael Clarke Duncan, born:1957, _id:1332,}\", color: 'rgb(229,67,189)'},\n",
       "    { id: 1223, label: \"Person\", title: \"{name:Cuba Gooding Jr., born:1968, _id:1223,}\", color: 'rgb(229,67,189)'},\n",
       "    { id: 1330, label: \"Person\", title: \"{name:Naomie Harris, _id:1330,}\", color: 'rgb(229,67,189)'},\n",
       "    { id: 1317, label: \"Movie\", title: \"{tagline:Freedom! Forever!, title:V for Vendetta, released:2006, _id:1317,}\", color: 'rgb(28,255,224)'},\n",
       "    { id: 1360, label: \"Movie\", title: \"{tagline:A stiff drink. A little mascara. A lot of nerve. Who said they couldn't bring down the Soviet empire., title:Charlie Wilson's War, released:2007, _id:1360,}\", color: 'rgb(28,255,224)'},\n",
       "    { id: 1321, label: \"Person\", title: \"{name:Ben Miles, born:1967, _id:1321,}\", color: 'rgb(229,67,189)'},\n",
       "    { id: 1242, label: \"Person\", title: \"{name:Jay Mohr, born:1970, _id:1242,}\", color: 'rgb(229,67,189)'},\n",
       "    { id: 1253, label: \"Movie\", title: \"{tagline:A comedy from the heart that goes for the throat., title:As Good as It Gets, released:1997, _id:1253,}\", color: 'rgb(28,255,224)'},\n",
       "    { id: 1274, label: \"Movie\", title: \"{tagline:What if someone you never met, someone you never saw, someone you never knew was the only someone for you?, title:Sleepless in Seattle, released:1993, _id:1274,}\", color: 'rgb(28,255,224)'},\n",
       "    { id: 1256, label: \"Person\", title: \"{name:James L. Brooks, born:1940, _id:1256,}\", color: 'rgb(229,67,189)'},\n",
       "    { id: 1342, label: \"Movie\", title: \"{tagline:He didn't want law. He wanted justice., title:Hoffa, released:1992, _id:1342,}\", color: 'rgb(28,255,224)'},\n",
       "    { id: 1222, label: \"Person\", title: \"{name:Noah Wyle, born:1971, _id:1222,}\", color: 'rgb(229,67,189)'},\n",
       "    { id: 1297, label: \"Person\", title: \"{name:Mike Nichols, born:1931, _id:1297,}\", color: 'rgb(229,67,189)'},\n",
       "    { id: 1284, label: \"Person\", title: \"{name:Carrie Fisher, born:1956, _id:1284,}\", color: 'rgb(229,67,189)'},\n",
       "    { id: 1338, label: \"Movie\", title: \"{tagline:400 million people were waiting for the truth., title:Frost/Nixon, released:2008, _id:1338,}\", color: 'rgb(28,255,224)'},\n",
       "    { id: 1230, label: \"Movie\", title: \"{tagline:I feel the need, the need for speed., title:Top Gun, released:1986, _id:1230,}\", color: 'rgb(28,255,224)'},\n",
       "    { id: 1307, label: \"Person\", title: \"{name:Halle Berry, born:1966, _id:1307,}\", color: 'rgb(229,67,189)'},\n",
       "    { id: 1241, label: \"Person\", title: \"{name:Jerry O'Connell, born:1974, _id:1241,}\", color: 'rgb(229,67,189)'},\n",
       "    { id: 1217, label: \"Person\", title: \"{name:Tom Cruise, born:1962, _id:1217,}\", color: 'rgb(229,67,189)'},\n",
       "    { id: 1371, label: \"Person\", title: \"{name:James Thompson, _id:1371,}\", color: 'rgb(229,67,189)'},\n",
       "    { id: 1282, label: \"Movie\", title: \"{tagline:At odds in life... in love on-line., title:When Harry Met Sally, released:1998, _id:1282,}\", color: 'rgb(28,255,224)'},\n",
       "    { id: 1336, label: \"Person\", title: \"{name:Patricia Clarkson, born:1959, _id:1336,}\", color: 'rgb(229,67,189)'},\n",
       "    { id: 1335, label: \"Person\", title: \"{name:Gary Sinise, born:1955, _id:1335,}\", color: 'rgb(229,67,189)'},\n",
       "    { id: 1313, label: \"Person\", title: \"{name:Ian McKellen, born:1939, _id:1313,}\", color: 'rgb(229,67,189)'},\n",
       "    { id: 1337, label: \"Person\", title: \"{name:Frank Darabont, born:1959, _id:1337,}\", color: 'rgb(229,67,189)'},\n",
       "    { id: 1366, label: \"Person\", title: \"{name:Lori Petty, born:1963, _id:1366,}\", color: 'rgb(229,67,189)'},\n",
       "    { id: 1341, label: \"Person\", title: \"{name:Oliver Platt, born:1960, _id:1341,}\", color: 'rgb(229,67,189)'},\n",
       "    { id: 1333, label: \"Person\", title: \"{name:David Morse, born:1953, _id:1333,}\", color: 'rgb(229,67,189)'},\n",
       "    { id: 1251, label: \"Person\", title: \"{name:John Cusack, born:1966, _id:1251,}\", color: 'rgb(229,67,189)'},\n",
       "    { id: 1262, label: \"Person\", title: \"{name:Vincent Ward, born:1956, _id:1262,}\", color: 'rgb(229,67,189)'},\n",
       "    { id: 1308, label: \"Person\", title: \"{name:Jim Broadbent, born:1949, _id:1308,}\", color: 'rgb(229,67,189)'},\n",
       "    { id: 1280, label: \"Person\", title: \"{name:John Patrick Stanley, born:1950, _id:1280,}\", color: 'rgb(229,67,189)'},\n",
       "    { id: 1208, label: \"Person\", title: \"{name:Joel Silver, born:1952, _id:1208,}\", color: 'rgb(229,67,189)'},\n",
       "    { id: 1234, label: \"Person\", title: \"{name:Tom Skerritt, born:1933, _id:1234,}\", color: 'rgb(229,67,189)'},\n",
       "    { id: 1261, label: \"Person\", title: \"{name:Robin Williams, born:1951, _id:1261,}\", color: 'rgb(229,67,189)'},\n",
       "    { id: 1354, label: \"Person\", title: \"{name:Milos Forman, born:1932, _id:1354,}\", color: 'rgb(229,67,189)'},\n",
       "    { id: 1236, label: \"Person\", title: \"{name:Tony Scott, born:1944, _id:1236,}\", color: 'rgb(229,67,189)'},\n",
       "    { id: 1265, label: \"Person\", title: \"{name:Rick Yune, born:1971, _id:1265,}\", color: 'rgb(229,67,189)'},\n",
       "    { id: 1239, label: \"Person\", title: \"{name:Renee Zellweger, born:1969, _id:1239,}\", color: 'rgb(229,67,189)'},\n",
       "    { id: 1359, label: \"Person\", title: \"{name:Chris Columbus, born:1958, _id:1359,}\", color: 'rgb(229,67,189)'},\n",
       "    { id: 1255, label: \"Person\", title: \"{name:Greg Kinnear, born:1963, _id:1255,}\", color: 'rgb(229,67,189)'},\n",
       "    { id: 1220, label: \"Person\", title: \"{name:Kevin Bacon, born:1958, _id:1220,}\", color: 'rgb(229,67,189)'},\n",
       "    { id: 1231, label: \"Person\", title: \"{name:Kelly McGillis, born:1957, _id:1231,}\", color: 'rgb(229,67,189)'},\n",
       "    { id: 1356, label: \"Person\", title: \"{name:Diane Keaton, born:1946, _id:1356,}\", color: 'rgb(229,67,189)'},\n",
       "    { id: 1345, label: \"Movie\", title: \"{tagline:Houston, we have a problem., title:Apollo 13, released:1995, _id:1345,}\", color: 'rgb(28,255,224)'},\n",
       "    { id: 1257, label: \"Movie\", title: \"{tagline:After life there is more. The end is just the beginning., title:What Dreams May Come, released:1998, _id:1257,}\", color: 'rgb(28,255,224)'},\n",
       "    { id: 1347, label: \"Person\", title: \"{name:Bill Paxton, born:1955, _id:1347,}\", color: 'rgb(229,67,189)'},\n",
       "    { id: 1278, label: \"Person\", title: \"{name:Rosie O'Donnell, born:1962, _id:1278,}\", color: 'rgb(229,67,189)'},\n",
       "    { id: 1245, label: \"Person\", title: \"{name:Jonathan Lipnicki, born:1996, _id:1245,}\", color: 'rgb(229,67,189)'},\n",
       "    { id: 1235, label: \"Person\", title: \"{name:Meg Ryan, born:1961, _id:1235,}\", color: 'rgb(229,67,189)'},\n",
       "    { id: 1311, label: \"Person\", title: \"{name:Stefan Arndt, born:1961, _id:1311,}\", color: 'rgb(229,67,189)'},\n",
       "    { id: 1259, label: \"Person\", title: \"{name:Max von Sydow, born:1929, _id:1259,}\", color: 'rgb(229,67,189)'},\n",
       "    { id: 1312, label: \"Movie\", title: \"{tagline:Break The Codes, title:The Da Vinci Code, released:2006, _id:1312,}\", color: 'rgb(28,255,224)'},\n",
       "    { id: 1249, label: \"Person\", title: \"{name:Corey Feldman, born:1971, _id:1249,}\", color: 'rgb(229,67,189)'},\n",
       "    { id: 1281, label: \"Person\", title: \"{name:Nathan Lane, born:1956, _id:1281,}\", color: 'rgb(229,67,189)'},\n",
       "    { id: 1233, label: \"Person\", title: \"{name:Anthony Edwards, born:1962, _id:1233,}\", color: 'rgb(229,67,189)'},\n",
       "    { id: 1272, label: \"Person\", title: \"{name:Tom Hanks, born:1956, _id:1272,}\", color: 'rgb(229,67,189)'},\n",
       "    { id: 1205, label: \"Person\", title: \"{name:Hugo Weaving, born:1960, _id:1205,}\", color: 'rgb(229,67,189)'},\n",
       "    { id: 1269, label: \"Person\", title: \"{name:Parker Posey, born:1968, _id:1269,}\", color: 'rgb(229,67,189)'},\n",
       "    { id: 1362, label: \"Movie\", title: \"{tagline:This Holiday Season… Believe, title:The Polar Express, released:2004, _id:1362,}\", color: 'rgb(28,255,224)'},\n",
       "    { id: 1352, label: \"Person\", title: \"{name:Robert Zemeckis, born:1951, _id:1352,}\", color: 'rgb(229,67,189)'},\n",
       "    { id: 1334, label: \"Person\", title: \"{name:Sam Rockwell, born:1968, _id:1334,}\", color: 'rgb(229,67,189)'},\n",
       "    { id: 1268, label: \"Movie\", title: \"{tagline:At odds in life... in love on-line., title:You've Got Mail, released:1998, _id:1268,}\", color: 'rgb(28,255,224)'},\n",
       "    { id: 1275, label: \"Person\", title: \"{name:Rita Wilson, born:1956, _id:1275,}\", color: 'rgb(229,67,189)'},\n",
       "    { id: 1315, label: \"Person\", title: \"{name:Paul Bettany, born:1971, _id:1315,}\", color: 'rgb(229,67,189)'},\n",
       "    { id: 1355, label: \"Movie\", title: \"{title:Something's Gotta Give, released:2003, _id:1355,}\", color: 'rgb(28,255,224)'},\n",
       "    { id: 1266, label: \"Person\", title: \"{name:James Cromwell, born:1940, _id:1266,}\", color: 'rgb(229,67,189)'},\n",
       "    { id: 1252, label: \"Person\", title: \"{name:Marshall Bell, born:1942, _id:1252,}\", color: 'rgb(229,67,189)'},\n",
       "    { id: 1364, label: \"Person\", title: \"{name:Madonna, born:1954, _id:1364,}\", color: 'rgb(229,67,189)'},\n",
       "    { id: 1276, label: \"Person\", title: \"{name:Bill Pullman, born:1953, _id:1276,}\", color: 'rgb(229,67,189)'},\n",
       "    { id: 1206, label: \"Person\", title: \"{name:Lilly Wachowski, born:1967, _id:1206,}\", color: 'rgb(229,67,189)'},\n",
       "    { id: 1207, label: \"Person\", title: \"{name:Lana Wachowski, born:1965, _id:1207,}\", color: 'rgb(229,67,189)'},\n",
       "    { id: 1286, label: \"Movie\", title: \"{tagline:In every life there comes a time when that thing you dream becomes that thing you do, title:That Thing You Do, released:1996, _id:1286,}\", color: 'rgb(28,255,224)'},\n",
       "    { id: 1353, label: \"Movie\", title: \"{tagline:If he's crazy, what does that make you?, title:One Flew Over the Cuckoo's Nest, released:1975, _id:1353,}\", color: 'rgb(28,255,224)'},\n",
       "    { id: 1248, label: \"Person\", title: \"{name:River Phoenix, born:1970, _id:1248,}\", color: 'rgb(229,67,189)'},\n",
       "    { id: 1218, label: \"Person\", title: \"{name:Jack Nicholson, born:1937, _id:1218,}\", color: 'rgb(229,67,189)'},\n",
       "    { id: 1367, label: \"Person\", title: \"{name:Penny Marshall, born:1943, _id:1367,}\", color: 'rgb(229,67,189)'},\n",
       "    { id: 1346, label: \"Person\", title: \"{name:Ed Harris, born:1950, _id:1346,}\", color: 'rgb(229,67,189)'},\n",
       "    { id: 1349, label: \"Person\", title: \"{name:Philip Seymour Hoffman, born:1967, _id:1349,}\", color: 'rgb(229,67,189)'},\n",
       "    { id: 1319, label: \"Person\", title: \"{name:Stephen Rea, born:1946, _id:1319,}\", color: 'rgb(229,67,189)'},\n",
       "    { id: 1357, label: \"Person\", title: \"{name:Nancy Meyers, born:1949, _id:1357,}\", color: 'rgb(229,67,189)'},\n",
       "    { id: 1244, label: \"Person\", title: \"{name:Regina King, born:1971, _id:1244,}\", color: 'rgb(229,67,189)'},\n",
       "    { id: 1216, label: \"Movie\", title: \"{tagline:In the heart of the nation's capital, in a courthouse of the U.S. government, one man will stop at nothing to keep his honor, and one will stop at nothing to find the truth., title:A Few Good Men, released:1992, _id:1216,}\", color: 'rgb(28,255,224)'},\n",
       "    { id: 1273, label: \"Person\", title: \"{name:Nora Ephron, born:1941, _id:1273,}\", color: 'rgb(229,67,189)'},\n",
       "    { id: 1213, label: \"Person\", title: \"{name:Charlize Theron, born:1975, _id:1213,}\", color: 'rgb(229,67,189)'},\n",
       "    { id: 1285, label: \"Person\", title: \"{name:Bruno Kirby, born:1949, _id:1285,}\", color: 'rgb(229,67,189)'},\n",
       "    { id: 1238, label: \"Movie\", title: \"{tagline:The rest of his life begins now., title:Jerry Maguire, released:2000, _id:1238,}\", color: 'rgb(28,255,224)'},\n",
       "    { id: 1221, label: \"Person\", title: \"{name:Kiefer Sutherland, born:1966, _id:1221,}\", color: 'rgb(229,67,189)'},\n",
       "    { id: 1225, label: \"Person\", title: \"{name:J.T. Walsh, born:1943, _id:1225,}\", color: 'rgb(229,67,189)'},\n",
       "    { id: 1344, label: \"Person\", title: \"{name:John C. Reilly, born:1965, _id:1344,}\", color: 'rgb(229,67,189)'},\n",
       "    { id: 1279, label: \"Movie\", title: \"{tagline:A story of love, lava and burning desire., title:Joe Versus the Volcano, released:1990, _id:1279,}\", color: 'rgb(28,255,224)'},\n",
       "    { id: 1340, label: \"Person\", title: \"{name:Michael Sheen, born:1969, _id:1340,}\", color: 'rgb(229,67,189)'},\n",
       "    { id: 1309, label: \"Person\", title: \"{name:Tom Tykwer, born:1965, _id:1309,}\", color: 'rgb(229,67,189)'},\n",
       "    { id: 1358, label: \"Movie\", title: \"{tagline:One robot's 200 year journey to become an ordinary man., title:Bicentennial Man, released:1999, _id:1358,}\", color: 'rgb(28,255,224)'},\n",
       "    { id: 1361, label: \"Person\", title: \"{name:Julia Roberts, born:1967, _id:1361,}\", color: 'rgb(229,67,189)'},\n",
       "    { id: 1329, label: \"Movie\", title: \"{tagline:Prepare to enter a secret world of assassins, title:Ninja Assassin, released:2009, _id:1329,}\", color: 'rgb(28,255,224)'},\n",
       "    { id: 1229, label: \"Person\", title: \"{name:Aaron Sorkin, born:1961, _id:1229,}\", color: 'rgb(229,67,189)'},\n",
       "    { id: 1351, label: \"Movie\", title: \"{tagline:At the edge of the world, his journey begins., title:Cast Away, released:2000, _id:1351,}\", color: 'rgb(28,255,224)'},\n",
       "    { id: 1271, label: \"Person\", title: \"{name:Steve Zahn, born:1967, _id:1271,}\", color: 'rgb(229,67,189)'},\n",
       "    { id: 1283, label: \"Person\", title: \"{name:Billy Crystal, born:1948, _id:1283,}\", color: 'rgb(229,67,189)'},\n",
       "    { id: 1260, label: \"Person\", title: \"{name:Werner Herzog, born:1942, _id:1260,}\", color: 'rgb(229,67,189)'},\n",
       "    { id: 1243, label: \"Person\", title: \"{name:Bonnie Hunt, born:1961, _id:1243,}\", color: 'rgb(229,67,189)'},\n",
       "    { id: 1224, label: \"Person\", title: \"{name:Kevin Pollak, born:1957, _id:1224,}\", color: 'rgb(229,67,189)'},\n",
       "    { id: 1287, label: \"Person\", title: \"{name:Liv Tyler, born:1977, _id:1287,}\", color: 'rgb(229,67,189)'},\n",
       "    { id: 1306, label: \"Movie\", title: \"{tagline:Everything is connected, title:Cloud Atlas, released:2012, _id:1306,}\", color: 'rgb(28,255,224)'},\n",
       "    { id: 1314, label: \"Person\", title: \"{name:Audrey Tautou, born:1976, _id:1314,}\", color: 'rgb(229,67,189)'},\n",
       "    { id: 1339, label: \"Person\", title: \"{name:Frank Langella, born:1938, _id:1339,}\", color: 'rgb(229,67,189)'},\n",
       "    { id: 1343, label: \"Person\", title: \"{name:Danny DeVito, born:1944, _id:1343,}\", color: 'rgb(229,67,189)'},\n",
       "    { id: 1237, label: \"Person\", title: \"{name:Jim Cash, born:1941, _id:1237,}\", color: 'rgb(229,67,189)'},\n",
       "    { id: 1348, label: \"Movie\", title: \"{tagline:Don't Breathe. Don't Look Back., title:Twister, released:1996, _id:1348,}\", color: 'rgb(28,255,224)'},\n",
       "    { id: 1258, label: \"Person\", title: \"{name:Annabella Sciorra, born:1960, _id:1258,}\", color: 'rgb(229,67,189)'},\n",
       "    { id: 1228, label: \"Person\", title: \"{name:Rob Reiner, born:1947, _id:1228,}\", color: 'rgb(229,67,189)'},\n",
       "    { id: 1328, label: \"Person\", title: \"{name:Rain, born:1982, _id:1328,}\", color: 'rgb(229,67,189)'},\n",
       "    { id: 1247, label: \"Movie\", title: \"{tagline:For some, it's the last real taste of innocence, and the first real taste of life. But for everyone, it's the time that memories are made of., title:Stand By Me, released:1986, _id:1247,}\", color: 'rgb(28,255,224)'},\n",
       "    { id: 1370, label: \"Person\", title: \"{name:Jessica Thompson, _id:1370,}\", color: 'rgb(229,67,189)'},\n",
       "    { id: 1254, label: \"Person\", title: \"{name:Helen Hunt, born:1963, _id:1254,}\", color: 'rgb(229,67,189)'},\n",
       "    { id: 1226, label: \"Person\", title: \"{name:James Marshall, born:1967, _id:1226,}\", color: 'rgb(229,67,189)'},\n",
       "    { id: 1331, label: \"Movie\", title: \"{tagline:Walk a mile you'll never forget., title:The Green Mile, released:1999, _id:1331,}\", color: 'rgb(28,255,224)'},\n",
       "    { id: 1316, label: \"Person\", title: \"{name:Ron Howard, born:1954, _id:1316,}\", color: 'rgb(229,67,189)'},\n",
       "    { id: 1219, label: \"Person\", title: \"{name:Demi Moore, born:1962, _id:1219,}\", color: 'rgb(229,67,189)'},\n",
       "    { id: 1227, label: \"Person\", title: \"{name:Christopher Guest, born:1948, _id:1227,}\", color: 'rgb(229,67,189)'},\n",
       "    { id: 1365, label: \"Person\", title: \"{name:Geena Davis, born:1956, _id:1365,}\", color: 'rgb(229,67,189)'},\n",
       "    { id: 1350, label: \"Person\", title: \"{name:Jan de Bont, born:1943, _id:1350,}\", color: 'rgb(229,67,189)'},\n",
       "    { id: 1295, label: \"Person\", title: \"{name:Zach Grenier, born:1954, _id:1295,}\", color: 'rgb(229,67,189)'},\n",
       "    { id: 1318, label: \"Person\", title: \"{name:Natalie Portman, born:1981, _id:1318,}\", color: 'rgb(229,67,189)'},\n",
       "    { id: 1246, label: \"Person\", title: \"{name:Cameron Crowe, born:1957, _id:1246,}\", color: 'rgb(229,67,189)'},\n",
       "    { id: 1240, label: \"Person\", title: \"{name:Kelly Preston, born:1962, _id:1240,}\", color: 'rgb(229,67,189)'},\n",
       "    \n",
       "  ]);\n",
       "\n",
       "  // create an array with edges\n",
       "  var edges = new vis.DataSet([\n",
       "    \n",
       "  ]);\n",
       "\n",
       "  // create a network\n",
       "  var container = document.getElementById('aada65da-58c3-469b-8fae-9c348bfadd30');\n",
       "  var data = {\n",
       "    nodes: nodes,\n",
       "    edges: edges\n",
       "  };\n",
       "\n",
       "  var options = {\n",
       "    edges: {\n",
       "      arrows: {\n",
       "        to: {\n",
       "          scaleFactor: 0.5\n",
       "        }\n",
       "      }\n",
       "    },\n",
       "    width: '100%',\n",
       "    height: '500px'\n",
       "  };\n",
       "\n",
       "  var network = new vis.Network(container, data, options);});"
      ]
     },
     "metadata": {},
     "output_type": "display_data"
    },
    {
     "data": {
      "text/html": [
       "<link href=\"https://cdnjs.cloudflare.com/ajax/libs/vis/4.21.0/vis.min.css\" rel=\"stylesheet\" type=\"text/css\">\n",
       "                <div id=\"aada65da-58c3-469b-8fae-9c348bfadd30\"></div>\n",
       "                "
      ]
     },
     "metadata": {},
     "output_type": "display_data"
    },
    {
     "data": {
      "text/plain": [
       "+----------------------------------------------------------------------------------------------------------------------------------------------------------------------------------------------------------------------------------------------------------+\n",
       "| hollywood                                                                                                                                                                                                                                                |\n",
       "+----------------------------------------------------------------------------------------------------------------------------------------------------------------------------------------------------------------------------------------------------------+\n",
       "| (:Person {name: \"Helen Hunt\", _id_: 1254, born: 1963})                                                                                                                                                                                                   |\n",
       "| (:Person {name: \"Robert Zemeckis\", _id_: 1352, born: 1951})                                                                                                                                                                                              |\n",
       "| (:Movie {tagline: \"At the edge of the world, his journey begins.\", _id_: 1351, title: \"Cast Away\", released: 2000})                                                                                                                                      |\n",
       "| (:Person {name: \"Julia Roberts\", _id_: 1361, born: 1967})                                                                                                                                                                                                |\n",
       "| (:Person {name: \"Mike Nichols\", _id_: 1297, born: 1931})                                                                                                                                                                                                 |\n",
       "| (:Person {name: \"Philip Seymour Hoffman\", _id_: 1349, born: 1967})                                                                                                                                                                                       |\n",
       "| (:Movie {tagline: \"A stiff drink. A little mascara. A lot of nerve. Who said they couldn't bring down the Soviet empire.\", _id_: 1360, title: \"Charlie Wilson's War\", released: 2007})                                                                   |\n",
       "| (:Movie {tagline: \"This Holiday Season… Believe\", _id_: 1362, title: \"The Polar Express\", released: 2004})                                                                                                                                               |\n",
       "| (:Person {name: \"Rosie O'Donnell\", _id_: 1278, born: 1962})                                                                                                                                                                                              |\n",
       "| (:Person {name: \"Lori Petty\", _id_: 1366, born: 1963})                                                                                                                                                                                                   |\n",
       "| (:Person {name: \"Geena Davis\", _id_: 1365, born: 1956})                                                                                                                                                                                                  |\n",
       "| (:Person {name: \"Penny Marshall\", _id_: 1367, born: 1943})                                                                                                                                                                                               |\n",
       "| (:Person {name: \"Bill Paxton\", _id_: 1347, born: 1955})                                                                                                                                                                                                  |\n",
       "| (:Person {name: \"Madonna\", _id_: 1364, born: 1954})                                                                                                                                                                                                      |\n",
       "| (:Movie {tagline: \"Once in a lifetime you get a chance to do something different.\", _id_: 1363, title: \"A League of Their Own\", released: 1992})                                                                                                         |\n",
       "| (:Person {name: \"John Patrick Stanley\", _id_: 1280, born: 1950})                                                                                                                                                                                         |\n",
       "| (:Person {name: \"Nathan Lane\", _id_: 1281, born: 1956})                                                                                                                                                                                                  |\n",
       "| (:Person {name: \"Meg Ryan\", _id_: 1235, born: 1961})                                                                                                                                                                                                     |\n",
       "| (:Movie {tagline: \"A story of love, lava and burning desire.\", _id_: 1279, title: \"Joe Versus the Volcano\", released: 1990})                                                                                                                             |\n",
       "| (:Person {name: \"Nora Ephron\", _id_: 1273, born: 1941})                                                                                                                                                                                                  |\n",
       "| (:Person {name: \"Victor Garber\", _id_: 1277, born: 1949})                                                                                                                                                                                                |\n",
       "| (:Person {name: \"Bill Pullman\", _id_: 1276, born: 1953})                                                                                                                                                                                                 |\n",
       "| (:Person {name: \"Rita Wilson\", _id_: 1275, born: 1956})                                                                                                                                                                                                  |\n",
       "| (:Movie {tagline: \"What if someone you never met, someone you never saw, someone you never knew was the only someone for you?\", _id_: 1274, title: \"Sleepless in Seattle\", released: 1993})                                                              |\n",
       "| (:Person {name: \"Steve Zahn\", _id_: 1271, born: 1967})                                                                                                                                                                                                   |\n",
       "| (:Person {name: \"Dave Chappelle\", _id_: 1270, born: 1973})                                                                                                                                                                                               |\n",
       "| (:Person {name: \"Parker Posey\", _id_: 1269, born: 1968})                                                                                                                                                                                                 |\n",
       "| (:Person {name: \"Greg Kinnear\", _id_: 1255, born: 1963})                                                                                                                                                                                                 |\n",
       "| (:Movie {tagline: \"At odds in life... in love on-line.\", _id_: 1268, title: \"You've Got Mail\", released: 1998})                                                                                                                                          |\n",
       "| (:Person {name: \"Liv Tyler\", _id_: 1287, born: 1977})                                                                                                                                                                                                    |\n",
       "| (:Person {name: \"Charlize Theron\", _id_: 1213, born: 1975})                                                                                                                                                                                              |\n",
       "| (:Person {name: \"Tom Hanks\", _id_: 1272, born: 1956})                                                                                                                                                                                                    |\n",
       "| (:Movie {tagline: \"In every life there comes a time when that thing you dream becomes that thing you do\", _id_: 1286, title: \"That Thing You Do\", released: 1996})                                                                                       |\n",
       "| (:Person {name: \"Jessica Thompson\", _id_: 1370})                                                                                                                                                                                                         |\n",
       "| (:Person {name: \"James Thompson\", _id_: 1371})                                                                                                                                                                                                           |\n",
       "| (:Person {name: \"Ron Howard\", _id_: 1316, born: 1954})                                                                                                                                                                                                   |\n",
       "| (:Person {name: \"Audrey Tautou\", _id_: 1314, born: 1976})                                                                                                                                                                                                |\n",
       "| (:Person {name: \"Paul Bettany\", _id_: 1315, born: 1971})                                                                                                                                                                                                 |\n",
       "| (:Person {name: \"Ian McKellen\", _id_: 1313, born: 1939})                                                                                                                                                                                                 |\n",
       "| (:Movie {tagline: \"Break The Codes\", _id_: 1312, title: \"The Da Vinci Code\", released: 2006})                                                                                                                                                            |\n",
       "| (:Person {name: \"David Mitchell\", _id_: 1310, born: 1969})                                                                                                                                                                                               |\n",
       "| (:Person {name: \"Stefan Arndt\", _id_: 1311, born: 1961})                                                                                                                                                                                                 |\n",
       "| (:Person {name: \"Lilly Wachowski\", _id_: 1206, born: 1967})                                                                                                                                                                                              |\n",
       "| (:Person {name: \"Lana Wachowski\", _id_: 1207, born: 1965})                                                                                                                                                                                               |\n",
       "| (:Person {name: \"Jim Broadbent\", _id_: 1308, born: 1949})                                                                                                                                                                                                |\n",
       "| (:Person {name: \"Tom Tykwer\", _id_: 1309, born: 1965})                                                                                                                                                                                                   |\n",
       "| (:Person {name: \"Hugo Weaving\", _id_: 1205, born: 1960})                                                                                                                                                                                                 |\n",
       "| (:Person {name: \"Halle Berry\", _id_: 1307, born: 1966})                                                                                                                                                                                                  |\n",
       "| (:Movie {tagline: \"Everything is connected\", _id_: 1306, title: \"Cloud Atlas\", released: 2012})                                                                                                                                                          |\n",
       "| (:Person {name: \"Frank Darabont\", _id_: 1337, born: 1959})                                                                                                                                                                                               |\n",
       "| (:Person {name: \"Sam Rockwell\", _id_: 1334, born: 1968})                                                                                                                                                                                                 |\n",
       "| (:Person {name: \"James Cromwell\", _id_: 1266, born: 1940})                                                                                                                                                                                               |\n",
       "| (:Person {name: \"Patricia Clarkson\", _id_: 1336, born: 1959})                                                                                                                                                                                            |\n",
       "| (:Person {name: \"Gary Sinise\", _id_: 1335, born: 1955})                                                                                                                                                                                                  |\n",
       "| (:Person {name: \"Michael Clarke Duncan\", _id_: 1332, born: 1957})                                                                                                                                                                                        |\n",
       "| (:Person {name: \"Bonnie Hunt\", _id_: 1243, born: 1961})                                                                                                                                                                                                  |\n",
       "| (:Person {name: \"David Morse\", _id_: 1333, born: 1953})                                                                                                                                                                                                  |\n",
       "| (:Movie {tagline: \"Walk a mile you'll never forget.\", _id_: 1331, title: \"The Green Mile\", released: 1999})                                                                                                                                              |\n",
       "| (:Person {name: \"Zach Grenier\", _id_: 1295, born: 1954})                                                                                                                                                                                                 |\n",
       "| (:Person {name: \"Jan de Bont\", _id_: 1350, born: 1943})                                                                                                                                                                                                  |\n",
       "| (:Movie {tagline: \"Don't Breathe. Don't Look Back.\", _id_: 1348, title: \"Twister\", released: 1996})                                                                                                                                                      |\n",
       "| (:Person {name: \"Ed Harris\", _id_: 1346, born: 1950})                                                                                                                                                                                                    |\n",
       "| (:Person {name: \"Oliver Platt\", _id_: 1341, born: 1960})                                                                                                                                                                                                 |\n",
       "| (:Person {name: \"Frank Langella\", _id_: 1339, born: 1938})                                                                                                                                                                                               |\n",
       "| (:Person {name: \"Kevin Bacon\", _id_: 1220, born: 1958})                                                                                                                                                                                                  |\n",
       "| (:Person {name: \"Michael Sheen\", _id_: 1340, born: 1969})                                                                                                                                                                                                |\n",
       "| (:Movie {tagline: \"400 million people were waiting for the truth.\", _id_: 1338, title: \"Frost/Nixon\", released: 2008})                                                                                                                                   |\n",
       "| (:Movie {tagline: \"Houston, we have a problem.\", _id_: 1345, title: \"Apollo 13\", released: 1995})                                                                                                                                                        |\n",
       "| (:Person {name: \"Robin Williams\", _id_: 1261, born: 1951})                                                                                                                                                                                               |\n",
       "| (:Person {name: \"Chris Columbus\", _id_: 1359, born: 1958})                                                                                                                                                                                               |\n",
       "| (:Movie {tagline: \"One robot's 200 year journey to become an ordinary man.\", _id_: 1358, title: \"Bicentennial Man\", released: 1999})                                                                                                                     |\n",
       "| (:Person {name: \"Demi Moore\", _id_: 1219, born: 1962})                                                                                                                                                                                                   |\n",
       "| (:Person {name: \"Anthony Edwards\", _id_: 1233, born: 1962})                                                                                                                                                                                              |\n",
       "| (:Person {name: \"Val Kilmer\", _id_: 1232, born: 1959})                                                                                                                                                                                                   |\n",
       "| (:Person {name: \"Tom Skerritt\", _id_: 1234, born: 1933})                                                                                                                                                                                                 |\n",
       "| (:Person {name: \"Kelly McGillis\", _id_: 1231, born: 1957})                                                                                                                                                                                               |\n",
       "| (:Person {name: \"Jim Cash\", _id_: 1237, born: 1941})                                                                                                                                                                                                     |\n",
       "| (:Person {name: \"Tony Scott\", _id_: 1236, born: 1944})                                                                                                                                                                                                   |\n",
       "| (:Movie {tagline: \"I feel the need, the need for speed.\", _id_: 1230, title: \"Top Gun\", released: 1986})                                                                                                                                                 |\n",
       "| (:Person {name: \"Cameron Crowe\", _id_: 1246, born: 1957})                                                                                                                                                                                                |\n",
       "| (:Person {name: \"Regina King\", _id_: 1244, born: 1971})                                                                                                                                                                                                  |\n",
       "| (:Person {name: \"Jonathan Lipnicki\", _id_: 1245, born: 1996})                                                                                                                                                                                            |\n",
       "| (:Person {name: \"Kelly Preston\", _id_: 1240, born: 1962})                                                                                                                                                                                                |\n",
       "| (:Person {name: \"Renee Zellweger\", _id_: 1239, born: 1969})                                                                                                                                                                                              |\n",
       "| (:Person {name: \"Jay Mohr\", _id_: 1242, born: 1970})                                                                                                                                                                                                     |\n",
       "| (:Person {name: \"Jerry O'Connell\", _id_: 1241, born: 1974})                                                                                                                                                                                              |\n",
       "| (:Person {name: \"Cuba Gooding Jr.\", _id_: 1223, born: 1968})                                                                                                                                                                                             |\n",
       "| (:Movie {tagline: \"The rest of his life begins now.\", _id_: 1238, title: \"Jerry Maguire\", released: 2000})                                                                                                                                               |\n",
       "| (:Person {name: \"Tom Cruise\", _id_: 1217, born: 1962})                                                                                                                                                                                                   |\n",
       "| (:Person {name: \"Danny DeVito\", _id_: 1343, born: 1944})                                                                                                                                                                                                 |\n",
       "| (:Person {name: \"Milos Forman\", _id_: 1354, born: 1932})                                                                                                                                                                                                 |\n",
       "| (:Movie {tagline: \"If he's crazy, what does that make you?\", _id_: 1353, title: \"One Flew Over the Cuckoo's Nest\", released: 1975})                                                                                                                      |\n",
       "| (:Person {name: \"Diane Keaton\", _id_: 1356, born: 1946})                                                                                                                                                                                                 |\n",
       "| (:Person {name: \"Keanu Reeves\", _id_: 283, born: 1964})                                                                                                                                                                                                  |\n",
       "| (:Person {name: \"Nancy Meyers\", _id_: 1357, born: 1949})                                                                                                                                                                                                 |\n",
       "| (:Movie {title: \"Something's Gotta Give\", _id_: 1355, released: 2003})                                                                                                                                                                                   |\n",
       "| (:Person {name: \"J.T. Walsh\", _id_: 1225, born: 1943})                                                                                                                                                                                                   |\n",
       "| (:Person {name: \"John C. Reilly\", _id_: 1344, born: 1965})                                                                                                                                                                                               |\n",
       "| (:Movie {tagline: \"He didn't want law. He wanted justice.\", _id_: 1342, title: \"Hoffa\", released: 1992})                                                                                                                                                 |\n",
       "| (:Person {name: \"James L. Brooks\", _id_: 1256, born: 1940})                                                                                                                                                                                              |\n",
       "| (:Movie {tagline: \"A comedy from the heart that goes for the throat.\", _id_: 1253, title: \"As Good as It Gets\", released: 1997})                                                                                                                         |\n",
       "| (:Person {name: \"Jack Nicholson\", _id_: 1218, born: 1937})                                                                                                                                                                                               |\n",
       "| (:Person {name: \"Christopher Guest\", _id_: 1227, born: 1948})                                                                                                                                                                                            |\n",
       "| (:Person {name: \"James Marshall\", _id_: 1226, born: 1967})                                                                                                                                                                                               |\n",
       "| (:Person {name: \"Kevin Pollak\", _id_: 1224, born: 1957})                                                                                                                                                                                                 |\n",
       "| (:Person {name: \"Kiefer Sutherland\", _id_: 1221, born: 1966})                                                                                                                                                                                            |\n",
       "| (:Person {name: \"Noah Wyle\", _id_: 1222, born: 1971})                                                                                                                                                                                                    |\n",
       "| (:Person {name: \"Rob Reiner\", _id_: 1228, born: 1947})                                                                                                                                                                                                   |\n",
       "| (:Movie {tagline: \"In the heart of the nation's capital, in a courthouse of the U.S. government, one man will stop at nothing to keep his honor, and one will stop at nothing to find the truth.\", _id_: 1216, title: \"A Few Good Men\", released: 1992}) |\n",
       "| (:Person {name: \"Aaron Sorkin\", _id_: 1229, born: 1961})                                                                                                                                                                                                 |\n",
       "| (:Person {name: \"Joel Silver\", _id_: 1208, born: 1952})                                                                                                                                                                                                  |\n",
       "| (:Person {name: \"Ben Miles\", _id_: 1321, born: 1967})                                                                                                                                                                                                    |\n",
       "| (:Person {name: \"John Hurt\", _id_: 1320, born: 1940})                                                                                                                                                                                                    |\n",
       "| (:Person {name: \"Stephen Rea\", _id_: 1319, born: 1946})                                                                                                                                                                                                  |\n",
       "| (:Person {name: \"Natalie Portman\", _id_: 1318, born: 1981})                                                                                                                                                                                              |\n",
       "| (:Movie {tagline: \"Freedom! Forever!\", _id_: 1317, title: \"V for Vendetta\", released: 2006})                                                                                                                                                             |\n",
       "| (:Person {name: \"Rain\", _id_: 1328, born: 1982})                                                                                                                                                                                                         |\n",
       "| (:Person {name: \"Naomie Harris\", _id_: 1330})                                                                                                                                                                                                            |\n",
       "| (:Person {name: \"Rick Yune\", _id_: 1265, born: 1971})                                                                                                                                                                                                    |\n",
       "| (:Movie {tagline: \"Prepare to enter a secret world of assassins\", _id_: 1329, title: \"Ninja Assassin\", released: 2009})                                                                                                                                  |\n",
       "| (:Person {name: \"Vincent Ward\", _id_: 1262, born: 1956})                                                                                                                                                                                                 |\n",
       "| (:Person {name: \"Max von Sydow\", _id_: 1259, born: 1929})                                                                                                                                                                                                |\n",
       "| (:Person {name: \"Werner Herzog\", _id_: 1260, born: 1942})                                                                                                                                                                                                |\n",
       "| (:Person {name: \"Annabella Sciorra\", _id_: 1258, born: 1960})                                                                                                                                                                                            |\n",
       "| (:Movie {tagline: \"After life there is more. The end is just the beginning.\", _id_: 1257, title: \"What Dreams May Come\", released: 1998})                                                                                                                |\n",
       "| (:Person {name: \"Wil Wheaton\", _id_: 1250, born: 1972})                                                                                                                                                                                                  |\n",
       "| (:Person {name: \"River Phoenix\", _id_: 1248, born: 1970})                                                                                                                                                                                                |\n",
       "| (:Person {name: \"Marshall Bell\", _id_: 1252, born: 1942})                                                                                                                                                                                                |\n",
       "| (:Person {name: \"Corey Feldman\", _id_: 1249, born: 1971})                                                                                                                                                                                                |\n",
       "| (:Person {name: \"John Cusack\", _id_: 1251, born: 1966})                                                                                                                                                                                                  |\n",
       "| (:Movie {tagline: \"For some, it's the last real taste of innocence, and the first real taste of life. But for everyone, it's the time that memories are made of.\", _id_: 1247, title: \"Stand By Me\", released: 1986})                                    |\n",
       "| (:Person {name: \"Billy Crystal\", _id_: 1283, born: 1948})                                                                                                                                                                                                |\n",
       "| (:Person {name: \"Carrie Fisher\", _id_: 1284, born: 1956})                                                                                                                                                                                                |\n",
       "| (:Person {name: \"Bruno Kirby\", _id_: 1285, born: 1949})                                                                                                                                                                                                  |\n",
       "| (:Movie {tagline: \"At odds in life... in love on-line.\", _id_: 1282, title: \"When Harry Met Sally\", released: 1998})                                                                                                                                     |\n",
       "+----------------------------------------------------------------------------------------------------------------------------------------------------------------------------------------------------------------------------------------------------------+\n",
       "\n",
       "135 rows available after 1 ms, consumed after another 5 ms"
      ]
     },
     "execution_count": 9,
     "metadata": {},
     "output_type": "execute_result"
    }
   ],
   "source": [
    "MATCH (bacon:Person {name:\"Kevin Bacon\"})-[*1..4]-(hollywood)\n",
    "RETURN DISTINCT hollywood"
   ]
  },
  {
   "cell_type": "markdown",
   "metadata": {
    "slideshow": {
     "slide_type": "subslide"
    }
   },
   "source": [
    "### Built-in `shortestPath()` algorithm"
   ]
  },
  {
   "cell_type": "code",
   "execution_count": 10,
   "metadata": {
    "slideshow": {
     "slide_type": "fragment"
    }
   },
   "outputs": [
    {
     "data": {
      "application/javascript": [
       "require([\"https://cdnjs.cloudflare.com/ajax/libs/vis/4.21.0/vis.min.js\"], function(vis) {\n",
       "  var nodes = new vis.DataSet([\n",
       "    { id: 1220, label: \"Person\", title: \"{name:Kevin Bacon, born:1958, _id:1220,}\", color: 'rgb(229,67,189)'},\n",
       "    { id: 1279, label: \"Movie\", title: \"{tagline:A story of love, lava and burning desire., title:Joe Versus the Volcano, released:1990, _id:1279,}\", color: 'rgb(28,255,224)'},\n",
       "    { id: 1272, label: \"Person\", title: \"{name:Tom Hanks, born:1956, _id:1272,}\", color: 'rgb(229,67,189)'},\n",
       "    { id: 1235, label: \"Person\", title: \"{name:Meg Ryan, born:1961, _id:1235,}\", color: 'rgb(229,67,189)'},\n",
       "    { id: 1345, label: \"Movie\", title: \"{tagline:Houston, we have a problem., title:Apollo 13, released:1995, _id:1345,}\", color: 'rgb(28,255,224)'},\n",
       "    \n",
       "  ]);\n",
       "\n",
       "  // create an array with edges\n",
       "  var edges = new vis.DataSet([\n",
       "    { from: 1235,to: 1279, arrows:'to', title: \"{roles:['DeDe', 'Angelica Graynamore', 'Patricia Graynamore'], _id:1693,}\" },\n",
       "    { from: 1272,to: 1345, arrows:'to', title: \"{roles:['Jim Lovell'], _id:1796,}\" },\n",
       "    { from: 1220,to: 1345, arrows:'to', title: \"{roles:['Jack Swigert'], _id:1797,}\" },\n",
       "    { from: 1272,to: 1279, arrows:'to', title: \"{roles:['Joe Banks'], _id:1692,}\" },\n",
       "    \n",
       "  ]);\n",
       "\n",
       "  // create a network\n",
       "  var container = document.getElementById('ca23fe56-4eaa-455e-9223-af236a7cbb51');\n",
       "  var data = {\n",
       "    nodes: nodes,\n",
       "    edges: edges\n",
       "  };\n",
       "\n",
       "  var options = {\n",
       "    edges: {\n",
       "      arrows: {\n",
       "        to: {\n",
       "          scaleFactor: 0.5\n",
       "        }\n",
       "      }\n",
       "    },\n",
       "    width: '100%',\n",
       "    height: '500px'\n",
       "  };\n",
       "\n",
       "  var network = new vis.Network(container, data, options);});"
      ]
     },
     "metadata": {},
     "output_type": "display_data"
    },
    {
     "data": {
      "text/html": [
       "<link href=\"https://cdnjs.cloudflare.com/ajax/libs/vis/4.21.0/vis.min.css\" rel=\"stylesheet\" type=\"text/css\">\n",
       "                <div id=\"ca23fe56-4eaa-455e-9223-af236a7cbb51\"></div>\n",
       "                "
      ]
     },
     "metadata": {},
     "output_type": "display_data"
    },
    {
     "data": {
      "text/plain": [
       "+--------------------------------------------------------------------------------------------------------------------------------------------------------------------------------------------------------------------------------------------------------------------------------------------------------------------------------------------------------------------------------------------------------------------------------------------------------------------------------------------------------------------------------------------------------------------------------------------------------------------------------------------------------------------------------------------+\n",
       "| p                                                                                                                                                                                                                                                                                                                                                                                                                                                                                                                                                                                                                                                                                          |\n",
       "+--------------------------------------------------------------------------------------------------------------------------------------------------------------------------------------------------------------------------------------------------------------------------------------------------------------------------------------------------------------------------------------------------------------------------------------------------------------------------------------------------------------------------------------------------------------------------------------------------------------------------------------------------------------------------------------------+\n",
       "| (:Person {name: \"Kevin Bacon\", _id_: 1220, born: 1958})-[:ACTED_IN {_id_: 1797, roles: [\"Jack Swigert\"]}[1220>1345]]->(:Movie {tagline: \"Houston, we have a problem.\", _id_: 1345, title: \"Apollo 13\", released: 1995})<-[:ACTED_IN {_id_: 1796, roles: [\"Jim Lovell\"]}[1272>1345]]-(:Person {name: \"Tom Hanks\", _id_: 1272, born: 1956})-[:ACTED_IN {_id_: 1692, roles: [\"Joe Banks\"]}[1272>1279]]->(:Movie {tagline: \"A story of love, lava and burning desire.\", _id_: 1279, title: \"Joe Versus the Volcano\", released: 1990})<-[:ACTED_IN {_id_: 1693, roles: [\"DeDe\", \"Angelica Graynamore\", \"Patricia Graynamore\"]}[1235>1279]]-(:Person {name: \"Meg Ryan\", _id_: 1235, born: 1961}) |\n",
       "+--------------------------------------------------------------------------------------------------------------------------------------------------------------------------------------------------------------------------------------------------------------------------------------------------------------------------------------------------------------------------------------------------------------------------------------------------------------------------------------------------------------------------------------------------------------------------------------------------------------------------------------------------------------------------------------------+\n",
       "\n",
       "1 row available after 2 ms, consumed after another 1 ms"
      ]
     },
     "execution_count": 10,
     "metadata": {},
     "output_type": "execute_result"
    }
   ],
   "source": [
    "MATCH p=shortestPath(\n",
    "  (bacon:Person {name:\"Kevin Bacon\"})-[*]-(meg:Person {name:\"Meg Ryan\"})\n",
    ")\n",
    "RETURN p"
   ]
  },
  {
   "cell_type": "markdown",
   "metadata": {
    "slideshow": {
     "slide_type": "slide"
    }
   },
   "source": [
    "## Recommend\n",
    "\n",
    "Let's recommend new co-actors for Tom Hanks. A basic recommendation approach is to find connections past an immediate neighborhood which are themselves well connected.\n",
    "\n",
    "For Tom Hanks, that means:\n",
    "\n",
    "  1. Find actors that Tom Hanks hasn't yet worked with, but his co-actors have.\n",
    "  2. Find someone who can introduce Tom to his potential co-actor.\n",
    "  \n",
    "  \n",
    "Extend Tom Hanks co-actors, to find co-co-actors who haven't work with Tom Hanks..."
   ]
  },
  {
   "cell_type": "code",
   "execution_count": 12,
   "metadata": {
    "slideshow": {
     "slide_type": "subslide"
    }
   },
   "outputs": [
    {
     "data": {
      "text/plain": [
       "+---------------------------------+\n",
       "| Recommended          | Strength |\n",
       "+---------------------------------+\n",
       "| \"Tom Cruise\"         | 5        |\n",
       "| \"Zach Grenier\"       | 5        |\n",
       "| \"Cuba Gooding Jr.\"   | 4        |\n",
       "| \"Keanu Reeves\"       | 4        |\n",
       "| \"Tom Skerritt\"       | 3        |\n",
       "| \"Carrie-Anne Moss\"   | 3        |\n",
       "| \"Val Kilmer\"         | 3        |\n",
       "| \"Bruno Kirby\"        | 3        |\n",
       "| \"Billy Crystal\"      | 3        |\n",
       "| \"Carrie Fisher\"      | 3        |\n",
       "| \"Kelly McGillis\"     | 3        |\n",
       "| \"Anthony Edwards\"    | 3        |\n",
       "| \"Laurence Fishburne\" | 3        |\n",
       "| \"Jack Nicholson\"     | 3        |\n",
       "| \"Michael Sheen\"      | 2        |\n",
       "| \"Frank Langella\"     | 2        |\n",
       "| \"Oliver Platt\"       | 2        |\n",
       "| \"Emil Eifrem\"        | 1        |\n",
       "| \"Jay Mohr\"           | 1        |\n",
       "| \"Stephen Rea\"        | 1        |\n",
       "| \"Ben Miles\"          | 1        |\n",
       "| \"Renee Zellweger\"    | 1        |\n",
       "| \"Regina King\"        | 1        |\n",
       "| \"Kevin Pollak\"       | 1        |\n",
       "| \"Rick Yune\"          | 1        |\n",
       "| \"Natalie Portman\"    | 1        |\n",
       "| \"Gene Hackman\"       | 1        |\n",
       "| \"J.T. Walsh\"         | 1        |\n",
       "| \"Christopher Guest\"  | 1        |\n",
       "| \"Al Pacino\"          | 1        |\n",
       "| \"Marshall Bell\"      | 1        |\n",
       "| \"Kelly Preston\"      | 1        |\n",
       "| \"Ethan Hawke\"        | 1        |\n",
       "| \"Jonathan Lipnicki\"  | 1        |\n",
       "| \"James Marshall\"     | 1        |\n",
       "| \"Demi Moore\"         | 1        |\n",
       "| \"Jerry O'Connell\"    | 1        |\n",
       "| \"Max von Sydow\"      | 1        |\n",
       "| \"Noah Wyle\"          | 1        |\n",
       "| \"Kiefer Sutherland\"  | 1        |\n",
       "| \"Aaron Sorkin\"       | 1        |\n",
       "| \"John Hurt\"          | 1        |\n",
       "| \"Christian Bale\"     | 1        |\n",
       "| \"Robin Williams\"     | 1        |\n",
       "+---------------------------------+\n",
       "\n",
       "44 rows available after 6 ms, consumed after another 0 ms"
      ]
     },
     "execution_count": 12,
     "metadata": {},
     "output_type": "execute_result"
    }
   ],
   "source": [
    "MATCH (tom:Person {name:\"Tom Hanks\"})-[:ACTED_IN]->(m)<-[:ACTED_IN]-(coActors),\n",
    "      (coActors)-[:ACTED_IN]->(m2)<-[:ACTED_IN]-(cocoActors)\n",
    "WHERE NOT (tom)-[:ACTED_IN]->()<-[:ACTED_IN]-(cocoActors) AND tom <> cocoActors\n",
    "RETURN cocoActors.name AS Recommended, count(*) AS Strength ORDER BY Strength DESC"
   ]
  },
  {
   "cell_type": "markdown",
   "metadata": {
    "slideshow": {
     "slide_type": "subslide"
    }
   },
   "source": [
    "Find someone to introduce Tom Hanks to Tom Cruise"
   ]
  },
  {
   "cell_type": "code",
   "execution_count": 13,
   "metadata": {
    "slideshow": {
     "slide_type": "fragment"
    }
   },
   "outputs": [
    {
     "data": {
      "application/javascript": [
       "require([\"https://cdnjs.cloudflare.com/ajax/libs/vis/4.21.0/vis.min.js\"], function(vis) {\n",
       "  var nodes = new vis.DataSet([\n",
       "    { id: 1274, label: \"Movie\", title: \"{tagline:What if someone you never met, someone you never saw, someone you never knew was the only someone for you?, title:Sleepless in Seattle, released:1993, _id:1274,}\", color: 'rgb(28,255,224)'},\n",
       "    { id: 1268, label: \"Movie\", title: \"{tagline:At odds in life... in love on-line., title:You've Got Mail, released:1998, _id:1268,}\", color: 'rgb(28,255,224)'},\n",
       "    { id: 1220, label: \"Person\", title: \"{name:Kevin Bacon, born:1958, _id:1220,}\", color: 'rgb(229,67,189)'},\n",
       "    { id: 1279, label: \"Movie\", title: \"{tagline:A story of love, lava and burning desire., title:Joe Versus the Volcano, released:1990, _id:1279,}\", color: 'rgb(28,255,224)'},\n",
       "    { id: 1272, label: \"Person\", title: \"{name:Tom Hanks, born:1956, _id:1272,}\", color: 'rgb(229,67,189)'},\n",
       "    { id: 1217, label: \"Person\", title: \"{name:Tom Cruise, born:1962, _id:1217,}\", color: 'rgb(229,67,189)'},\n",
       "    { id: 1331, label: \"Movie\", title: \"{tagline:Walk a mile you'll never forget., title:The Green Mile, released:1999, _id:1331,}\", color: 'rgb(28,255,224)'},\n",
       "    { id: 1238, label: \"Movie\", title: \"{tagline:The rest of his life begins now., title:Jerry Maguire, released:2000, _id:1238,}\", color: 'rgb(28,255,224)'},\n",
       "    { id: 1235, label: \"Person\", title: \"{name:Meg Ryan, born:1961, _id:1235,}\", color: 'rgb(229,67,189)'},\n",
       "    { id: 1243, label: \"Person\", title: \"{name:Bonnie Hunt, born:1961, _id:1243,}\", color: 'rgb(229,67,189)'},\n",
       "    { id: 1345, label: \"Movie\", title: \"{tagline:Houston, we have a problem., title:Apollo 13, released:1995, _id:1345,}\", color: 'rgb(28,255,224)'},\n",
       "    { id: 1230, label: \"Movie\", title: \"{tagline:I feel the need, the need for speed., title:Top Gun, released:1986, _id:1230,}\", color: 'rgb(28,255,224)'},\n",
       "    { id: 1216, label: \"Movie\", title: \"{tagline:In the heart of the nation's capital, in a courthouse of the U.S. government, one man will stop at nothing to keep his honor, and one will stop at nothing to find the truth., title:A Few Good Men, released:1992, _id:1216,}\", color: 'rgb(28,255,224)'},\n",
       "    \n",
       "  ]);\n",
       "\n",
       "  // create an array with edges\n",
       "  var edges = new vis.DataSet([\n",
       "    { from: 1235,to: 1279, arrows:'to', title: \"{roles:['DeDe', 'Angelica Graynamore', 'Patricia Graynamore'], _id:1693,}\" },\n",
       "    { from: 1217,to: 1238, arrows:'to', title: \"{roles:['Jerry Maguire'], _id:1642,}\" },\n",
       "    { from: 1235,to: 1230, arrows:'to', title: \"{roles:['Carole'], _id:1639,}\" },\n",
       "    { from: 1272,to: 1274, arrows:'to', title: \"{roles:['Sam Baldwin'], _id:1685,}\" },\n",
       "    { from: 1235,to: 1274, arrows:'to', title: \"{roles:['Annie Reed'], _id:1686,}\" },\n",
       "    { from: 1220,to: 1345, arrows:'to', title: \"{roles:['Jack Swigert'], _id:1797,}\" },\n",
       "    { from: 1217,to: 1216, arrows:'to', title: \"{roles:['Lt. Daniel Kaffee'], _id:1620,}\" },\n",
       "    { from: 1217,to: 1230, arrows:'to', title: \"{roles:['Maverick'], _id:1634,}\" },\n",
       "    { from: 1272,to: 1331, arrows:'to', title: \"{roles:['Paul Edgecomb'], _id:1776,}\" },\n",
       "    { from: 1243,to: 1238, arrows:'to', title: \"{roles:['Laurel Boyd'], _id:1648,}\" },\n",
       "    { from: 1243,to: 1331, arrows:'to', title: \"{roles:['Jan Edgecomb'], _id:1779,}\" },\n",
       "    { from: 1272,to: 1268, arrows:'to', title: \"{roles:['Joe Fox'], _id:1678,}\" },\n",
       "    { from: 1272,to: 1345, arrows:'to', title: \"{roles:['Jim Lovell'], _id:1796,}\" },\n",
       "    { from: 1235,to: 1268, arrows:'to', title: \"{roles:['Kathleen Kelly'], _id:1679,}\" },\n",
       "    { from: 1220,to: 1216, arrows:'to', title: \"{roles:['Capt. Jack Ross'], _id:1623,}\" },\n",
       "    { from: 1272,to: 1279, arrows:'to', title: \"{roles:['Joe Banks'], _id:1692,}\" },\n",
       "    \n",
       "  ]);\n",
       "\n",
       "  // create a network\n",
       "  var container = document.getElementById('c67d22bf-59de-4e4a-bc03-317570b28b66');\n",
       "  var data = {\n",
       "    nodes: nodes,\n",
       "    edges: edges\n",
       "  };\n",
       "\n",
       "  var options = {\n",
       "    edges: {\n",
       "      arrows: {\n",
       "        to: {\n",
       "          scaleFactor: 0.5\n",
       "        }\n",
       "      }\n",
       "    },\n",
       "    width: '100%',\n",
       "    height: '500px'\n",
       "  };\n",
       "\n",
       "  var network = new vis.Network(container, data, options);});"
      ]
     },
     "metadata": {},
     "output_type": "display_data"
    },
    {
     "data": {
      "text/html": [
       "<link href=\"https://cdnjs.cloudflare.com/ajax/libs/vis/4.21.0/vis.min.css\" rel=\"stylesheet\" type=\"text/css\">\n",
       "                <div id=\"c67d22bf-59de-4e4a-bc03-317570b28b66\"></div>\n",
       "                "
      ]
     },
     "metadata": {},
     "output_type": "display_data"
    },
    {
     "data": {
      "text/plain": [
       "+----------------------------------------------------------------------------------------------------------------------------------------------------------------------------------------------------------------------------------------------------------------------------------------------------------------------------------------------------------------------------------------------------------------------------------------------------------------------------------------------------------------------------------------------------------------------------------------------------------------------------------------------------------------------------------------------------------------------------------------------------------------------------------------------------------------------------------------------------------------------------------------------------------------------------------------------+\n",
       "| tom                                                   | a                                                             | m                                                                                                                                                                                           | b                                                                                                  | coActors                                                | c                                                               | m2                                                                                                                                                                                                                                                       | d                                                                 | cruise                                                 |\n",
       "+----------------------------------------------------------------------------------------------------------------------------------------------------------------------------------------------------------------------------------------------------------------------------------------------------------------------------------------------------------------------------------------------------------------------------------------------------------------------------------------------------------------------------------------------------------------------------------------------------------------------------------------------------------------------------------------------------------------------------------------------------------------------------------------------------------------------------------------------------------------------------------------------------------------------------------------------+\n",
       "| (:Person {name: \"Tom Hanks\", _id_: 1272, born: 1956}) | [:ACTED_IN {_id_: 1796, roles: [\"Jim Lovell\"]}[1272>1345]]    | (:Movie {tagline: \"Houston, we have a problem.\", _id_: 1345, title: \"Apollo 13\", released: 1995})                                                                                           | [:ACTED_IN {_id_: 1797, roles: [\"Jack Swigert\"]}[1220>1345]]                                       | (:Person {name: \"Kevin Bacon\", _id_: 1220, born: 1958}) | [:ACTED_IN {_id_: 1623, roles: [\"Capt. Jack Ross\"]}[1220>1216]] | (:Movie {tagline: \"In the heart of the nation's capital, in a courthouse of the U.S. government, one man will stop at nothing to keep his honor, and one will stop at nothing to find the truth.\", _id_: 1216, title: \"A Few Good Men\", released: 1992}) | [:ACTED_IN {_id_: 1620, roles: [\"Lt. Daniel Kaffee\"]}[1217>1216]] | (:Person {name: \"Tom Cruise\", _id_: 1217, born: 1962}) |\n",
       "| (:Person {name: \"Tom Hanks\", _id_: 1272, born: 1956}) | [:ACTED_IN {_id_: 1692, roles: [\"Joe Banks\"]}[1272>1279]]     | (:Movie {tagline: \"A story of love, lava and burning desire.\", _id_: 1279, title: \"Joe Versus the Volcano\", released: 1990})                                                                | [:ACTED_IN {_id_: 1693, roles: [\"DeDe\", \"Angelica Graynamore\", \"Patricia Graynamore\"]}[1235>1279]] | (:Person {name: \"Meg Ryan\", _id_: 1235, born: 1961})    | [:ACTED_IN {_id_: 1639, roles: [\"Carole\"]}[1235>1230]]          | (:Movie {tagline: \"I feel the need, the need for speed.\", _id_: 1230, title: \"Top Gun\", released: 1986})                                                                                                                                                 | [:ACTED_IN {_id_: 1634, roles: [\"Maverick\"]}[1217>1230]]          | (:Person {name: \"Tom Cruise\", _id_: 1217, born: 1962}) |\n",
       "| (:Person {name: \"Tom Hanks\", _id_: 1272, born: 1956}) | [:ACTED_IN {_id_: 1685, roles: [\"Sam Baldwin\"]}[1272>1274]]   | (:Movie {tagline: \"What if someone you never met, someone you never saw, someone you never knew was the only someone for you?\", _id_: 1274, title: \"Sleepless in Seattle\", released: 1993}) | [:ACTED_IN {_id_: 1686, roles: [\"Annie Reed\"]}[1235>1274]]                                         | (:Person {name: \"Meg Ryan\", _id_: 1235, born: 1961})    | [:ACTED_IN {_id_: 1639, roles: [\"Carole\"]}[1235>1230]]          | (:Movie {tagline: \"I feel the need, the need for speed.\", _id_: 1230, title: \"Top Gun\", released: 1986})                                                                                                                                                 | [:ACTED_IN {_id_: 1634, roles: [\"Maverick\"]}[1217>1230]]          | (:Person {name: \"Tom Cruise\", _id_: 1217, born: 1962}) |\n",
       "| (:Person {name: \"Tom Hanks\", _id_: 1272, born: 1956}) | [:ACTED_IN {_id_: 1678, roles: [\"Joe Fox\"]}[1272>1268]]       | (:Movie {tagline: \"At odds in life... in love on-line.\", _id_: 1268, title: \"You've Got Mail\", released: 1998})                                                                             | [:ACTED_IN {_id_: 1679, roles: [\"Kathleen Kelly\"]}[1235>1268]]                                     | (:Person {name: \"Meg Ryan\", _id_: 1235, born: 1961})    | [:ACTED_IN {_id_: 1639, roles: [\"Carole\"]}[1235>1230]]          | (:Movie {tagline: \"I feel the need, the need for speed.\", _id_: 1230, title: \"Top Gun\", released: 1986})                                                                                                                                                 | [:ACTED_IN {_id_: 1634, roles: [\"Maverick\"]}[1217>1230]]          | (:Person {name: \"Tom Cruise\", _id_: 1217, born: 1962}) |\n",
       "| (:Person {name: \"Tom Hanks\", _id_: 1272, born: 1956}) | [:ACTED_IN {_id_: 1776, roles: [\"Paul Edgecomb\"]}[1272>1331]] | (:Movie {tagline: \"Walk a mile you'll never forget.\", _id_: 1331, title: \"The Green Mile\", released: 1999})                                                                                 | [:ACTED_IN {_id_: 1779, roles: [\"Jan Edgecomb\"]}[1243>1331]]                                       | (:Person {name: \"Bonnie Hunt\", _id_: 1243, born: 1961}) | [:ACTED_IN {_id_: 1648, roles: [\"Laurel Boyd\"]}[1243>1238]]     | (:Movie {tagline: \"The rest of his life begins now.\", _id_: 1238, title: \"Jerry Maguire\", released: 2000})                                                                                                                                               | [:ACTED_IN {_id_: 1642, roles: [\"Jerry Maguire\"]}[1217>1238]]     | (:Person {name: \"Tom Cruise\", _id_: 1217, born: 1962}) |\n",
       "+----------------------------------------------------------------------------------------------------------------------------------------------------------------------------------------------------------------------------------------------------------------------------------------------------------------------------------------------------------------------------------------------------------------------------------------------------------------------------------------------------------------------------------------------------------------------------------------------------------------------------------------------------------------------------------------------------------------------------------------------------------------------------------------------------------------------------------------------------------------------------------------------------------------------------------------------+\n",
       "\n",
       "5 rows available after 0 ms, consumed after another 2 ms"
      ]
     },
     "execution_count": 13,
     "metadata": {},
     "output_type": "execute_result"
    }
   ],
   "source": [
    "MATCH (tom:Person {name:\"Tom Hanks\"})-[a:ACTED_IN]->(m)<-[b:ACTED_IN]-(coActors),\n",
    "      (coActors)-[c:ACTED_IN]->(m2)<-[d:ACTED_IN]-(cruise:Person {name:\"Tom Cruise\"})\n",
    "RETURN tom, a, m, b, coActors, c, m2, d, cruise"
   ]
  },
  {
   "cell_type": "markdown",
   "metadata": {
    "slideshow": {
     "slide_type": "slide"
    }
   },
   "source": [
    "## Clean up\n",
    "\n",
    "When you're done experimenting, you can remove the movie data set.\n",
    "\n",
    "Note:\n",
    "\n",
    "  1. Nodes can't be deleted if relationships exist\n",
    "  2. Delete both nodes and relationships together\n",
    " \n",
    "**WARNING:** The following query will remove all nodes and relations in your database!"
   ]
  },
  {
   "cell_type": "code",
   "execution_count": 18,
   "metadata": {
    "slideshow": {
     "slide_type": "fragment"
    }
   },
   "outputs": [
    {
     "data": {
      "text/plain": [
       "0 rows available after 3 ms, consumed after another 0 ms\n",
       "Deleted 171 nodes, Deleted 253 relationships"
      ]
     },
     "execution_count": 18,
     "metadata": {},
     "output_type": "execute_result"
    }
   ],
   "source": [
    "MATCH (n) DETACH DELETE n"
   ]
  },
  {
   "cell_type": "markdown",
   "metadata": {
    "slideshow": {
     "slide_type": "fragment"
    }
   },
   "source": [
    "Check that the Movie Graph is gone..."
   ]
  },
  {
   "cell_type": "code",
   "execution_count": 19,
   "metadata": {
    "slideshow": {
     "slide_type": "fragment"
    }
   },
   "outputs": [
    {
     "data": {
      "text/plain": [
       "0 rows available after 7 ms, consumed after another 0 ms"
      ]
     },
     "execution_count": 19,
     "metadata": {},
     "output_type": "execute_result"
    }
   ],
   "source": [
    "MATCH (n) RETURN n"
   ]
  }
 ],
 "metadata": {
  "celltoolbar": "Slideshow",
  "kernelspec": {
   "display_name": "Cypher",
   "language": "cypher",
   "name": "cypher"
  },
  "language_info": {
   "file_extension": ".cql",
   "mimetype": "text/cypher",
   "name": "Any text"
  }
 },
 "nbformat": 4,
 "nbformat_minor": 2
}
