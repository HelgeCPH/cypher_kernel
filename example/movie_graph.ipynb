{
 "cells": [
  {
   "cell_type": "markdown",
   "metadata": {},
   "source": [
    "This notebook is adapted from the _movie-graph_ playbook, which is part of the Neo4j Community Edition and which can be started there via `:play movie-graph`."
   ]
  },
  {
   "cell_type": "markdown",
   "metadata": {
    "slideshow": {
     "slide_type": "slide"
    }
   },
   "source": [
    "# Movie Graph\n",
    "\n",
    "#### Pop-cultural connections between actors and movies\n",
    "\n",
    "\n",
    "The Movie Graph is a mini graph application containing actors and directors that are related through the movies they've collaborated on.\n",
    "\n",
    "This guide will show you how to:\n",
    "\n",
    "  1. Create: insert movie data into the graph\n",
    "  2. Find: retrieve individual movies and actors\n",
    "  3. Query: discover related actors and directors\n",
    "  4. Solve: the Bacon Path"
   ]
  },
  {
   "cell_type": "markdown",
   "metadata": {
    "slideshow": {
     "slide_type": "slide"
    }
   },
   "source": [
    "## Create\n",
    "\n",
    "In the file `create_movie_graph.cql` contains a giant code block containing a single Cypher query statement composed of multiple CREATE clauses. This will create the movie graph.\n",
    "\n",
    "  1. Run (`CTRL+Return`) the Bash script below to create the data in your DB.\n",
    "  2. Wait for the query to finish\n",
    "  3. **WARNING**: This adds data to the current database, each time it is run!"
   ]
  },
  {
   "cell_type": "code",
   "execution_count": 2,
   "metadata": {
    "slideshow": {
     "slide_type": "fragment"
    }
   },
   "outputs": [
    {
     "data": {
      "text/plain": [
       "\r\n"
      ]
     },
     "execution_count": 2,
     "metadata": {},
     "output_type": "execute_result"
    }
   ],
   "source": [
    "%%bash\n",
    "cat create_movie_graph.cql | cypher-shell -u neo4j -p secret --format plain"
   ]
  },
  {
   "cell_type": "markdown",
   "metadata": {
    "slideshow": {
     "slide_type": "slide"
    }
   },
   "source": [
    "## Find\n",
    "\n",
    "Example queries for finding individual nodes.\n",
    "\n",
    "  1. Execute each of the following queries (CTRL+Return)\n",
    "  2. Notice the syntax pattern\n",
    "  3. Try looking for other movies or actors"
   ]
  },
  {
   "cell_type": "code",
   "execution_count": 3,
   "metadata": {
    "slideshow": {
     "slide_type": "subslide"
    }
   },
   "outputs": [
    {
     "data": {
      "application/javascript": [
       "require([\"https://cdnjs.cloudflare.com/ajax/libs/vis/4.21.0/vis.min.js\"], function(vis) {\n",
       "  var nodes = new vis.DataSet([\n",
       "    { id: 1103, label: \"Person\", title: \"{name:Tom Hanks, born:1956, _id:1103,}\", color: 'rgb(178,248,79)'},\n",
       "    \n",
       "  ]);\n",
       "\n",
       "  // create an array with edges\n",
       "  var edges = new vis.DataSet([\n",
       "    \n",
       "  ]);\n",
       "\n",
       "  // create a network\n",
       "  var container = document.getElementById('98a67304-a635-490d-a40b-273e074bfe1a');\n",
       "  var data = {\n",
       "    nodes: nodes,\n",
       "    edges: edges\n",
       "  };\n",
       "\n",
       "  var options = {\n",
       "    edges: {\n",
       "      arrows: {\n",
       "        to: {\n",
       "          scaleFactor: 0.5\n",
       "        }\n",
       "      }\n",
       "    },\n",
       "    width: '100%',\n",
       "    height: '500px'\n",
       "  };\n",
       "\n",
       "  var network = new vis.Network(container, data, options);});"
      ]
     },
     "metadata": {},
     "output_type": "display_data"
    },
    {
     "data": {
      "text/html": [
       "<link href=\"https://cdnjs.cloudflare.com/ajax/libs/vis/4.21.0/vis.min.css\" rel=\"stylesheet\" type=\"text/css\">\n",
       "                <div id=\"98a67304-a635-490d-a40b-273e074bfe1a\"></div>\n",
       "                "
      ]
     },
     "metadata": {},
     "output_type": "display_data"
    },
    {
     "data": {
      "text/plain": [
       "+-------------------------------------------------------+\n",
       "| tom                                                   |\n",
       "+-------------------------------------------------------+\n",
       "| (:Person {name: \"Tom Hanks\", _id_: 1103, born: 1956}) |\n",
       "+-------------------------------------------------------+\n",
       "\n",
       "1 row available after 0 ms, consumed after another 0 ms"
      ]
     },
     "execution_count": 3,
     "metadata": {},
     "output_type": "execute_result"
    }
   ],
   "source": [
    "MATCH (tom {name: \"Tom Hanks\"}) RETURN tom"
   ]
  },
  {
   "cell_type": "code",
   "execution_count": 4,
   "metadata": {
    "slideshow": {
     "slide_type": "subslide"
    }
   },
   "outputs": [
    {
     "data": {
      "application/javascript": [
       "require([\"https://cdnjs.cloudflare.com/ajax/libs/vis/4.21.0/vis.min.js\"], function(vis) {\n",
       "  var nodes = new vis.DataSet([\n",
       "    { id: 1137, label: \"Movie\", title: \"{tagline:Everything is connected, title:Cloud Atlas, released:2012, _id:1137,}\", color: 'rgb(236,200,123)'},\n",
       "    \n",
       "  ]);\n",
       "\n",
       "  // create an array with edges\n",
       "  var edges = new vis.DataSet([\n",
       "    \n",
       "  ]);\n",
       "\n",
       "  // create a network\n",
       "  var container = document.getElementById('f2dcad4e-ea8b-4e41-a8c0-1bc7ea2f7fd1');\n",
       "  var data = {\n",
       "    nodes: nodes,\n",
       "    edges: edges\n",
       "  };\n",
       "\n",
       "  var options = {\n",
       "    edges: {\n",
       "      arrows: {\n",
       "        to: {\n",
       "          scaleFactor: 0.5\n",
       "        }\n",
       "      }\n",
       "    },\n",
       "    width: '100%',\n",
       "    height: '500px'\n",
       "  };\n",
       "\n",
       "  var network = new vis.Network(container, data, options);});"
      ]
     },
     "metadata": {},
     "output_type": "display_data"
    },
    {
     "data": {
      "text/html": [
       "<link href=\"https://cdnjs.cloudflare.com/ajax/libs/vis/4.21.0/vis.min.css\" rel=\"stylesheet\" type=\"text/css\">\n",
       "                <div id=\"f2dcad4e-ea8b-4e41-a8c0-1bc7ea2f7fd1\"></div>\n",
       "                "
      ]
     },
     "metadata": {},
     "output_type": "display_data"
    },
    {
     "data": {
      "text/plain": [
       "+-------------------------------------------------------------------------------------------------+\n",
       "| cloudAtlas                                                                                      |\n",
       "+-------------------------------------------------------------------------------------------------+\n",
       "| (:Movie {tagline: \"Everything is connected\", _id_: 1137, title: \"Cloud Atlas\", released: 2012}) |\n",
       "+-------------------------------------------------------------------------------------------------+\n",
       "\n",
       "1 row available after 5 ms, consumed after another 0 ms"
      ]
     },
     "execution_count": 4,
     "metadata": {},
     "output_type": "execute_result"
    }
   ],
   "source": [
    "MATCH (cloudAtlas {title: \"Cloud Atlas\"}) RETURN cloudAtlas"
   ]
  },
  {
   "cell_type": "code",
   "execution_count": 5,
   "metadata": {
    "slideshow": {
     "slide_type": "subslide"
    }
   },
   "outputs": [
    {
     "data": {
      "text/plain": [
       "+----------------------+\n",
       "| people.name          |\n",
       "+----------------------+\n",
       "| \"Keanu Reeves\"       |\n",
       "| \"Carrie-Anne Moss\"   |\n",
       "| \"Laurence Fishburne\" |\n",
       "| \"Hugo Weaving\"       |\n",
       "| \"Lilly Wachowski\"    |\n",
       "| \"Lana Wachowski\"     |\n",
       "| \"Joel Silver\"        |\n",
       "| \"Emil Eifrem\"        |\n",
       "| \"Charlize Theron\"    |\n",
       "| \"Al Pacino\"          |\n",
       "+----------------------+\n",
       "\n",
       "10 rows available after 3 ms, consumed after another 0 ms"
      ]
     },
     "execution_count": 5,
     "metadata": {},
     "output_type": "execute_result"
    }
   ],
   "source": [
    "MATCH (people:Person) RETURN people.name LIMIT 10"
   ]
  },
  {
   "cell_type": "code",
   "execution_count": 6,
   "metadata": {
    "slideshow": {
     "slide_type": "subslide"
    }
   },
   "outputs": [
    {
     "data": {
      "text/plain": [
       "\n",
       "+--------------------------+\n",
       "| nineties.title           |\n",
       "+--------------------------+\n",
       "| \"The Matrix\"             |\n",
       "| \"The Devil's Advocate\"   |\n",
       "| \"A Few Good Men\"         |\n",
       "| \"As Good as It Gets\"     |\n",
       "| \"What Dreams May Come\"   |\n",
       "| \"Snow Falling on Cedars\" |\n",
       "| \"You've Got Mail\"        |\n",
       "| \"Sleepless in Seattle\"   |\n",
       "| \"Joe Versus the Volcano\" |\n",
       "| \"When Harry Met Sally\"   |\n",
       "| \"That Thing You Do\"      |\n",
       "| \"The Birdcage\"           |\n",
       "| \"Unforgiven\"             |\n",
       "| \"Johnny Mnemonic\"        |\n",
       "| \"The Green Mile\"         |\n",
       "| \"Hoffa\"                  |\n",
       "| \"Apollo 13\"              |\n",
       "| \"Twister\"                |\n",
       "| \"Bicentennial Man\"       |\n",
       "| \"A League of Their Own\"  |\n",
       "+--------------------------+\n",
       "\n",
       "20 rows available after 16 ms, consumed after another 29 ms"
      ]
     },
     "execution_count": 6,
     "metadata": {},
     "output_type": "execute_result"
    }
   ],
   "source": [
    "MATCH (nineties:Movie) WHERE nineties.released >= 1990 AND nineties.released < 2000 RETURN nineties.title"
   ]
  },
  {
   "cell_type": "markdown",
   "metadata": {
    "slideshow": {
     "slide_type": "slide"
    }
   },
   "source": [
    "## Query\n",
    "\n",
    "Finding patterns within the graph.\n",
    "\n",
    "  1. Actors are people who acted in movies\n",
    "  2. Directors are people who directed a movie\n",
    "  3. What other relationships exist?\n"
   ]
  },
  {
   "cell_type": "code",
   "execution_count": 8,
   "metadata": {
    "slideshow": {
     "slide_type": "subslide"
    }
   },
   "outputs": [
    {
     "data": {
      "application/javascript": [
       "require([\"https://cdnjs.cloudflare.com/ajax/libs/vis/4.21.0/vis.min.js\"], function(vis) {\n",
       "  var nodes = new vis.DataSet([\n",
       "    { id: 1182, label: \"Movie\", title: \"{tagline:At the edge of the world, his journey begins., title:Cast Away, released:2000, _id:1182,}\", color: 'rgb(236,200,123)'},\n",
       "    { id: 1176, label: \"Movie\", title: \"{tagline:Houston, we have a problem., title:Apollo 13, released:1995, _id:1176,}\", color: 'rgb(236,200,123)'},\n",
       "    { id: 1162, label: \"Movie\", title: \"{tagline:Walk a mile you'll never forget., title:The Green Mile, released:1999, _id:1162,}\", color: 'rgb(236,200,123)'},\n",
       "    { id: 1143, label: \"Movie\", title: \"{tagline:Break The Codes, title:The Da Vinci Code, released:2006, _id:1143,}\", color: 'rgb(236,200,123)'},\n",
       "    { id: 1194, label: \"Movie\", title: \"{tagline:Once in a lifetime you get a chance to do something different., title:A League of Their Own, released:1992, _id:1194,}\", color: 'rgb(236,200,123)'},\n",
       "    { id: 1110, label: \"Movie\", title: \"{tagline:A story of love, lava and burning desire., title:Joe Versus the Volcano, released:1990, _id:1110,}\", color: 'rgb(236,200,123)'},\n",
       "    { id: 1099, label: \"Movie\", title: \"{tagline:At odds in life... in love on-line., title:You've Got Mail, released:1998, _id:1099,}\", color: 'rgb(236,200,123)'},\n",
       "    { id: 1193, label: \"Movie\", title: \"{tagline:This Holiday Season… Believe, title:The Polar Express, released:2004, _id:1193,}\", color: 'rgb(236,200,123)'},\n",
       "    { id: 1191, label: \"Movie\", title: \"{tagline:A stiff drink. A little mascara. A lot of nerve. Who said they couldn't bring down the Soviet empire., title:Charlie Wilson's War, released:2007, _id:1191,}\", color: 'rgb(236,200,123)'},\n",
       "    { id: 1117, label: \"Movie\", title: \"{tagline:In every life there comes a time when that thing you dream becomes that thing you do, title:That Thing You Do, released:1996, _id:1117,}\", color: 'rgb(236,200,123)'},\n",
       "    { id: 1103, label: \"Person\", title: \"{name:Tom Hanks, born:1956, _id:1103,}\", color: 'rgb(178,248,79)'},\n",
       "    { id: 1137, label: \"Movie\", title: \"{tagline:Everything is connected, title:Cloud Atlas, released:2012, _id:1137,}\", color: 'rgb(236,200,123)'},\n",
       "    { id: 1105, label: \"Movie\", title: \"{tagline:What if someone you never met, someone you never saw, someone you never knew was the only someone for you?, title:Sleepless in Seattle, released:1993, _id:1105,}\", color: 'rgb(236,200,123)'},\n",
       "    \n",
       "  ]);\n",
       "\n",
       "  // create an array with edges\n",
       "  var edges = new vis.DataSet([\n",
       "    { from: 1103,to: 1099, arrows:'to', title: \"{roles:['Joe Fox'], _id:1432,}\" },\n",
       "    { from: 1103,to: 1137, arrows:'to', title: \"{roles:['Zachry', 'Dr. Henry Goose', 'Isaac Sachs', 'Dermot Hoggins'], _id:1485,}\" },\n",
       "    { from: 1103,to: 1193, arrows:'to', title: \"{roles:['Hero Boy', 'Father', 'Conductor', 'Hobo', 'Scrooge', 'Santa Claus'], _id:1580,}\" },\n",
       "    { from: 1103,to: 1194, arrows:'to', title: \"{roles:['Jimmy Dugan'], _id:1582,}\" },\n",
       "    { from: 1103,to: 1110, arrows:'to', title: \"{roles:['Joe Banks'], _id:1446,}\" },\n",
       "    { from: 1103,to: 1143, arrows:'to', title: \"{roles:['Dr. Robert Langdon'], _id:1494,}\" },\n",
       "    { from: 1103,to: 1117, arrows:'to', title: \"{roles:['Mr. White'], _id:1458,}\" },\n",
       "    { from: 1103,to: 1105, arrows:'to', title: \"{roles:['Sam Baldwin'], _id:1439,}\" },\n",
       "    { from: 1103,to: 1191, arrows:'to', title: \"{roles:['Rep. Charlie Wilson'], _id:1576,}\" },\n",
       "    { from: 1103,to: 1176, arrows:'to', title: \"{roles:['Jim Lovell'], _id:1550,}\" },\n",
       "    { from: 1103,to: 1162, arrows:'to', title: \"{roles:['Paul Edgecomb'], _id:1530,}\" },\n",
       "    { from: 1103,to: 1182, arrows:'to', title: \"{roles:['Chuck Noland'], _id:1561,}\" },\n",
       "    \n",
       "  ]);\n",
       "\n",
       "  // create a network\n",
       "  var container = document.getElementById('db21a3b6-3476-4eac-8cc1-c54801194c58');\n",
       "  var data = {\n",
       "    nodes: nodes,\n",
       "    edges: edges\n",
       "  };\n",
       "\n",
       "  var options = {\n",
       "    edges: {\n",
       "      arrows: {\n",
       "        to: {\n",
       "          scaleFactor: 0.5\n",
       "        }\n",
       "      }\n",
       "    },\n",
       "    width: '100%',\n",
       "    height: '500px'\n",
       "  };\n",
       "\n",
       "  var network = new vis.Network(container, data, options);});"
      ]
     },
     "metadata": {},
     "output_type": "display_data"
    },
    {
     "data": {
      "text/html": [
       "<link href=\"https://cdnjs.cloudflare.com/ajax/libs/vis/4.21.0/vis.min.css\" rel=\"stylesheet\" type=\"text/css\">\n",
       "                <div id=\"db21a3b6-3476-4eac-8cc1-c54801194c58\"></div>\n",
       "                "
      ]
     },
     "metadata": {},
     "output_type": "display_data"
    },
    {
     "data": {
      "text/plain": [
       "\n",
       "+-------------------------------------------------------------------------------------------------------------------------------------------------------------------------------------------------------------------------------------------------------------------------------------------------------------------------------------------------------------------------+\n",
       "| tom                                                   | in                                                                                                                | tomHanksMovies                                                                                                                                                                              |\n",
       "+-------------------------------------------------------------------------------------------------------------------------------------------------------------------------------------------------------------------------------------------------------------------------------------------------------------------------------------------------------------------------+\n",
       "| (:Person {name: \"Tom Hanks\", _id_: 1103, born: 1956}) | [:ACTED_IN {_id_: 1446, roles: [\"Joe Banks\"]}[1103>1110]]                                                         | (:Movie {tagline: \"A story of love, lava and burning desire.\", _id_: 1110, title: \"Joe Versus the Volcano\", released: 1990})                                                                |\n",
       "| (:Person {name: \"Tom Hanks\", _id_: 1103, born: 1956}) | [:ACTED_IN {_id_: 1458, roles: [\"Mr. White\"]}[1103>1117]]                                                         | (:Movie {tagline: \"In every life there comes a time when that thing you dream becomes that thing you do\", _id_: 1117, title: \"That Thing You Do\", released: 1996})                          |\n",
       "| (:Person {name: \"Tom Hanks\", _id_: 1103, born: 1956}) | [:ACTED_IN {_id_: 1439, roles: [\"Sam Baldwin\"]}[1103>1105]]                                                       | (:Movie {tagline: \"What if someone you never met, someone you never saw, someone you never knew was the only someone for you?\", _id_: 1105, title: \"Sleepless in Seattle\", released: 1993}) |\n",
       "| (:Person {name: \"Tom Hanks\", _id_: 1103, born: 1956}) | [:ACTED_IN {_id_: 1432, roles: [\"Joe Fox\"]}[1103>1099]]                                                           | (:Movie {tagline: \"At odds in life... in love on-line.\", _id_: 1099, title: \"You've Got Mail\", released: 1998})                                                                             |\n",
       "| (:Person {name: \"Tom Hanks\", _id_: 1103, born: 1956}) | [:ACTED_IN {_id_: 1530, roles: [\"Paul Edgecomb\"]}[1103>1162]]                                                     | (:Movie {tagline: \"Walk a mile you'll never forget.\", _id_: 1162, title: \"The Green Mile\", released: 1999})                                                                                 |\n",
       "| (:Person {name: \"Tom Hanks\", _id_: 1103, born: 1956}) | [:ACTED_IN {_id_: 1485, roles: [\"Zachry\", \"Dr. Henry Goose\", \"Isaac Sachs\", \"Dermot Hoggins\"]}[1103>1137]]        | (:Movie {tagline: \"Everything is connected\", _id_: 1137, title: \"Cloud Atlas\", released: 2012})                                                                                             |\n",
       "| (:Person {name: \"Tom Hanks\", _id_: 1103, born: 1956}) | [:ACTED_IN {_id_: 1494, roles: [\"Dr. Robert Langdon\"]}[1103>1143]]                                                | (:Movie {tagline: \"Break The Codes\", _id_: 1143, title: \"The Da Vinci Code\", released: 2006})                                                                                               |\n",
       "| (:Person {name: \"Tom Hanks\", _id_: 1103, born: 1956}) | [:ACTED_IN {_id_: 1561, roles: [\"Chuck Noland\"]}[1103>1182]]                                                      | (:Movie {tagline: \"At the edge of the world, his journey begins.\", _id_: 1182, title: \"Cast Away\", released: 2000})                                                                         |\n",
       "| (:Person {name: \"Tom Hanks\", _id_: 1103, born: 1956}) | [:ACTED_IN {_id_: 1550, roles: [\"Jim Lovell\"]}[1103>1176]]                                                        | (:Movie {tagline: \"Houston, we have a problem.\", _id_: 1176, title: \"Apollo 13\", released: 1995})                                                                                           |\n",
       "| (:Person {name: \"Tom Hanks\", _id_: 1103, born: 1956}) | [:ACTED_IN {_id_: 1576, roles: [\"Rep. Charlie Wilson\"]}[1103>1191]]                                               | (:Movie {tagline: \"A stiff drink. A little mascara. A lot of nerve. Who said they couldn't bring down the Soviet empire.\", _id_: 1191, title: \"Charlie Wilson's War\", released: 2007})      |\n",
       "| (:Person {name: \"Tom Hanks\", _id_: 1103, born: 1956}) | [:ACTED_IN {_id_: 1580, roles: [\"Hero Boy\", \"Father\", \"Conductor\", \"Hobo\", \"Scrooge\", \"Santa Claus\"]}[1103>1193]] | (:Movie {tagline: \"This Holiday Season… Believe\", _id_: 1193, title: \"The Polar Express\", released: 2004})                                                                                  |\n",
       "| (:Person {name: \"Tom Hanks\", _id_: 1103, born: 1956}) | [:ACTED_IN {_id_: 1582, roles: [\"Jimmy Dugan\"]}[1103>1194]]                                                       | (:Movie {tagline: \"Once in a lifetime you get a chance to do something different.\", _id_: 1194, title: \"A League of Their Own\", released: 1992})                                            |\n",
       "+-------------------------------------------------------------------------------------------------------------------------------------------------------------------------------------------------------------------------------------------------------------------------------------------------------------------------------------------------------------------------+\n",
       "\n",
       "12 rows available after 11 ms, consumed after another 0 ms"
      ]
     },
     "execution_count": 8,
     "metadata": {},
     "output_type": "execute_result"
    }
   ],
   "source": [
    "MATCH (tom:Person {name: \"Tom Hanks\"})-[in:ACTED_IN]->(tomHanksMovies) RETURN tom,in,tomHanksMovies"
   ]
  },
  {
   "cell_type": "code",
   "execution_count": 9,
   "metadata": {
    "slideshow": {
     "slide_type": "subslide"
    }
   },
   "outputs": [
    {
     "data": {
      "text/plain": [
       "\n",
       "+-------------------+\n",
       "| directors.name    |\n",
       "+-------------------+\n",
       "| \"Tom Tykwer\"      |\n",
       "| \"Lana Wachowski\"  |\n",
       "| \"Lilly Wachowski\" |\n",
       "+-------------------+\n",
       "\n",
       "3 rows available after 4 ms, consumed after another 1 ms"
      ]
     },
     "execution_count": 9,
     "metadata": {},
     "output_type": "execute_result"
    }
   ],
   "source": [
    "MATCH (cloudAtlas {title: \"Cloud Atlas\"})<-[:DIRECTED]-(directors) RETURN directors.name"
   ]
  },
  {
   "cell_type": "code",
   "execution_count": 10,
   "metadata": {
    "slideshow": {
     "slide_type": "subslide"
    }
   },
   "outputs": [
    {
     "data": {
      "text/plain": [
       "\n",
       "+--------------------------+\n",
       "| coActors.name            |\n",
       "+--------------------------+\n",
       "| \"Nathan Lane\"            |\n",
       "| \"Meg Ryan\"               |\n",
       "| \"Charlize Theron\"        |\n",
       "| \"Liv Tyler\"              |\n",
       "| \"Rosie O'Donnell\"        |\n",
       "| \"Bill Pullman\"           |\n",
       "| \"Victor Garber\"          |\n",
       "| \"Meg Ryan\"               |\n",
       "| \"Rita Wilson\"            |\n",
       "| \"Steve Zahn\"             |\n",
       "| \"Dave Chappelle\"         |\n",
       "| \"Meg Ryan\"               |\n",
       "| \"Parker Posey\"           |\n",
       "| \"Greg Kinnear\"           |\n",
       "| \"Michael Clarke Duncan\"  |\n",
       "| \"Sam Rockwell\"           |\n",
       "| \"James Cromwell\"         |\n",
       "| \"Bonnie Hunt\"            |\n",
       "| \"David Morse\"            |\n",
       "| \"Patricia Clarkson\"      |\n",
       "| \"Gary Sinise\"            |\n",
       "| \"Hugo Weaving\"           |\n",
       "| \"Halle Berry\"            |\n",
       "| \"Jim Broadbent\"          |\n",
       "| \"Paul Bettany\"           |\n",
       "| \"Audrey Tautou\"          |\n",
       "| \"Ian McKellen\"           |\n",
       "| \"Helen Hunt\"             |\n",
       "| \"Gary Sinise\"            |\n",
       "| \"Ed Harris\"              |\n",
       "| \"Bill Paxton\"            |\n",
       "| \"Kevin Bacon\"            |\n",
       "| \"Julia Roberts\"          |\n",
       "| \"Philip Seymour Hoffman\" |\n",
       "| \"Lori Petty\"             |\n",
       "| \"Rosie O'Donnell\"        |\n",
       "| \"Madonna\"                |\n",
       "| \"Bill Paxton\"            |\n",
       "| \"Geena Davis\"            |\n",
       "+--------------------------+\n",
       "\n",
       "39 rows available after 4 ms, consumed after another 0 ms"
      ]
     },
     "execution_count": 10,
     "metadata": {},
     "output_type": "execute_result"
    }
   ],
   "source": [
    "MATCH (tom:Person {name:\"Tom Hanks\"})-[:ACTED_IN]->(m)<-[:ACTED_IN]-(coActors) RETURN coActors.name"
   ]
  },
  {
   "cell_type": "code",
   "execution_count": 11,
   "metadata": {
    "slideshow": {
     "slide_type": "subslide"
    }
   },
   "outputs": [
    {
     "data": {
      "application/javascript": [
       "require([\"https://cdnjs.cloudflare.com/ajax/libs/vis/4.21.0/vis.min.js\"], function(vis) {\n",
       "  var nodes = new vis.DataSet([\n",
       "    \n",
       "  ]);\n",
       "\n",
       "  // create an array with edges\n",
       "  var edges = new vis.DataSet([\n",
       "    { from: 318,to: 1137, arrows:'to', title: \"{_id:1490,}\" },\n",
       "    { from: 1139,to: 1137, arrows:'to', title: \"{roles:['Vyvyan Ayrs', 'Captain Molyneux', 'Timothy Cavendish'], _id:1488,}\" },\n",
       "    { from: 1103,to: 1137, arrows:'to', title: \"{roles:['Zachry', 'Dr. Henry Goose', 'Isaac Sachs', 'Dermot Hoggins'], _id:1485,}\" },\n",
       "    { from: 317,to: 1137, arrows:'to', title: \"{roles:['Bill Smoke', 'Haskell Moore', 'Tadeusz Kesselring', 'Nurse Noakes', 'Boardman Mephi', 'Old Georgie'], _id:1486,}\" },\n",
       "    { from: 1138,to: 1137, arrows:'to', title: \"{roles:['Luisa Rey', 'Jocasta Ayrs', 'Ovid', 'Meronym'], _id:1487,}\" },\n",
       "    { from: 1140,to: 1137, arrows:'to', title: \"{_id:1489,}\" },\n",
       "    { from: 319,to: 1137, arrows:'to', title: \"{_id:1491,}\" },\n",
       "    { from: 1201,to: 1137, arrows:'to', title: \"{summary:An amazing journey, rating:95, _id:1592,}\" },\n",
       "    { from: 1141,to: 1137, arrows:'to', title: \"{_id:1492,}\" },\n",
       "    { from: 1142,to: 1137, arrows:'to', title: \"{_id:1493,}\" },\n",
       "    \n",
       "  ]);\n",
       "\n",
       "  // create a network\n",
       "  var container = document.getElementById('d4f9845a-160f-4693-ad30-656876bbc4fc');\n",
       "  var data = {\n",
       "    nodes: nodes,\n",
       "    edges: edges\n",
       "  };\n",
       "\n",
       "  var options = {\n",
       "    edges: {\n",
       "      arrows: {\n",
       "        to: {\n",
       "          scaleFactor: 0.5\n",
       "        }\n",
       "      }\n",
       "    },\n",
       "    width: '100%',\n",
       "    height: '500px'\n",
       "  };\n",
       "\n",
       "  var network = new vis.Network(container, data, options);});"
      ]
     },
     "metadata": {},
     "output_type": "display_data"
    },
    {
     "data": {
      "text/html": [
       "<link href=\"https://cdnjs.cloudflare.com/ajax/libs/vis/4.21.0/vis.min.css\" rel=\"stylesheet\" type=\"text/css\">\n",
       "                <div id=\"d4f9845a-160f-4693-ad30-656876bbc4fc\"></div>\n",
       "                "
      ]
     },
     "metadata": {},
     "output_type": "display_data"
    },
    {
     "data": {
      "text/plain": [
       "\n",
       "+------------------------------------------------------------------------------------------------------------------------------------------------------------------------------------------+\n",
       "| people.name        | Type(relatedTo) | relatedTo                                                                                                                                         |\n",
       "+------------------------------------------------------------------------------------------------------------------------------------------------------------------------------------------+\n",
       "| \"Tom Hanks\"        | \"ACTED_IN\"      | [:ACTED_IN {_id_: 1485, roles: [\"Zachry\", \"Dr. Henry Goose\", \"Isaac Sachs\", \"Dermot Hoggins\"]}[1103>1137]]                                        |\n",
       "| \"Hugo Weaving\"     | \"ACTED_IN\"      | [:ACTED_IN {_id_: 1486, roles: [\"Bill Smoke\", \"Haskell Moore\", \"Tadeusz Kesselring\", \"Nurse Noakes\", \"Boardman Mephi\", \"Old Georgie\"]}[317>1137]] |\n",
       "| \"Halle Berry\"      | \"ACTED_IN\"      | [:ACTED_IN {_id_: 1487, roles: [\"Luisa Rey\", \"Jocasta Ayrs\", \"Ovid\", \"Meronym\"]}[1138>1137]]                                                      |\n",
       "| \"Tom Tykwer\"       | \"DIRECTED\"      | [:DIRECTED {_id_: 1489}[1140>1137]]                                                                                                               |\n",
       "| \"Jim Broadbent\"    | \"ACTED_IN\"      | [:ACTED_IN {_id_: 1488, roles: [\"Vyvyan Ayrs\", \"Captain Molyneux\", \"Timothy Cavendish\"]}[1139>1137]]                                              |\n",
       "| \"Lana Wachowski\"   | \"DIRECTED\"      | [:DIRECTED {_id_: 1491}[319>1137]]                                                                                                                |\n",
       "| \"Lilly Wachowski\"  | \"DIRECTED\"      | [:DIRECTED {_id_: 1490}[318>1137]]                                                                                                                |\n",
       "| \"Stefan Arndt\"     | \"PRODUCED\"      | [:PRODUCED {_id_: 1493}[1142>1137]]                                                                                                               |\n",
       "| \"David Mitchell\"   | \"WROTE\"         | [:WROTE {_id_: 1492}[1141>1137]]                                                                                                                  |\n",
       "| \"Jessica Thompson\" | \"REVIEWED\"      | [:REVIEWED {summary: \"An amazing journey\", rating: 95, _id_: 1592}[1201>1137]]                                                                    |\n",
       "+------------------------------------------------------------------------------------------------------------------------------------------------------------------------------------------+\n",
       "\n",
       "10 rows available after 4 ms, consumed after another 5 ms"
      ]
     },
     "execution_count": 11,
     "metadata": {},
     "output_type": "execute_result"
    }
   ],
   "source": [
    "MATCH (people:Person)-[relatedTo]-(:Movie {title: \"Cloud Atlas\"}) RETURN people.name, Type(relatedTo), relatedTo"
   ]
  },
  {
   "cell_type": "markdown",
   "metadata": {
    "slideshow": {
     "slide_type": "slide"
    }
   },
   "source": [
    "## Solve\n",
    "\n",
    "You've heard of the classic \"Six Degrees of Kevin Bacon\"? That is simply a shortest path query called the \"Bacon Path\".\n",
    "\n",
    "### Variable length patterns"
   ]
  },
  {
   "cell_type": "code",
   "execution_count": 12,
   "metadata": {
    "slideshow": {
     "slide_type": "subslide"
    }
   },
   "outputs": [
    {
     "data": {
      "application/javascript": [
       "require([\"https://cdnjs.cloudflare.com/ajax/libs/vis/4.21.0/vis.min.js\"], function(vis) {\n",
       "  var nodes = new vis.DataSet([\n",
       "    { id: 1092, label: \"Person\", title: \"{name:Robin Williams, born:1951, _id:1092,}\", color: 'rgb(178,248,79)'},\n",
       "    { id: 1182, label: \"Movie\", title: \"{tagline:At the edge of the world, his journey begins., title:Cast Away, released:2000, _id:1182,}\", color: 'rgb(236,200,123)'},\n",
       "    { id: 1080, label: \"Person\", title: \"{name:Corey Feldman, born:1971, _id:1080,}\", color: 'rgb(178,248,79)'},\n",
       "    { id: 1090, label: \"Person\", title: \"{name:Max von Sydow, born:1929, _id:1090,}\", color: 'rgb(178,248,79)'},\n",
       "    { id: 1144, label: \"Person\", title: \"{name:Ian McKellen, born:1939, _id:1144,}\", color: 'rgb(178,248,79)'},\n",
       "    { id: 1198, label: \"Person\", title: \"{name:Penny Marshall, born:1943, _id:1198,}\", color: 'rgb(178,248,79)'},\n",
       "    { id: 1162, label: \"Movie\", title: \"{tagline:Walk a mile you'll never forget., title:The Green Mile, released:1999, _id:1162,}\", color: 'rgb(236,200,123)'},\n",
       "    { id: 1076, label: \"Person\", title: \"{name:Jonathan Lipnicki, born:1996, _id:1076,}\", color: 'rgb(178,248,79)'},\n",
       "    { id: 1072, label: \"Person\", title: \"{name:Jerry O'Connell, born:1974, _id:1072,}\", color: 'rgb(178,248,79)'},\n",
       "    { id: 1195, label: \"Person\", title: \"{name:Madonna, born:1954, _id:1195,}\", color: 'rgb(178,248,79)'},\n",
       "    { id: 1104, label: \"Person\", title: \"{name:Nora Ephron, born:1941, _id:1104,}\", color: 'rgb(178,248,79)'},\n",
       "    { id: 1096, label: \"Person\", title: \"{name:Rick Yune, born:1971, _id:1096,}\", color: 'rgb(178,248,79)'},\n",
       "    { id: 1077, label: \"Person\", title: \"{name:Cameron Crowe, born:1957, _id:1077,}\", color: 'rgb(178,248,79)'},\n",
       "    { id: 1185, label: \"Person\", title: \"{name:Milos Forman, born:1932, _id:1185,}\", color: 'rgb(178,248,79)'},\n",
       "    { id: 1084, label: \"Movie\", title: \"{tagline:A comedy from the heart that goes for the throat., title:As Good as It Gets, released:1997, _id:1084,}\", color: 'rgb(236,200,123)'},\n",
       "    { id: 1184, label: \"Movie\", title: \"{tagline:If he's crazy, what does that make you?, title:One Flew Over the Cuckoo's Nest, released:1975, _id:1184,}\", color: 'rgb(236,200,123)'},\n",
       "    { id: 320, label: \"Person\", title: \"{name:Joel Silver, born:1952, _id:320,}\", color: 'rgb(178,248,79)'},\n",
       "    { id: 1051, label: \"Person\", title: \"{name:Kevin Bacon, born:1958, _id:1051,}\", color: 'rgb(178,248,79)'},\n",
       "    { id: 1110, label: \"Movie\", title: \"{tagline:A story of love, lava and burning desire., title:Joe Versus the Volcano, released:1990, _id:1110,}\", color: 'rgb(236,200,123)'},\n",
       "    { id: 1063, label: \"Person\", title: \"{name:Val Kilmer, born:1959, _id:1063,}\", color: 'rgb(178,248,79)'},\n",
       "    { id: 1083, label: \"Person\", title: \"{name:Marshall Bell, born:1942, _id:1083,}\", color: 'rgb(178,248,79)'},\n",
       "    { id: 1044, label: \"Person\", title: \"{name:Charlize Theron, born:1975, _id:1044,}\", color: 'rgb(178,248,79)'},\n",
       "    { id: 1047, label: \"Movie\", title: \"{tagline:In the heart of the nation's capital, in a courthouse of the U.S. government, one man will stop at nothing to keep his honor, and one will stop at nothing to find the truth., title:A Few Good Men, released:1992, _id:1047,}\", color: 'rgb(236,200,123)'},\n",
       "    { id: 1190, label: \"Person\", title: \"{name:Chris Columbus, born:1958, _id:1190,}\", color: 'rgb(178,248,79)'},\n",
       "    { id: 1161, label: \"Person\", title: \"{name:Naomie Harris, _id:1161,}\", color: 'rgb(178,248,79)'},\n",
       "    { id: 1188, label: \"Person\", title: \"{name:Nancy Meyers, born:1949, _id:1188,}\", color: 'rgb(178,248,79)'},\n",
       "    { id: 1103, label: \"Person\", title: \"{name:Tom Hanks, born:1956, _id:1103,}\", color: 'rgb(178,248,79)'},\n",
       "    { id: 1089, label: \"Person\", title: \"{name:Annabella Sciorra, born:1960, _id:1089,}\", color: 'rgb(178,248,79)'},\n",
       "    { id: 1138, label: \"Person\", title: \"{name:Halle Berry, born:1966, _id:1138,}\", color: 'rgb(178,248,79)'},\n",
       "    { id: 1174, label: \"Person\", title: \"{name:Danny DeVito, born:1944, _id:1174,}\", color: 'rgb(178,248,79)'},\n",
       "    { id: 1087, label: \"Person\", title: \"{name:James L. Brooks, born:1940, _id:1087,}\", color: 'rgb(178,248,79)'},\n",
       "    { id: 1082, label: \"Person\", title: \"{name:John Cusack, born:1966, _id:1082,}\", color: 'rgb(178,248,79)'},\n",
       "    { id: 1113, label: \"Movie\", title: \"{tagline:At odds in life... in love on-line., title:When Harry Met Sally, released:1998, _id:1113,}\", color: 'rgb(236,200,123)'},\n",
       "    { id: 1069, label: \"Movie\", title: \"{tagline:The rest of his life begins now., title:Jerry Maguire, released:2000, _id:1069,}\", color: 'rgb(236,200,123)'},\n",
       "    { id: 1170, label: \"Person\", title: \"{name:Frank Langella, born:1938, _id:1170,}\", color: 'rgb(178,248,79)'},\n",
       "    { id: 1102, label: \"Person\", title: \"{name:Steve Zahn, born:1967, _id:1102,}\", color: 'rgb(178,248,79)'},\n",
       "    { id: 1055, label: \"Person\", title: \"{name:Kevin Pollak, born:1957, _id:1055,}\", color: 'rgb(178,248,79)'},\n",
       "    { id: 1067, label: \"Person\", title: \"{name:Tony Scott, born:1944, _id:1067,}\", color: 'rgb(178,248,79)'},\n",
       "    { id: 1101, label: \"Person\", title: \"{name:Dave Chappelle, born:1973, _id:1101,}\", color: 'rgb(178,248,79)'},\n",
       "    { id: 1053, label: \"Person\", title: \"{name:Noah Wyle, born:1971, _id:1053,}\", color: 'rgb(178,248,79)'},\n",
       "    { id: 1164, label: \"Person\", title: \"{name:David Morse, born:1953, _id:1164,}\", color: 'rgb(178,248,79)'},\n",
       "    { id: 1150, label: \"Person\", title: \"{name:Stephen Rea, born:1946, _id:1150,}\", color: 'rgb(178,248,79)'},\n",
       "    { id: 1141, label: \"Person\", title: \"{name:David Mitchell, born:1969, _id:1141,}\", color: 'rgb(178,248,79)'},\n",
       "    { id: 1126, label: \"Person\", title: \"{name:Zach Grenier, born:1954, _id:1126,}\", color: 'rgb(178,248,79)'},\n",
       "    { id: 1142, label: \"Person\", title: \"{name:Stefan Arndt, born:1961, _id:1142,}\", color: 'rgb(178,248,79)'},\n",
       "    { id: 1192, label: \"Person\", title: \"{name:Julia Roberts, born:1967, _id:1192,}\", color: 'rgb(178,248,79)'},\n",
       "    { id: 314, label: \"Person\", title: \"{name:Keanu Reeves, born:1964, _id:314,}\", color: 'rgb(178,248,79)'},\n",
       "    { id: 1054, label: \"Person\", title: \"{name:Cuba Gooding Jr., born:1968, _id:1054,}\", color: 'rgb(178,248,79)'},\n",
       "    { id: 1059, label: \"Person\", title: \"{name:Rob Reiner, born:1947, _id:1059,}\", color: 'rgb(178,248,79)'},\n",
       "    { id: 1071, label: \"Person\", title: \"{name:Kelly Preston, born:1962, _id:1071,}\", color: 'rgb(178,248,79)'},\n",
       "    { id: 1149, label: \"Person\", title: \"{name:Natalie Portman, born:1981, _id:1149,}\", color: 'rgb(178,248,79)'},\n",
       "    { id: 1049, label: \"Person\", title: \"{name:Jack Nicholson, born:1937, _id:1049,}\", color: 'rgb(178,248,79)'},\n",
       "    { id: 319, label: \"Person\", title: \"{name:Lana Wachowski, born:1965, _id:319,}\", color: 'rgb(178,248,79)'},\n",
       "    { id: 1079, label: \"Person\", title: \"{name:River Phoenix, born:1970, _id:1079,}\", color: 'rgb(178,248,79)'},\n",
       "    { id: 1078, label: \"Movie\", title: \"{tagline:For some, it's the last real taste of innocence, and the first real taste of life. But for everyone, it's the time that memories are made of., title:Stand By Me, released:1986, _id:1078,}\", color: 'rgb(236,200,123)'},\n",
       "    { id: 1189, label: \"Movie\", title: \"{tagline:One robot's 200 year journey to become an ordinary man., title:Bicentennial Man, released:1999, _id:1189,}\", color: 'rgb(236,200,123)'},\n",
       "    { id: 1139, label: \"Person\", title: \"{name:Jim Broadbent, born:1949, _id:1139,}\", color: 'rgb(178,248,79)'},\n",
       "    { id: 1115, label: \"Person\", title: \"{name:Carrie Fisher, born:1956, _id:1115,}\", color: 'rgb(178,248,79)'},\n",
       "    { id: 1183, label: \"Person\", title: \"{name:Robert Zemeckis, born:1951, _id:1183,}\", color: 'rgb(178,248,79)'},\n",
       "    { id: 1099, label: \"Movie\", title: \"{tagline:At odds in life... in love on-line., title:You've Got Mail, released:1998, _id:1099,}\", color: 'rgb(236,200,123)'},\n",
       "    { id: 1050, label: \"Person\", title: \"{name:Demi Moore, born:1962, _id:1050,}\", color: 'rgb(178,248,79)'},\n",
       "    { id: 1128, label: \"Person\", title: \"{name:Mike Nichols, born:1931, _id:1128,}\", color: 'rgb(178,248,79)'},\n",
       "    { id: 1112, label: \"Person\", title: \"{name:Nathan Lane, born:1956, _id:1112,}\", color: 'rgb(178,248,79)'},\n",
       "    { id: 1175, label: \"Person\", title: \"{name:John C. Reilly, born:1965, _id:1175,}\", color: 'rgb(178,248,79)'},\n",
       "    { id: 1107, label: \"Person\", title: \"{name:Bill Pullman, born:1953, _id:1107,}\", color: 'rgb(178,248,79)'},\n",
       "    { id: 1105, label: \"Movie\", title: \"{tagline:What if someone you never met, someone you never saw, someone you never knew was the only someone for you?, title:Sleepless in Seattle, released:1993, _id:1105,}\", color: 'rgb(236,200,123)'},\n",
       "    { id: 1070, label: \"Person\", title: \"{name:Renee Zellweger, born:1969, _id:1070,}\", color: 'rgb(178,248,79)'},\n",
       "    { id: 1091, label: \"Person\", title: \"{name:Werner Herzog, born:1942, _id:1091,}\", color: 'rgb(178,248,79)'},\n",
       "    { id: 1074, label: \"Person\", title: \"{name:Bonnie Hunt, born:1961, _id:1074,}\", color: 'rgb(178,248,79)'},\n",
       "    { id: 1145, label: \"Person\", title: \"{name:Audrey Tautou, born:1976, _id:1145,}\", color: 'rgb(178,248,79)'},\n",
       "    { id: 1143, label: \"Movie\", title: \"{tagline:Break The Codes, title:The Da Vinci Code, released:2006, _id:1143,}\", color: 'rgb(236,200,123)'},\n",
       "    { id: 1147, label: \"Person\", title: \"{name:Ron Howard, born:1954, _id:1147,}\", color: 'rgb(178,248,79)'},\n",
       "    { id: 1052, label: \"Person\", title: \"{name:Kiefer Sutherland, born:1966, _id:1052,}\", color: 'rgb(178,248,79)'},\n",
       "    { id: 1081, label: \"Person\", title: \"{name:Wil Wheaton, born:1972, _id:1081,}\", color: 'rgb(178,248,79)'},\n",
       "    { id: 1181, label: \"Person\", title: \"{name:Jan de Bont, born:1943, _id:1181,}\", color: 'rgb(178,248,79)'},\n",
       "    { id: 1048, label: \"Person\", title: \"{name:Tom Cruise, born:1962, _id:1048,}\", color: 'rgb(178,248,79)'},\n",
       "    { id: 1061, label: \"Movie\", title: \"{tagline:I feel the need, the need for speed., title:Top Gun, released:1986, _id:1061,}\", color: 'rgb(236,200,123)'},\n",
       "    { id: 1201, label: \"Person\", title: \"{name:Jessica Thompson, _id:1201,}\", color: 'rgb(178,248,79)'},\n",
       "    { id: 1193, label: \"Movie\", title: \"{tagline:This Holiday Season… Believe, title:The Polar Express, released:2004, _id:1193,}\", color: 'rgb(236,200,123)'},\n",
       "    { id: 317, label: \"Person\", title: \"{name:Hugo Weaving, born:1960, _id:317,}\", color: 'rgb(178,248,79)'},\n",
       "    { id: 1169, label: \"Movie\", title: \"{tagline:400 million people were waiting for the truth., title:Frost/Nixon, released:2008, _id:1169,}\", color: 'rgb(236,200,123)'},\n",
       "    { id: 318, label: \"Person\", title: \"{name:Lilly Wachowski, born:1967, _id:318,}\", color: 'rgb(178,248,79)'},\n",
       "    { id: 1191, label: \"Movie\", title: \"{tagline:A stiff drink. A little mascara. A lot of nerve. Who said they couldn't bring down the Soviet empire., title:Charlie Wilson's War, released:2007, _id:1191,}\", color: 'rgb(236,200,123)'},\n",
       "    { id: 1148, label: \"Movie\", title: \"{tagline:Freedom! Forever!, title:V for Vendetta, released:2006, _id:1148,}\", color: 'rgb(236,200,123)'},\n",
       "    { id: 1100, label: \"Person\", title: \"{name:Parker Posey, born:1968, _id:1100,}\", color: 'rgb(178,248,79)'},\n",
       "    { id: 1194, label: \"Movie\", title: \"{tagline:Once in a lifetime you get a chance to do something different., title:A League of Their Own, released:1992, _id:1194,}\", color: 'rgb(236,200,123)'},\n",
       "    { id: 1177, label: \"Person\", title: \"{name:Ed Harris, born:1950, _id:1177,}\", color: 'rgb(178,248,79)'},\n",
       "    { id: 1140, label: \"Person\", title: \"{name:Tom Tykwer, born:1965, _id:1140,}\", color: 'rgb(178,248,79)'},\n",
       "    { id: 1167, label: \"Person\", title: \"{name:Patricia Clarkson, born:1959, _id:1167,}\", color: 'rgb(178,248,79)'},\n",
       "    { id: 1064, label: \"Person\", title: \"{name:Anthony Edwards, born:1962, _id:1064,}\", color: 'rgb(178,248,79)'},\n",
       "    { id: 1065, label: \"Person\", title: \"{name:Tom Skerritt, born:1933, _id:1065,}\", color: 'rgb(178,248,79)'},\n",
       "    { id: 1171, label: \"Person\", title: \"{name:Michael Sheen, born:1969, _id:1171,}\", color: 'rgb(178,248,79)'},\n",
       "    { id: 1117, label: \"Movie\", title: \"{tagline:In every life there comes a time when that thing you dream becomes that thing you do, title:That Thing You Do, released:1996, _id:1117,}\", color: 'rgb(236,200,123)'},\n",
       "    { id: 1159, label: \"Person\", title: \"{name:Rain, born:1982, _id:1159,}\", color: 'rgb(178,248,79)'},\n",
       "    { id: 1073, label: \"Person\", title: \"{name:Jay Mohr, born:1970, _id:1073,}\", color: 'rgb(178,248,79)'},\n",
       "    { id: 1111, label: \"Person\", title: \"{name:John Patrick Stanley, born:1950, _id:1111,}\", color: 'rgb(178,248,79)'},\n",
       "    { id: 1097, label: \"Person\", title: \"{name:James Cromwell, born:1940, _id:1097,}\", color: 'rgb(178,248,79)'},\n",
       "    { id: 1179, label: \"Movie\", title: \"{tagline:Don't Breathe. Don't Look Back., title:Twister, released:1996, _id:1179,}\", color: 'rgb(236,200,123)'},\n",
       "    { id: 1202, label: \"Person\", title: \"{name:James Thompson, _id:1202,}\", color: 'rgb(178,248,79)'},\n",
       "    { id: 1068, label: \"Person\", title: \"{name:Jim Cash, born:1941, _id:1068,}\", color: 'rgb(178,248,79)'},\n",
       "    { id: 1172, label: \"Person\", title: \"{name:Oliver Platt, born:1960, _id:1172,}\", color: 'rgb(178,248,79)'},\n",
       "    { id: 1057, label: \"Person\", title: \"{name:James Marshall, born:1967, _id:1057,}\", color: 'rgb(178,248,79)'},\n",
       "    { id: 1187, label: \"Person\", title: \"{name:Diane Keaton, born:1946, _id:1187,}\", color: 'rgb(178,248,79)'},\n",
       "    { id: 1186, label: \"Movie\", title: \"{title:Something's Gotta Give, released:2003, _id:1186,}\", color: 'rgb(236,200,123)'},\n",
       "    { id: 1166, label: \"Person\", title: \"{name:Gary Sinise, born:1955, _id:1166,}\", color: 'rgb(178,248,79)'},\n",
       "    { id: 1116, label: \"Person\", title: \"{name:Bruno Kirby, born:1949, _id:1116,}\", color: 'rgb(178,248,79)'},\n",
       "    { id: 1086, label: \"Person\", title: \"{name:Greg Kinnear, born:1963, _id:1086,}\", color: 'rgb(178,248,79)'},\n",
       "    { id: 1197, label: \"Person\", title: \"{name:Lori Petty, born:1963, _id:1197,}\", color: 'rgb(178,248,79)'},\n",
       "    { id: 1118, label: \"Person\", title: \"{name:Liv Tyler, born:1977, _id:1118,}\", color: 'rgb(178,248,79)'},\n",
       "    { id: 1176, label: \"Movie\", title: \"{tagline:Houston, we have a problem., title:Apollo 13, released:1995, _id:1176,}\", color: 'rgb(236,200,123)'},\n",
       "    { id: 1108, label: \"Person\", title: \"{name:Victor Garber, born:1949, _id:1108,}\", color: 'rgb(178,248,79)'},\n",
       "    { id: 1060, label: \"Person\", title: \"{name:Aaron Sorkin, born:1961, _id:1060,}\", color: 'rgb(178,248,79)'},\n",
       "    { id: 1151, label: \"Person\", title: \"{name:John Hurt, born:1940, _id:1151,}\", color: 'rgb(178,248,79)'},\n",
       "    { id: 1062, label: \"Person\", title: \"{name:Kelly McGillis, born:1957, _id:1062,}\", color: 'rgb(178,248,79)'},\n",
       "    { id: 1165, label: \"Person\", title: \"{name:Sam Rockwell, born:1968, _id:1165,}\", color: 'rgb(178,248,79)'},\n",
       "    { id: 1085, label: \"Person\", title: \"{name:Helen Hunt, born:1963, _id:1085,}\", color: 'rgb(178,248,79)'},\n",
       "    { id: 1088, label: \"Movie\", title: \"{tagline:After life there is more. The end is just the beginning., title:What Dreams May Come, released:1998, _id:1088,}\", color: 'rgb(236,200,123)'},\n",
       "    { id: 1066, label: \"Person\", title: \"{name:Meg Ryan, born:1961, _id:1066,}\", color: 'rgb(178,248,79)'},\n",
       "    { id: 1106, label: \"Person\", title: \"{name:Rita Wilson, born:1956, _id:1106,}\", color: 'rgb(178,248,79)'},\n",
       "    { id: 1137, label: \"Movie\", title: \"{tagline:Everything is connected, title:Cloud Atlas, released:2012, _id:1137,}\", color: 'rgb(236,200,123)'},\n",
       "    { id: 1160, label: \"Movie\", title: \"{tagline:Prepare to enter a secret world of assassins, title:Ninja Assassin, released:2009, _id:1160,}\", color: 'rgb(236,200,123)'},\n",
       "    { id: 1114, label: \"Person\", title: \"{name:Billy Crystal, born:1948, _id:1114,}\", color: 'rgb(178,248,79)'},\n",
       "    { id: 1058, label: \"Person\", title: \"{name:Christopher Guest, born:1948, _id:1058,}\", color: 'rgb(178,248,79)'},\n",
       "    { id: 1163, label: \"Person\", title: \"{name:Michael Clarke Duncan, born:1957, _id:1163,}\", color: 'rgb(178,248,79)'},\n",
       "    { id: 1168, label: \"Person\", title: \"{name:Frank Darabont, born:1959, _id:1168,}\", color: 'rgb(178,248,79)'},\n",
       "    { id: 1146, label: \"Person\", title: \"{name:Paul Bettany, born:1971, _id:1146,}\", color: 'rgb(178,248,79)'},\n",
       "    { id: 1196, label: \"Person\", title: \"{name:Geena Davis, born:1956, _id:1196,}\", color: 'rgb(178,248,79)'},\n",
       "    { id: 1075, label: \"Person\", title: \"{name:Regina King, born:1971, _id:1075,}\", color: 'rgb(178,248,79)'},\n",
       "    { id: 1178, label: \"Person\", title: \"{name:Bill Paxton, born:1955, _id:1178,}\", color: 'rgb(178,248,79)'},\n",
       "    { id: 1180, label: \"Person\", title: \"{name:Philip Seymour Hoffman, born:1967, _id:1180,}\", color: 'rgb(178,248,79)'},\n",
       "    { id: 1152, label: \"Person\", title: \"{name:Ben Miles, born:1967, _id:1152,}\", color: 'rgb(178,248,79)'},\n",
       "    { id: 1173, label: \"Movie\", title: \"{tagline:He didn't want law. He wanted justice., title:Hoffa, released:1992, _id:1173,}\", color: 'rgb(236,200,123)'},\n",
       "    { id: 1109, label: \"Person\", title: \"{name:Rosie O'Donnell, born:1962, _id:1109,}\", color: 'rgb(178,248,79)'},\n",
       "    { id: 1093, label: \"Person\", title: \"{name:Vincent Ward, born:1956, _id:1093,}\", color: 'rgb(178,248,79)'},\n",
       "    { id: 1056, label: \"Person\", title: \"{name:J.T. Walsh, born:1943, _id:1056,}\", color: 'rgb(178,248,79)'},\n",
       "    \n",
       "  ]);\n",
       "\n",
       "  // create an array with edges\n",
       "  var edges = new vis.DataSet([\n",
       "    \n",
       "  ]);\n",
       "\n",
       "  // create a network\n",
       "  var container = document.getElementById('aae32997-4386-403d-9bc4-87c0b78ac826');\n",
       "  var data = {\n",
       "    nodes: nodes,\n",
       "    edges: edges\n",
       "  };\n",
       "\n",
       "  var options = {\n",
       "    edges: {\n",
       "      arrows: {\n",
       "        to: {\n",
       "          scaleFactor: 0.5\n",
       "        }\n",
       "      }\n",
       "    },\n",
       "    width: '100%',\n",
       "    height: '500px'\n",
       "  };\n",
       "\n",
       "  var network = new vis.Network(container, data, options);});"
      ]
     },
     "metadata": {},
     "output_type": "display_data"
    },
    {
     "data": {
      "text/html": [
       "<link href=\"https://cdnjs.cloudflare.com/ajax/libs/vis/4.21.0/vis.min.css\" rel=\"stylesheet\" type=\"text/css\">\n",
       "                <div id=\"aae32997-4386-403d-9bc4-87c0b78ac826\"></div>\n",
       "                "
      ]
     },
     "metadata": {},
     "output_type": "display_data"
    },
    {
     "data": {
      "text/plain": [
       "\u001b[1m\u001b[mRETURN DISTINCT hollywood;\n",
       "\n",
       "+----------------------------------------------------------------------------------------------------------------------------------------------------------------------------------------------------------------------------------------------------------+\n",
       "| hollywood                                                                                                                                                                                                                                                |\n",
       "+----------------------------------------------------------------------------------------------------------------------------------------------------------------------------------------------------------------------------------------------------------+\n",
       "| (:Person {name: \"Noah Wyle\", _id_: 1053, born: 1971})                                                                                                                                                                                                    |\n",
       "| (:Person {name: \"John Cusack\", _id_: 1082, born: 1966})                                                                                                                                                                                                  |\n",
       "| (:Person {name: \"Marshall Bell\", _id_: 1083, born: 1942})                                                                                                                                                                                                |\n",
       "| (:Person {name: \"Rob Reiner\", _id_: 1059, born: 1947})                                                                                                                                                                                                   |\n",
       "| (:Person {name: \"Wil Wheaton\", _id_: 1081, born: 1972})                                                                                                                                                                                                  |\n",
       "| (:Person {name: \"River Phoenix\", _id_: 1079, born: 1970})                                                                                                                                                                                                |\n",
       "| (:Person {name: \"Jerry O'Connell\", _id_: 1072, born: 1974})                                                                                                                                                                                              |\n",
       "| (:Person {name: \"Corey Feldman\", _id_: 1080, born: 1971})                                                                                                                                                                                                |\n",
       "| (:Movie {tagline: \"For some, it's the last real taste of innocence, and the first real taste of life. But for everyone, it's the time that memories are made of.\", _id_: 1078, title: \"Stand By Me\", released: 1986})                                    |\n",
       "| (:Person {name: \"Kiefer Sutherland\", _id_: 1052, born: 1966})                                                                                                                                                                                            |\n",
       "| (:Person {name: \"Demi Moore\", _id_: 1050, born: 1962})                                                                                                                                                                                                   |\n",
       "| (:Person {name: \"Lana Wachowski\", _id_: 319, born: 1965})                                                                                                                                                                                                |\n",
       "| (:Person {name: \"Joel Silver\", _id_: 320, born: 1952})                                                                                                                                                                                                   |\n",
       "| (:Person {name: \"Lilly Wachowski\", _id_: 318, born: 1967})                                                                                                                                                                                               |\n",
       "| (:Person {name: \"Hugo Weaving\", _id_: 317, born: 1960})                                                                                                                                                                                                  |\n",
       "| (:Person {name: \"Stephen Rea\", _id_: 1150, born: 1946})                                                                                                                                                                                                  |\n",
       "| (:Person {name: \"Natalie Portman\", _id_: 1149, born: 1981})                                                                                                                                                                                              |\n",
       "| (:Person {name: \"Ben Miles\", _id_: 1152, born: 1967})                                                                                                                                                                                                    |\n",
       "| (:Person {name: \"John Hurt\", _id_: 1151, born: 1940})                                                                                                                                                                                                    |\n",
       "| (:Movie {tagline: \"Freedom! Forever!\", _id_: 1148, title: \"V for Vendetta\", released: 2006})                                                                                                                                                             |\n",
       "| (:Person {name: \"Naomie Harris\", _id_: 1161})                                                                                                                                                                                                            |\n",
       "| (:Person {name: \"Rain\", _id_: 1159, born: 1982})                                                                                                                                                                                                         |\n",
       "| (:Person {name: \"Rick Yune\", _id_: 1096, born: 1971})                                                                                                                                                                                                    |\n",
       "| (:Movie {tagline: \"Prepare to enter a secret world of assassins\", _id_: 1160, title: \"Ninja Assassin\", released: 2009})                                                                                                                                  |\n",
       "| (:Person {name: \"James Marshall\", _id_: 1057, born: 1967})                                                                                                                                                                                               |\n",
       "| (:Person {name: \"Danny DeVito\", _id_: 1174, born: 1944})                                                                                                                                                                                                 |\n",
       "| (:Person {name: \"Jack Nicholson\", _id_: 1049, born: 1937})                                                                                                                                                                                               |\n",
       "| (:Person {name: \"John C. Reilly\", _id_: 1175, born: 1965})                                                                                                                                                                                               |\n",
       "| (:Movie {tagline: \"He didn't want law. He wanted justice.\", _id_: 1173, title: \"Hoffa\", released: 1992})                                                                                                                                                 |\n",
       "| (:Person {name: \"J.T. Walsh\", _id_: 1056, born: 1943})                                                                                                                                                                                                   |\n",
       "| (:Person {name: \"Kevin Pollak\", _id_: 1055, born: 1957})                                                                                                                                                                                                 |\n",
       "| (:Person {name: \"Robin Williams\", _id_: 1092, born: 1951})                                                                                                                                                                                               |\n",
       "| (:Person {name: \"Annabella Sciorra\", _id_: 1089, born: 1960})                                                                                                                                                                                            |\n",
       "| (:Person {name: \"Werner Herzog\", _id_: 1091, born: 1942})                                                                                                                                                                                                |\n",
       "| (:Person {name: \"Max von Sydow\", _id_: 1090, born: 1929})                                                                                                                                                                                                |\n",
       "| (:Person {name: \"Vincent Ward\", _id_: 1093, born: 1956})                                                                                                                                                                                                 |\n",
       "| (:Movie {tagline: \"After life there is more. The end is just the beginning.\", _id_: 1088, title: \"What Dreams May Come\", released: 1998})                                                                                                                |\n",
       "| (:Person {name: \"James L. Brooks\", _id_: 1087, born: 1940})                                                                                                                                                                                              |\n",
       "| (:Person {name: \"Helen Hunt\", _id_: 1085, born: 1963})                                                                                                                                                                                                   |\n",
       "| (:Person {name: \"Greg Kinnear\", _id_: 1086, born: 1963})                                                                                                                                                                                                 |\n",
       "| (:Movie {tagline: \"A comedy from the heart that goes for the throat.\", _id_: 1084, title: \"As Good as It Gets\", released: 1997})                                                                                                                         |\n",
       "| (:Person {name: \"Renee Zellweger\", _id_: 1070, born: 1969})                                                                                                                                                                                              |\n",
       "| (:Person {name: \"Kelly Preston\", _id_: 1071, born: 1962})                                                                                                                                                                                                |\n",
       "| (:Person {name: \"Tom Cruise\", _id_: 1048, born: 1962})                                                                                                                                                                                                   |\n",
       "| (:Person {name: \"Bonnie Hunt\", _id_: 1074, born: 1961})                                                                                                                                                                                                  |\n",
       "| (:Person {name: \"Regina King\", _id_: 1075, born: 1971})                                                                                                                                                                                                  |\n",
       "| (:Person {name: \"Jay Mohr\", _id_: 1073, born: 1970})                                                                                                                                                                                                     |\n",
       "| (:Person {name: \"Cameron Crowe\", _id_: 1077, born: 1957})                                                                                                                                                                                                |\n",
       "| (:Person {name: \"Jonathan Lipnicki\", _id_: 1076, born: 1996})                                                                                                                                                                                            |\n",
       "| (:Person {name: \"Jessica Thompson\", _id_: 1201})                                                                                                                                                                                                         |\n",
       "| (:Movie {tagline: \"The rest of his life begins now.\", _id_: 1069, title: \"Jerry Maguire\", released: 2000})                                                                                                                                               |\n",
       "| (:Person {name: \"Cuba Gooding Jr.\", _id_: 1054, born: 1968})                                                                                                                                                                                             |\n",
       "| (:Person {name: \"Christopher Guest\", _id_: 1058, born: 1948})                                                                                                                                                                                            |\n",
       "| (:Movie {tagline: \"In the heart of the nation's capital, in a courthouse of the U.S. government, one man will stop at nothing to keep his honor, and one will stop at nothing to find the truth.\", _id_: 1047, title: \"A Few Good Men\", released: 1992}) |\n",
       "| (:Person {name: \"Aaron Sorkin\", _id_: 1060, born: 1961})                                                                                                                                                                                                 |\n",
       "| (:Person {name: \"Carrie Fisher\", _id_: 1115, born: 1956})                                                                                                                                                                                                |\n",
       "| (:Person {name: \"Bruno Kirby\", _id_: 1116, born: 1949})                                                                                                                                                                                                  |\n",
       "| (:Person {name: \"Billy Crystal\", _id_: 1114, born: 1948})                                                                                                                                                                                                |\n",
       "| (:Person {name: \"Meg Ryan\", _id_: 1066, born: 1961})                                                                                                                                                                                                     |\n",
       "| (:Person {name: \"Nora Ephron\", _id_: 1104, born: 1941})                                                                                                                                                                                                  |\n",
       "| (:Movie {tagline: \"At odds in life... in love on-line.\", _id_: 1113, title: \"When Harry Met Sally\", released: 1998})                                                                                                                                     |\n",
       "| (:Person {name: \"Anthony Edwards\", _id_: 1064, born: 1962})                                                                                                                                                                                              |\n",
       "| (:Person {name: \"Val Kilmer\", _id_: 1063, born: 1959})                                                                                                                                                                                                   |\n",
       "| (:Person {name: \"Kelly McGillis\", _id_: 1062, born: 1957})                                                                                                                                                                                               |\n",
       "| (:Person {name: \"Tony Scott\", _id_: 1067, born: 1944})                                                                                                                                                                                                   |\n",
       "| (:Person {name: \"Jim Cash\", _id_: 1068, born: 1941})                                                                                                                                                                                                     |\n",
       "| (:Person {name: \"Tom Skerritt\", _id_: 1065, born: 1933})                                                                                                                                                                                                 |\n",
       "| (:Movie {tagline: \"I feel the need, the need for speed.\", _id_: 1061, title: \"Top Gun\", released: 1986})                                                                                                                                                 |\n",
       "| (:Person {name: \"Keanu Reeves\", _id_: 314, born: 1964})                                                                                                                                                                                                  |\n",
       "| (:Person {name: \"Diane Keaton\", _id_: 1187, born: 1946})                                                                                                                                                                                                 |\n",
       "| (:Person {name: \"Nancy Meyers\", _id_: 1188, born: 1949})                                                                                                                                                                                                 |\n",
       "| (:Movie {title: \"Something's Gotta Give\", _id_: 1186, released: 2003})                                                                                                                                                                                   |\n",
       "| (:Person {name: \"Milos Forman\", _id_: 1185, born: 1932})                                                                                                                                                                                                 |\n",
       "| (:Movie {tagline: \"If he's crazy, what does that make you?\", _id_: 1184, title: \"One Flew Over the Cuckoo's Nest\", released: 1975})                                                                                                                      |\n",
       "| (:Person {name: \"Frank Langella\", _id_: 1170, born: 1938})                                                                                                                                                                                               |\n",
       "| (:Person {name: \"Michael Clarke Duncan\", _id_: 1163, born: 1957})                                                                                                                                                                                        |\n",
       "| (:Person {name: \"Tom Hanks\", _id_: 1103, born: 1956})                                                                                                                                                                                                    |\n",
       "| (:Person {name: \"James Cromwell\", _id_: 1097, born: 1940})                                                                                                                                                                                               |\n",
       "| (:Person {name: \"David Morse\", _id_: 1164, born: 1953})                                                                                                                                                                                                  |\n",
       "| (:Person {name: \"Frank Darabont\", _id_: 1168, born: 1959})                                                                                                                                                                                               |\n",
       "| (:Person {name: \"Patricia Clarkson\", _id_: 1167, born: 1959})                                                                                                                                                                                            |\n",
       "| (:Person {name: \"Gary Sinise\", _id_: 1166, born: 1955})                                                                                                                                                                                                  |\n",
       "| (:Movie {tagline: \"Walk a mile you'll never forget.\", _id_: 1162, title: \"The Green Mile\", released: 1999})                                                                                                                                              |\n",
       "| (:Person {name: \"Sam Rockwell\", _id_: 1165, born: 1968})                                                                                                                                                                                                 |\n",
       "| (:Person {name: \"Chris Columbus\", _id_: 1190, born: 1958})                                                                                                                                                                                               |\n",
       "| (:Movie {tagline: \"One robot's 200 year journey to become an ordinary man.\", _id_: 1189, title: \"Bicentennial Man\", released: 1999})                                                                                                                     |\n",
       "| (:Person {name: \"Oliver Platt\", _id_: 1172, born: 1960})                                                                                                                                                                                                 |\n",
       "| (:Person {name: \"Michael Sheen\", _id_: 1171, born: 1969})                                                                                                                                                                                                |\n",
       "| (:Person {name: \"Paul Bettany\", _id_: 1146, born: 1971})                                                                                                                                                                                                 |\n",
       "| (:Person {name: \"Audrey Tautou\", _id_: 1145, born: 1976})                                                                                                                                                                                                |\n",
       "| (:Person {name: \"Ian McKellen\", _id_: 1144, born: 1939})                                                                                                                                                                                                 |\n",
       "| (:Person {name: \"James Thompson\", _id_: 1202})                                                                                                                                                                                                           |\n",
       "| (:Movie {tagline: \"Break The Codes\", _id_: 1143, title: \"The Da Vinci Code\", released: 2006})                                                                                                                                                            |\n",
       "| (:Person {name: \"Ed Harris\", _id_: 1177, born: 1950})                                                                                                                                                                                                    |\n",
       "| (:Person {name: \"Bill Paxton\", _id_: 1178, born: 1955})                                                                                                                                                                                                  |\n",
       "| (:Person {name: \"Kevin Bacon\", _id_: 1051, born: 1958})                                                                                                                                                                                                  |\n",
       "| (:Movie {tagline: \"Houston, we have a problem.\", _id_: 1176, title: \"Apollo 13\", released: 1995})                                                                                                                                                        |\n",
       "| (:Person {name: \"Ron Howard\", _id_: 1147, born: 1954})                                                                                                                                                                                                   |\n",
       "| (:Movie {tagline: \"400 million people were waiting for the truth.\", _id_: 1169, title: \"Frost/Nixon\", released: 2008})                                                                                                                                   |\n",
       "| (:Person {name: \"Zach Grenier\", _id_: 1126, born: 1954})                                                                                                                                                                                                 |\n",
       "| (:Person {name: \"Philip Seymour Hoffman\", _id_: 1180, born: 1967})                                                                                                                                                                                       |\n",
       "| (:Person {name: \"Jan de Bont\", _id_: 1181, born: 1943})                                                                                                                                                                                                  |\n",
       "| (:Movie {tagline: \"Don't Breathe. Don't Look Back.\", _id_: 1179, title: \"Twister\", released: 1996})                                                                                                                                                      |\n",
       "| (:Person {name: \"Lori Petty\", _id_: 1197, born: 1963})                                                                                                                                                                                                   |\n",
       "| (:Person {name: \"Rosie O'Donnell\", _id_: 1109, born: 1962})                                                                                                                                                                                              |\n",
       "| (:Person {name: \"Madonna\", _id_: 1195, born: 1954})                                                                                                                                                                                                      |\n",
       "| (:Person {name: \"Penny Marshall\", _id_: 1198, born: 1943})                                                                                                                                                                                               |\n",
       "| (:Person {name: \"Geena Davis\", _id_: 1196, born: 1956})                                                                                                                                                                                                  |\n",
       "| (:Movie {tagline: \"Once in a lifetime you get a chance to do something different.\", _id_: 1194, title: \"A League of Their Own\", released: 1992})                                                                                                         |\n",
       "| (:Person {name: \"Nathan Lane\", _id_: 1112, born: 1956})                                                                                                                                                                                                  |\n",
       "| (:Person {name: \"John Patrick Stanley\", _id_: 1111, born: 1950})                                                                                                                                                                                         |\n",
       "| (:Movie {tagline: \"A story of love, lava and burning desire.\", _id_: 1110, title: \"Joe Versus the Volcano\", released: 1990})                                                                                                                             |\n",
       "| (:Person {name: \"Charlize Theron\", _id_: 1044, born: 1975})                                                                                                                                                                                              |\n",
       "| (:Person {name: \"Liv Tyler\", _id_: 1118, born: 1977})                                                                                                                                                                                                    |\n",
       "| (:Movie {tagline: \"In every life there comes a time when that thing you dream becomes that thing you do\", _id_: 1117, title: \"That Thing You Do\", released: 1996})                                                                                       |\n",
       "| (:Person {name: \"Bill Pullman\", _id_: 1107, born: 1953})                                                                                                                                                                                                 |\n",
       "| (:Person {name: \"Victor Garber\", _id_: 1108, born: 1949})                                                                                                                                                                                                |\n",
       "| (:Person {name: \"Rita Wilson\", _id_: 1106, born: 1956})                                                                                                                                                                                                  |\n",
       "| (:Movie {tagline: \"What if someone you never met, someone you never saw, someone you never knew was the only someone for you?\", _id_: 1105, title: \"Sleepless in Seattle\", released: 1993})                                                              |\n",
       "| (:Person {name: \"Steve Zahn\", _id_: 1102, born: 1967})                                                                                                                                                                                                   |\n",
       "| (:Person {name: \"Dave Chappelle\", _id_: 1101, born: 1973})                                                                                                                                                                                               |\n",
       "| (:Person {name: \"Parker Posey\", _id_: 1100, born: 1968})                                                                                                                                                                                                 |\n",
       "| (:Movie {tagline: \"At odds in life... in love on-line.\", _id_: 1099, title: \"You've Got Mail\", released: 1998})                                                                                                                                          |\n",
       "| (:Person {name: \"Halle Berry\", _id_: 1138, born: 1966})                                                                                                                                                                                                  |\n",
       "| (:Person {name: \"Tom Tykwer\", _id_: 1140, born: 1965})                                                                                                                                                                                                   |\n",
       "| (:Person {name: \"Jim Broadbent\", _id_: 1139, born: 1949})                                                                                                                                                                                                |\n",
       "| (:Person {name: \"Stefan Arndt\", _id_: 1142, born: 1961})                                                                                                                                                                                                 |\n",
       "| (:Person {name: \"David Mitchell\", _id_: 1141, born: 1969})                                                                                                                                                                                               |\n",
       "| (:Movie {tagline: \"Everything is connected\", _id_: 1137, title: \"Cloud Atlas\", released: 2012})                                                                                                                                                          |\n",
       "| (:Person {name: \"Robert Zemeckis\", _id_: 1183, born: 1951})                                                                                                                                                                                              |\n",
       "| (:Movie {tagline: \"At the edge of the world, his journey begins.\", _id_: 1182, title: \"Cast Away\", released: 2000})                                                                                                                                      |\n",
       "| (:Person {name: \"Julia Roberts\", _id_: 1192, born: 1967})                                                                                                                                                                                                |\n",
       "| (:Person {name: \"Mike Nichols\", _id_: 1128, born: 1931})                                                                                                                                                                                                 |\n",
       "| (:Movie {tagline: \"A stiff drink. A little mascara. A lot of nerve. Who said they couldn't bring down the Soviet empire.\", _id_: 1191, title: \"Charlie Wilson's War\", released: 2007})                                                                   |\n",
       "| (:Movie {tagline: \"This Holiday Season… Believe\", _id_: 1193, title: \"The Polar Express\", released: 2004})                                                                                                                                               |\n",
       "+----------------------------------------------------------------------------------------------------------------------------------------------------------------------------------------------------------------------------------------------------------+\n",
       "\n",
       "135 rows available after 17 ms, consumed after another 7 ms"
      ]
     },
     "execution_count": 12,
     "metadata": {},
     "output_type": "execute_result"
    }
   ],
   "source": [
    "MATCH (bacon:Person {name:\"Kevin Bacon\"})-[*1..4]-(hollywood)\n",
    "RETURN DISTINCT hollywood"
   ]
  },
  {
   "cell_type": "markdown",
   "metadata": {
    "slideshow": {
     "slide_type": "subslide"
    }
   },
   "source": [
    "### Built-in `shortestPath()` algorithm"
   ]
  },
  {
   "cell_type": "code",
   "execution_count": 13,
   "metadata": {
    "slideshow": {
     "slide_type": "fragment"
    }
   },
   "outputs": [
    {
     "data": {
      "application/javascript": [
       "require([\"https://cdnjs.cloudflare.com/ajax/libs/vis/4.21.0/vis.min.js\"], function(vis) {\n",
       "  var nodes = new vis.DataSet([\n",
       "    { id: 1059, label: \"Person\", title: \"{name:Rob Reiner, born:1947, _id:1059,}\", color: 'rgb(178,248,79)'},\n",
       "    { id: 1066, label: \"Person\", title: \"{name:Meg Ryan, born:1961, _id:1066,}\", color: 'rgb(178,248,79)'},\n",
       "    { id: 1047, label: \"Movie\", title: \"{tagline:In the heart of the nation's capital, in a courthouse of the U.S. government, one man will stop at nothing to keep his honor, and one will stop at nothing to find the truth., title:A Few Good Men, released:1992, _id:1047,}\", color: 'rgb(236,200,123)'},\n",
       "    { id: 1051, label: \"Person\", title: \"{name:Kevin Bacon, born:1958, _id:1051,}\", color: 'rgb(178,248,79)'},\n",
       "    \n",
       "  ]);\n",
       "\n",
       "  // create an array with edges\n",
       "  var edges = new vis.DataSet([\n",
       "    { from: 1059,to: 1113, arrows:'to', title: \"{_id:1454,}\" },\n",
       "    { from: 1059,to: 1047, arrows:'to', title: \"{_id:1386,}\" },\n",
       "    { from: 1051,to: 1047, arrows:'to', title: \"{roles:['Capt. Jack Ross'], _id:1377,}\" },\n",
       "    { from: 1066,to: 1113, arrows:'to', title: \"{roles:['Sally Albright'], _id:1451,}\" },\n",
       "    \n",
       "  ]);\n",
       "\n",
       "  // create a network\n",
       "  var container = document.getElementById('4af42cbf-f8ef-4c7b-b45d-7e7f24136e24');\n",
       "  var data = {\n",
       "    nodes: nodes,\n",
       "    edges: edges\n",
       "  };\n",
       "\n",
       "  var options = {\n",
       "    edges: {\n",
       "      arrows: {\n",
       "        to: {\n",
       "          scaleFactor: 0.5\n",
       "        }\n",
       "      }\n",
       "    },\n",
       "    width: '100%',\n",
       "    height: '500px'\n",
       "  };\n",
       "\n",
       "  var network = new vis.Network(container, data, options);});"
      ]
     },
     "metadata": {},
     "output_type": "display_data"
    },
    {
     "data": {
      "text/html": [
       "<link href=\"https://cdnjs.cloudflare.com/ajax/libs/vis/4.21.0/vis.min.css\" rel=\"stylesheet\" type=\"text/css\">\n",
       "                <div id=\"4af42cbf-f8ef-4c7b-b45d-7e7f24136e24\"></div>\n",
       "                "
      ]
     },
     "metadata": {},
     "output_type": "display_data"
    },
    {
     "data": {
      "text/plain": [
       "\u001b[1m\u001b[m  (bacon:Person {name:\"Kevin Bacon\"})-[*]-(meg:Person {name:\"Meg Ryan\"})\n",
       "\n",
       "\u001b[1m\u001b[m)\n",
       "\n",
       "\u001b[1m\u001b[mRETURN p;\n",
       "\n",
       "+--------------------------------------------------------------------------------------------------------------------------------------------------------------------------------------------------------------------------------------------------------------------------------------------------------------------------------------------------------------------------------------------------------------------------------------------------------------------------------------------------------------------------------------------------------------------------------------------------------------------------------------------------------------------------------------------------------------------------------------------------------------+\n",
       "| p                                                                                                                                                                                                                                                                                                                                                                                                                                                                                                                                                                                                                                                                                                                                                            |\n",
       "+--------------------------------------------------------------------------------------------------------------------------------------------------------------------------------------------------------------------------------------------------------------------------------------------------------------------------------------------------------------------------------------------------------------------------------------------------------------------------------------------------------------------------------------------------------------------------------------------------------------------------------------------------------------------------------------------------------------------------------------------------------------+\n",
       "| (:Person {name: \"Kevin Bacon\", _id_: 1051, born: 1958})-[:ACTED_IN {_id_: 1377, roles: [\"Capt. Jack Ross\"]}[1051>1047]]->(:Movie {tagline: \"In the heart of the nation's capital, in a courthouse of the U.S. government, one man will stop at nothing to keep his honor, and one will stop at nothing to find the truth.\", _id_: 1047, title: \"A Few Good Men\", released: 1992})<-[:DIRECTED {_id_: 1386}[1059>1047]]-(:Person {name: \"Rob Reiner\", _id_: 1059, born: 1947})-[:DIRECTED {_id_: 1454}[1059>1113]]->(:Movie {tagline: \"At odds in life... in love on-line.\", _id_: 1113, title: \"When Harry Met Sally\", released: 1998})<-[:ACTED_IN {_id_: 1451, roles: [\"Sally Albright\"]}[1066>1113]]-(:Person {name: \"Meg Ryan\", _id_: 1066, born: 1961}) |\n",
       "+--------------------------------------------------------------------------------------------------------------------------------------------------------------------------------------------------------------------------------------------------------------------------------------------------------------------------------------------------------------------------------------------------------------------------------------------------------------------------------------------------------------------------------------------------------------------------------------------------------------------------------------------------------------------------------------------------------------------------------------------------------------+\n",
       "\n",
       "1 row available after 18 ms, consumed after another 98 ms"
      ]
     },
     "execution_count": 13,
     "metadata": {},
     "output_type": "execute_result"
    }
   ],
   "source": [
    "MATCH p=shortestPath(\n",
    "  (bacon:Person {name:\"Kevin Bacon\"})-[*]-(meg:Person {name:\"Meg Ryan\"})\n",
    ")\n",
    "RETURN p"
   ]
  },
  {
   "cell_type": "markdown",
   "metadata": {
    "slideshow": {
     "slide_type": "slide"
    }
   },
   "source": [
    "## Recommend\n",
    "\n",
    "Let's recommend new co-actors for Tom Hanks. A basic recommendation approach is to find connections past an immediate neighborhood which are themselves well connected.\n",
    "\n",
    "For Tom Hanks, that means:\n",
    "\n",
    "  1. Find actors that Tom Hanks hasn't yet worked with, but his co-actors have.\n",
    "  2. Find someone who can introduce Tom to his potential co-actor.\n",
    "  \n",
    "  \n",
    "Extend Tom Hanks co-actors, to find co-co-actors who haven't work with Tom Hanks..."
   ]
  },
  {
   "cell_type": "code",
   "execution_count": 14,
   "metadata": {
    "slideshow": {
     "slide_type": "subslide"
    }
   },
   "outputs": [
    {
     "data": {
      "text/plain": [
       "\n",
       "\u001b[1m\u001b[m      (coActors)-[:ACTED_IN]->(m2)<-[:ACTED_IN]-(cocoActors)\n",
       "\n",
       "\u001b[1m\u001b[mWHERE NOT (tom)-[:ACTED_IN]->()<-[:ACTED_IN]-(cocoActors) AND tom <> coco \n",
       "Actors\n",
       "\n",
       "\u001b[1m\u001b[mRETURN cocoActors.name AS Recommended, count(*) AS Strength ORDER BY Stre \n",
       "ngth DESC;\n",
       "\n",
       "+---------------------------------+\n",
       "| Recommended          | Strength |\n",
       "+---------------------------------+\n",
       "| \"Tom Cruise\"         | 5        |\n",
       "| \"Zach Grenier\"       | 5        |\n",
       "| \"Cuba Gooding Jr.\"   | 4        |\n",
       "| \"Keanu Reeves\"       | 4        |\n",
       "| \"Tom Skerritt\"       | 3        |\n",
       "| \"Carrie-Anne Moss\"   | 3        |\n",
       "| \"Val Kilmer\"         | 3        |\n",
       "| \"Bruno Kirby\"        | 3        |\n",
       "| \"Billy Crystal\"      | 3        |\n",
       "| \"Carrie Fisher\"      | 3        |\n",
       "| \"Kelly McGillis\"     | 3        |\n",
       "| \"Anthony Edwards\"    | 3        |\n",
       "| \"Laurence Fishburne\" | 3        |\n",
       "| \"Jack Nicholson\"     | 3        |\n",
       "| \"Michael Sheen\"      | 2        |\n",
       "| \"Frank Langella\"     | 2        |\n",
       "| \"Oliver Platt\"       | 2        |\n",
       "| \"Emil Eifrem\"        | 1        |\n",
       "| \"Jay Mohr\"           | 1        |\n",
       "| \"Stephen Rea\"        | 1        |\n",
       "| \"Ben Miles\"          | 1        |\n",
       "| \"Renee Zellweger\"    | 1        |\n",
       "| \"Kevin Pollak\"       | 1        |\n",
       "| \"Regina King\"        | 1        |\n",
       "| \"Natalie Portman\"    | 1        |\n",
       "| \"Rick Yune\"          | 1        |\n",
       "| \"Gene Hackman\"       | 1        |\n",
       "| \"J.T. Walsh\"         | 1        |\n",
       "| \"Christopher Guest\"  | 1        |\n",
       "| \"Al Pacino\"          | 1        |\n",
       "| \"Marshall Bell\"      | 1        |\n",
       "| \"Ethan Hawke\"        | 1        |\n",
       "| \"Kelly Preston\"      | 1        |\n",
       "| \"Jonathan Lipnicki\"  | 1        |\n",
       "| \"James Marshall\"     | 1        |\n",
       "| \"Demi Moore\"         | 1        |\n",
       "| \"Jerry O'Connell\"    | 1        |\n",
       "| \"Max von Sydow\"      | 1        |\n",
       "| \"Noah Wyle\"          | 1        |\n",
       "| \"Kiefer Sutherland\"  | 1        |\n",
       "| \"Aaron Sorkin\"       | 1        |\n",
       "| \"John Hurt\"          | 1        |\n",
       "| \"Christian Bale\"     | 1        |\n",
       "| \"Robin Williams\"     | 1        |\n",
       "+---------------------------------+\n",
       "\n",
       "44 rows available after 37 ms, consumed after another 0 ms"
      ]
     },
     "execution_count": 14,
     "metadata": {},
     "output_type": "execute_result"
    }
   ],
   "source": [
    "MATCH (tom:Person {name:\"Tom Hanks\"})-[:ACTED_IN]->(m)<-[:ACTED_IN]-(coActors),\n",
    "      (coActors)-[:ACTED_IN]->(m2)<-[:ACTED_IN]-(cocoActors)\n",
    "WHERE NOT (tom)-[:ACTED_IN]->()<-[:ACTED_IN]-(cocoActors) AND tom <> cocoActors\n",
    "RETURN cocoActors.name AS Recommended, count(*) AS Strength ORDER BY Strength DESC"
   ]
  },
  {
   "cell_type": "markdown",
   "metadata": {
    "slideshow": {
     "slide_type": "subslide"
    }
   },
   "source": [
    "Find someone to introduce Tom Hanks to Tom Cruise"
   ]
  },
  {
   "cell_type": "code",
   "execution_count": 16,
   "metadata": {
    "slideshow": {
     "slide_type": "fragment"
    }
   },
   "outputs": [
    {
     "data": {
      "application/javascript": [
       "require([\"https://cdnjs.cloudflare.com/ajax/libs/vis/4.21.0/vis.min.js\"], function(vis) {\n",
       "  var nodes = new vis.DataSet([\n",
       "    { id: 1074, label: \"Person\", title: \"{name:Bonnie Hunt, born:1961, _id:1074,}\", color: 'rgb(178,248,79)'},\n",
       "    { id: 1048, label: \"Person\", title: \"{name:Tom Cruise, born:1962, _id:1048,}\", color: 'rgb(178,248,79)'},\n",
       "    { id: 1162, label: \"Movie\", title: \"{tagline:Walk a mile you'll never forget., title:The Green Mile, released:1999, _id:1162,}\", color: 'rgb(236,200,123)'},\n",
       "    { id: 1176, label: \"Movie\", title: \"{tagline:Houston, we have a problem., title:Apollo 13, released:1995, _id:1176,}\", color: 'rgb(236,200,123)'},\n",
       "    { id: 1061, label: \"Movie\", title: \"{tagline:I feel the need, the need for speed., title:Top Gun, released:1986, _id:1061,}\", color: 'rgb(236,200,123)'},\n",
       "    { id: 1110, label: \"Movie\", title: \"{tagline:A story of love, lava and burning desire., title:Joe Versus the Volcano, released:1990, _id:1110,}\", color: 'rgb(236,200,123)'},\n",
       "    { id: 1099, label: \"Movie\", title: \"{tagline:At odds in life... in love on-line., title:You've Got Mail, released:1998, _id:1099,}\", color: 'rgb(236,200,123)'},\n",
       "    { id: 1051, label: \"Person\", title: \"{name:Kevin Bacon, born:1958, _id:1051,}\", color: 'rgb(178,248,79)'},\n",
       "    { id: 1047, label: \"Movie\", title: \"{tagline:In the heart of the nation's capital, in a courthouse of the U.S. government, one man will stop at nothing to keep his honor, and one will stop at nothing to find the truth., title:A Few Good Men, released:1992, _id:1047,}\", color: 'rgb(236,200,123)'},\n",
       "    { id: 1069, label: \"Movie\", title: \"{tagline:The rest of his life begins now., title:Jerry Maguire, released:2000, _id:1069,}\", color: 'rgb(236,200,123)'},\n",
       "    { id: 1066, label: \"Person\", title: \"{name:Meg Ryan, born:1961, _id:1066,}\", color: 'rgb(178,248,79)'},\n",
       "    { id: 1103, label: \"Person\", title: \"{name:Tom Hanks, born:1956, _id:1103,}\", color: 'rgb(178,248,79)'},\n",
       "    { id: 1105, label: \"Movie\", title: \"{tagline:What if someone you never met, someone you never saw, someone you never knew was the only someone for you?, title:Sleepless in Seattle, released:1993, _id:1105,}\", color: 'rgb(236,200,123)'},\n",
       "    \n",
       "  ]);\n",
       "\n",
       "  // create an array with edges\n",
       "  var edges = new vis.DataSet([\n",
       "    { from: 1103,to: 1099, arrows:'to', title: \"{roles:['Joe Fox'], _id:1432,}\" },\n",
       "    { from: 1074,to: 1069, arrows:'to', title: \"{roles:['Laurel Boyd'], _id:1402,}\" },\n",
       "    { from: 1074,to: 1162, arrows:'to', title: \"{roles:['Jan Edgecomb'], _id:1533,}\" },\n",
       "    { from: 1103,to: 1110, arrows:'to', title: \"{roles:['Joe Banks'], _id:1446,}\" },\n",
       "    { from: 1048,to: 1047, arrows:'to', title: \"{roles:['Lt. Daniel Kaffee'], _id:1374,}\" },\n",
       "    { from: 1103,to: 1105, arrows:'to', title: \"{roles:['Sam Baldwin'], _id:1439,}\" },\n",
       "    { from: 1066,to: 1099, arrows:'to', title: \"{roles:['Kathleen Kelly'], _id:1433,}\" },\n",
       "    { from: 1066,to: 1105, arrows:'to', title: \"{roles:['Annie Reed'], _id:1440,}\" },\n",
       "    { from: 1103,to: 1176, arrows:'to', title: \"{roles:['Jim Lovell'], _id:1550,}\" },\n",
       "    { from: 1051,to: 1176, arrows:'to', title: \"{roles:['Jack Swigert'], _id:1551,}\" },\n",
       "    { from: 1048,to: 1061, arrows:'to', title: \"{roles:['Maverick'], _id:1388,}\" },\n",
       "    { from: 1066,to: 1061, arrows:'to', title: \"{roles:['Carole'], _id:1393,}\" },\n",
       "    { from: 1066,to: 1110, arrows:'to', title: \"{roles:['DeDe', 'Angelica Graynamore', 'Patricia Graynamore'], _id:1447,}\" },\n",
       "    { from: 1048,to: 1069, arrows:'to', title: \"{roles:['Jerry Maguire'], _id:1396,}\" },\n",
       "    { from: 1103,to: 1162, arrows:'to', title: \"{roles:['Paul Edgecomb'], _id:1530,}\" },\n",
       "    { from: 1051,to: 1047, arrows:'to', title: \"{roles:['Capt. Jack Ross'], _id:1377,}\" },\n",
       "    \n",
       "  ]);\n",
       "\n",
       "  // create a network\n",
       "  var container = document.getElementById('e201b0f4-f2fe-4809-ab27-cf152efaa720');\n",
       "  var data = {\n",
       "    nodes: nodes,\n",
       "    edges: edges\n",
       "  };\n",
       "\n",
       "  var options = {\n",
       "    edges: {\n",
       "      arrows: {\n",
       "        to: {\n",
       "          scaleFactor: 0.5\n",
       "        }\n",
       "      }\n",
       "    },\n",
       "    width: '100%',\n",
       "    height: '500px'\n",
       "  };\n",
       "\n",
       "  var network = new vis.Network(container, data, options);});"
      ]
     },
     "metadata": {},
     "output_type": "display_data"
    },
    {
     "data": {
      "text/html": [
       "<link href=\"https://cdnjs.cloudflare.com/ajax/libs/vis/4.21.0/vis.min.css\" rel=\"stylesheet\" type=\"text/css\">\n",
       "                <div id=\"e201b0f4-f2fe-4809-ab27-cf152efaa720\"></div>\n",
       "                "
      ]
     },
     "metadata": {},
     "output_type": "display_data"
    },
    {
     "data": {
      "text/plain": [
       "\n",
       "\u001b[1m\u001b[m      (coActors)-[c:ACTED_IN]->(m2)<-[d:ACTED_IN]-(cruise:Person {name:\"T \n",
       "om Cruise\"})\n",
       "\n",
       "\u001b[1m\u001b[mRETURN tom, a, m, b, coActors, c, m2, d, cruise;\n",
       "\n",
       "+----------------------------------------------------------------------------------------------------------------------------------------------------------------------------------------------------------------------------------------------------------------------------------------------------------------------------------------------------------------------------------------------------------------------------------------------------------------------------------------------------------------------------------------------------------------------------------------------------------------------------------------------------------------------------------------------------------------------------------------------------------------------------------------------------------------------------------------------------------------------------------------------------------------------------------------------+\n",
       "| tom                                                   | a                                                             | m                                                                                                                                                                                           | b                                                                                                  | coActors                                                | c                                                               | m2                                                                                                                                                                                                                                                       | d                                                                 | cruise                                                 |\n",
       "+----------------------------------------------------------------------------------------------------------------------------------------------------------------------------------------------------------------------------------------------------------------------------------------------------------------------------------------------------------------------------------------------------------------------------------------------------------------------------------------------------------------------------------------------------------------------------------------------------------------------------------------------------------------------------------------------------------------------------------------------------------------------------------------------------------------------------------------------------------------------------------------------------------------------------------------------+\n",
       "| (:Person {name: \"Tom Hanks\", _id_: 1103, born: 1956}) | [:ACTED_IN {_id_: 1446, roles: [\"Joe Banks\"]}[1103>1110]]     | (:Movie {tagline: \"A story of love, lava and burning desire.\", _id_: 1110, title: \"Joe Versus the Volcano\", released: 1990})                                                                | [:ACTED_IN {_id_: 1447, roles: [\"DeDe\", \"Angelica Graynamore\", \"Patricia Graynamore\"]}[1066>1110]] | (:Person {name: \"Meg Ryan\", _id_: 1066, born: 1961})    | [:ACTED_IN {_id_: 1393, roles: [\"Carole\"]}[1066>1061]]          | (:Movie {tagline: \"I feel the need, the need for speed.\", _id_: 1061, title: \"Top Gun\", released: 1986})                                                                                                                                                 | [:ACTED_IN {_id_: 1388, roles: [\"Maverick\"]}[1048>1061]]          | (:Person {name: \"Tom Cruise\", _id_: 1048, born: 1962}) |\n",
       "| (:Person {name: \"Tom Hanks\", _id_: 1103, born: 1956}) | [:ACTED_IN {_id_: 1439, roles: [\"Sam Baldwin\"]}[1103>1105]]   | (:Movie {tagline: \"What if someone you never met, someone you never saw, someone you never knew was the only someone for you?\", _id_: 1105, title: \"Sleepless in Seattle\", released: 1993}) | [:ACTED_IN {_id_: 1440, roles: [\"Annie Reed\"]}[1066>1105]]                                         | (:Person {name: \"Meg Ryan\", _id_: 1066, born: 1961})    | [:ACTED_IN {_id_: 1393, roles: [\"Carole\"]}[1066>1061]]          | (:Movie {tagline: \"I feel the need, the need for speed.\", _id_: 1061, title: \"Top Gun\", released: 1986})                                                                                                                                                 | [:ACTED_IN {_id_: 1388, roles: [\"Maverick\"]}[1048>1061]]          | (:Person {name: \"Tom Cruise\", _id_: 1048, born: 1962}) |\n",
       "| (:Person {name: \"Tom Hanks\", _id_: 1103, born: 1956}) | [:ACTED_IN {_id_: 1432, roles: [\"Joe Fox\"]}[1103>1099]]       | (:Movie {tagline: \"At odds in life... in love on-line.\", _id_: 1099, title: \"You've Got Mail\", released: 1998})                                                                             | [:ACTED_IN {_id_: 1433, roles: [\"Kathleen Kelly\"]}[1066>1099]]                                     | (:Person {name: \"Meg Ryan\", _id_: 1066, born: 1961})    | [:ACTED_IN {_id_: 1393, roles: [\"Carole\"]}[1066>1061]]          | (:Movie {tagline: \"I feel the need, the need for speed.\", _id_: 1061, title: \"Top Gun\", released: 1986})                                                                                                                                                 | [:ACTED_IN {_id_: 1388, roles: [\"Maverick\"]}[1048>1061]]          | (:Person {name: \"Tom Cruise\", _id_: 1048, born: 1962}) |\n",
       "| (:Person {name: \"Tom Hanks\", _id_: 1103, born: 1956}) | [:ACTED_IN {_id_: 1530, roles: [\"Paul Edgecomb\"]}[1103>1162]] | (:Movie {tagline: \"Walk a mile you'll never forget.\", _id_: 1162, title: \"The Green Mile\", released: 1999})                                                                                 | [:ACTED_IN {_id_: 1533, roles: [\"Jan Edgecomb\"]}[1074>1162]]                                       | (:Person {name: \"Bonnie Hunt\", _id_: 1074, born: 1961}) | [:ACTED_IN {_id_: 1402, roles: [\"Laurel Boyd\"]}[1074>1069]]     | (:Movie {tagline: \"The rest of his life begins now.\", _id_: 1069, title: \"Jerry Maguire\", released: 2000})                                                                                                                                               | [:ACTED_IN {_id_: 1396, roles: [\"Jerry Maguire\"]}[1048>1069]]     | (:Person {name: \"Tom Cruise\", _id_: 1048, born: 1962}) |\n",
       "| (:Person {name: \"Tom Hanks\", _id_: 1103, born: 1956}) | [:ACTED_IN {_id_: 1550, roles: [\"Jim Lovell\"]}[1103>1176]]    | (:Movie {tagline: \"Houston, we have a problem.\", _id_: 1176, title: \"Apollo 13\", released: 1995})                                                                                           | [:ACTED_IN {_id_: 1551, roles: [\"Jack Swigert\"]}[1051>1176]]                                       | (:Person {name: \"Kevin Bacon\", _id_: 1051, born: 1958}) | [:ACTED_IN {_id_: 1377, roles: [\"Capt. Jack Ross\"]}[1051>1047]] | (:Movie {tagline: \"In the heart of the nation's capital, in a courthouse of the U.S. government, one man will stop at nothing to keep his honor, and one will stop at nothing to find the truth.\", _id_: 1047, title: \"A Few Good Men\", released: 1992}) | [:ACTED_IN {_id_: 1374, roles: [\"Lt. Daniel Kaffee\"]}[1048>1047]] | (:Person {name: \"Tom Cruise\", _id_: 1048, born: 1962}) |\n",
       "+----------------------------------------------------------------------------------------------------------------------------------------------------------------------------------------------------------------------------------------------------------------------------------------------------------------------------------------------------------------------------------------------------------------------------------------------------------------------------------------------------------------------------------------------------------------------------------------------------------------------------------------------------------------------------------------------------------------------------------------------------------------------------------------------------------------------------------------------------------------------------------------------------------------------------------------------+\n",
       "\n",
       "5 rows available after 43 ms, consumed after another 2 ms"
      ]
     },
     "execution_count": 16,
     "metadata": {},
     "output_type": "execute_result"
    }
   ],
   "source": [
    "MATCH (tom:Person {name:\"Tom Hanks\"})-[a:ACTED_IN]->(m)<-[b:ACTED_IN]-(coActors),\n",
    "      (coActors)-[c:ACTED_IN]->(m2)<-[d:ACTED_IN]-(cruise:Person {name:\"Tom Cruise\"})\n",
    "RETURN tom, a, m, b, coActors, c, m2, d, cruise"
   ]
  },
  {
   "cell_type": "markdown",
   "metadata": {
    "slideshow": {
     "slide_type": "slide"
    }
   },
   "source": [
    "## Clean up\n",
    "\n",
    "When you're done experimenting, you can remove the movie data set.\n",
    "\n",
    "Note:\n",
    "\n",
    "  1. Nodes can't be deleted if relationships exist\n",
    "  2. Delete both nodes and relationships together\n",
    " \n",
    "**WARNING:** The following query will remove all nodes and relations in your database!"
   ]
  },
  {
   "cell_type": "code",
   "execution_count": 18,
   "metadata": {
    "slideshow": {
     "slide_type": "fragment"
    }
   },
   "outputs": [
    {
     "data": {
      "text/plain": [
       "0 rows available after 3 ms, consumed after another 0 ms\n",
       "Deleted 171 nodes, Deleted 253 relationships"
      ]
     },
     "execution_count": 18,
     "metadata": {},
     "output_type": "execute_result"
    }
   ],
   "source": [
    "MATCH (n) DETACH DELETE n"
   ]
  },
  {
   "cell_type": "markdown",
   "metadata": {
    "slideshow": {
     "slide_type": "fragment"
    }
   },
   "source": [
    "Check that the Movie Graph is gone..."
   ]
  },
  {
   "cell_type": "code",
   "execution_count": 19,
   "metadata": {
    "slideshow": {
     "slide_type": "fragment"
    }
   },
   "outputs": [
    {
     "data": {
      "text/plain": [
       "0 rows available after 7 ms, consumed after another 0 ms"
      ]
     },
     "execution_count": 19,
     "metadata": {},
     "output_type": "execute_result"
    }
   ],
   "source": [
    "MATCH (n) RETURN n"
   ]
  }
 ],
 "metadata": {
  "celltoolbar": "Slideshow",
  "kernelspec": {
   "display_name": "Cypher",
   "language": "cypher",
   "name": "cypher"
  },
  "language_info": {
   "file_extension": ".cql",
   "mimetype": "text/cypher",
   "name": "Any text"
  }
 },
 "nbformat": 4,
 "nbformat_minor": 2
}
