{
 "cells": [
  {
   "cell_type": "markdown",
   "metadata": {},
   "source": [
    "# Creating Nodes\n",
    "\n",
    "Let's create a small graph of a bike with two wheels. The query is taken from the following example:\n",
    "https://neo4j.com/docs/developer-manual/3.4-preview/http-api/#rest-api-return-results-in-graph-format"
   ]
  },
  {
   "cell_type": "code",
   "execution_count": 12,
   "metadata": {},
   "outputs": [
    {
     "data": {
      "application/javascript": [
       "require([\"https://d3js.org/d3.v3.min.js\"]);"
      ]
     },
     "metadata": {},
     "output_type": "display_data"
    },
    {
     "data": {
      "text/html": [
       "<html>\n",
       "<head>\n",
       "  <link rel=\"stylesheet\" href=\"https://cdnjs.cloudflare.com/ajax/libs/alchemyjs/0.4.2/alchemy.min.css\" />\n",
       "</head>\n",
       "<body>\n",
       "  <div class=\"alchemy\" id=\"alchemy\"></div>\n",
       "  <script src=\"https://d3js.org/d3.v3.min.js\" charset=\"utf-8\"></script>\n",
       "  <script src=\"https://cdnjs.cloudflare.com/ajax/libs/alchemyjs/0.4.2/alchemy.min.js\"></script>\n",
       "  <script src=\"https://cdnjs.cloudflare.com/ajax/libs/alchemyjs/0.4.2/scripts/vendor.js\"></script>\n",
       "  <script type=\"text/javascript\">\n",
       "    var json = {\n",
       "    \"nodes\": [\n",
       "              { \"id\": \"589\",\n",
       "                 \"type\": \"Bike\", \n",
       "                 \"caption\": \"{'weight': 10}\" },\n",
       "              \n",
       "              { \"id\": \"591\",\n",
       "                 \"type\": \"Wheel\", \n",
       "                 \"caption\": \"{'spokes': 32}\" },\n",
       "              \n",
       "              { \"id\": \"590\",\n",
       "                 \"type\": \"Wheel\", \n",
       "                 \"caption\": \"{'spokes': 3}\" },\n",
       "              ],\n",
       "    \"edges\": [\n",
       "              { \"source\": \"589\",\n",
       "                 \"target\": \"590\", \n",
       "                 \"caption\": \"{'position': 1}\" },\n",
       "              \n",
       "              { \"source\": \"589\",\n",
       "                 \"target\": \"591\", \n",
       "                 \"caption\": \"{'position': 2}\" },\n",
       "              ],\n",
       "};\n",
       "    var config = {\n",
       "      dataSource: json,\n",
       "      forceLocked: false,\n",
       "      graphHeight: function(){ return 400; },\n",
       "      graphWidth: function(){ return 400; },      \n",
       "      linkDistance: function(){ return 40; },\n",
       "    };\n",
       "    \n",
       "    alchemy = new Alchemy(config);\n",
       "  </script>\n",
       "</body>\n",
       "\n",
       "</html>"
      ]
     },
     "metadata": {},
     "output_type": "display_data"
    },
    {
     "data": {},
     "execution_count": 12,
     "metadata": {},
     "output_type": "execute_result"
    }
   ],
   "source": [
    "CREATE ( bike:Bike { weight: 10 } ) \n",
    "CREATE ( frontWheel:Wheel { spokes: 3 } ) \n",
    "CREATE ( backWheel:Wheel { spokes: 32 } ) \n",
    "CREATE p1 = (bike)-[:HAS { position: 1 } ]->(frontWheel) \n",
    "CREATE p2 = (bike)-[:HAS { position: 2 } ]->(backWheel) \n",
    "RETURN bike, p1, p2"
   ]
  },
  {
   "cell_type": "code",
   "execution_count": 4,
   "metadata": {},
   "outputs": [
    {
     "data": {
      "application/javascript": [
       "require([\"https://d3js.org/d3.v3.min.js\"]);"
      ]
     },
     "metadata": {},
     "output_type": "display_data"
    },
    {
     "data": {
      "text/html": [
       "<html>\n",
       "<head>\n",
       "  <link rel=\"stylesheet\" href=\"https://cdnjs.cloudflare.com/ajax/libs/alchemyjs/0.4.2/alchemy.min.css\" />\n",
       "</head>\n",
       "<body>\n",
       "  <div class=\"alchemy\" id=\"alchemy\"></div>\n",
       "  <script src=\"https://d3js.org/d3.v3.min.js\" charset=\"utf-8\"></script>\n",
       "  <script src=\"https://cdnjs.cloudflare.com/ajax/libs/alchemyjs/0.4.2/alchemy.min.js\"></script>\n",
       "  <script src=\"https://cdnjs.cloudflare.com/ajax/libs/alchemyjs/0.4.2/scripts/vendor.js\"></script>\n",
       "  <script type=\"text/javascript\">\n",
       "    var json = {\n",
       "    \"nodes\": [\n",
       "              { \"id\": \"594\",\n",
       "                 \"type\": \"Wheel\", \n",
       "                 \"caption\": \"{'spokes': 32}\" },\n",
       "              \n",
       "              { \"id\": \"592\",\n",
       "                 \"type\": \"Bike\", \n",
       "                 \"caption\": \"{'weight': 10}\" },\n",
       "              \n",
       "              { \"id\": \"593\",\n",
       "                 \"type\": \"Wheel\", \n",
       "                 \"caption\": \"{'spokes': 3}\" },\n",
       "              ],\n",
       "    \"edges\": [\n",
       "              { \"source\": \"592\",\n",
       "                 \"target\": \"594\", \n",
       "                 \"caption\": \"{'position': 2}\" },\n",
       "              \n",
       "              { \"source\": \"592\",\n",
       "                 \"target\": \"593\", \n",
       "                 \"caption\": \"{'position': 1}\" },\n",
       "              ],\n",
       "};\n",
       "    var config = {\n",
       "      dataSource: json,\n",
       "      forceLocked: false,\n",
       "      graphHeight: function(){ return 400; },\n",
       "      graphWidth: function(){ return 400; },      \n",
       "      linkDistance: function(){ return 40; },\n",
       "    };\n",
       "    \n",
       "    alchemy = new Alchemy(config);\n",
       "  </script>\n",
       "</body>\n",
       "\n",
       "</html>"
      ]
     },
     "metadata": {},
     "output_type": "display_data"
    },
    {
     "data": {
      "text/plain": [
       "[\"(:Bike {'weight': 10, '<_id>': 592})\", \"(:Wheel {'spokes': 32, '<_id>': 594})\", \"(:Bike {'weight': 10, '<_id>': 592})\", \"(:Wheel {'spokes': 3, '<_id>': 593})\", \"(:Bike {'weight': 10, '<_id>': 592})\", \"(:Wheel {'spokes': 3, '<_id>': 593})\", \"(:Bike {'weight': 10, '<_id>': 592})\", \"(:Wheel {'spokes': 32, '<_id>': 594})\"][\"[:HAS {'position': 2, '<_id>': 809}]\", \"[:HAS {'position': 1, '<_id>': 808}]\", \"[:HAS {'position': 1, '<_id>': 808}]\", \"[:HAS {'position': 2, '<_id>': 809}]\"]"
      ]
     },
     "execution_count": 4,
     "metadata": {},
     "output_type": "execute_result"
    }
   ],
   "source": [
    "MATCH (b)-[h:HAS]-(w) RETURN b, h, w"
   ]
  },
  {
   "cell_type": "code",
   "execution_count": null,
   "metadata": {
    "collapsed": true
   },
   "outputs": [],
   "source": [
    "MATCH (w:Wheel) RETURN count(w)"
   ]
  },
  {
   "cell_type": "markdown",
   "metadata": {},
   "source": [
    "# Syntax Errors\n",
    "\n",
    "The following query contains an incomplete keyword, which should display an error message."
   ]
  },
  {
   "cell_type": "code",
   "execution_count": 2,
   "metadata": {},
   "outputs": [
    {
     "data": {
      "text/plain": [
       "{'code': 'Neo.ClientError.Statement.SyntaxError', 'message': 'Invalid input \\' \\': expected \\'t/T\\' (line 1, column 3 (offset: 2))\\n\"MA (w:Wheel) RETURN count(w)\"\\n   ^'}"
      ]
     },
     "execution_count": 2,
     "metadata": {},
     "output_type": "execute_result"
    }
   ],
   "source": [
    "MA (w:Wheel) RETURN count(w)"
   ]
  },
  {
   "cell_type": "markdown",
   "metadata": {},
   "source": [
    "# Cleaning the DB"
   ]
  },
  {
   "cell_type": "code",
   "execution_count": 11,
   "metadata": {},
   "outputs": [
    {
     "data": {
      "application/javascript": [
       "require([\"https://d3js.org/d3.v3.min.js\"]);"
      ]
     },
     "metadata": {},
     "output_type": "display_data"
    },
    {
     "data": {
      "text/html": [
       "<html>\n",
       "<head>\n",
       "  <link rel=\"stylesheet\" href=\"https://cdnjs.cloudflare.com/ajax/libs/alchemyjs/0.4.2/alchemy.min.css\" />\n",
       "</head>\n",
       "<body>\n",
       "  <div class=\"alchemy\" id=\"alchemy\"></div>\n",
       "  <script src=\"https://d3js.org/d3.v3.min.js\" charset=\"utf-8\"></script>\n",
       "  <script src=\"https://cdnjs.cloudflare.com/ajax/libs/alchemyjs/0.4.2/alchemy.min.js\"></script>\n",
       "  <script src=\"https://cdnjs.cloudflare.com/ajax/libs/alchemyjs/0.4.2/scripts/vendor.js\"></script>\n",
       "  <script type=\"text/javascript\">\n",
       "    var json = {\n",
       "    \"nodes\": [],\n",
       "    \"edges\": [],\n",
       "};\n",
       "    var config = {\n",
       "      dataSource: json,\n",
       "      forceLocked: false,\n",
       "      graphHeight: function(){ return 400; },\n",
       "      graphWidth: function(){ return 400; },      \n",
       "      linkDistance: function(){ return 40; },\n",
       "    };\n",
       "    \n",
       "    alchemy = new Alchemy(config);\n",
       "  </script>\n",
       "</body>\n",
       "\n",
       "</html>"
      ]
     },
     "metadata": {},
     "output_type": "display_data"
    },
    {
     "data": {},
     "execution_count": 11,
     "metadata": {},
     "output_type": "execute_result"
    }
   ],
   "source": [
    "MATCH (n) DETACH DELETE n"
   ]
  }
 ],
 "metadata": {
  "kernelspec": {
   "display_name": "Cypher",
   "language": "cypher",
   "name": "cypher"
  },
  "language_info": {
   "file_extension": ".cql",
   "mimetype": "text/cypher",
   "name": "Any text"
  }
 },
 "nbformat": 4,
 "nbformat_minor": 2
}
